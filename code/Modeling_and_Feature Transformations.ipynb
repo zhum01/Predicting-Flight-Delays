{
 "cells": [
  {
   "cell_type": "code",
   "execution_count": 0,
   "metadata": {
    "application/vnd.databricks.v1+cell": {
     "inputWidgets": {},
     "nuid": "3491b463-ee5d-4feb-869e-6ddb95469981",
     "showTitle": false,
     "title": ""
    }
   },
   "outputs": [
    {
     "data": {
      "text/html": [
       "<style scoped>\n",
       "  .ansiout {\n",
       "    display: block;\n",
       "    unicode-bidi: embed;\n",
       "    white-space: pre-wrap;\n",
       "    word-wrap: break-word;\n",
       "    word-break: break-all;\n",
       "    font-family: \"Source Code Pro\", \"Menlo\", monospace;;\n",
       "    font-size: 13px;\n",
       "    color: #555;\n",
       "    margin-left: 4px;\n",
       "    line-height: 19px;\n",
       "  }\n",
       "</style>\n",
       "<div class=\"ansiout\"></div>"
      ]
     },
     "metadata": {
      "application/vnd.databricks.v1+output": {
       "addedWidgets": {},
       "arguments": {},
       "data": "<div class=\"ansiout\"></div>",
       "datasetInfos": [],
       "removedWidgets": [],
       "type": "html"
      }
     },
     "output_type": "display_data"
    }
   ],
   "source": [
    "# load in raw flights and weather data\n",
    "\n",
    "from pyspark.sql import functions as f\n",
    "from pyspark.sql.types import StructType, StructField, StringType, DoubleType, IntegerType, NullType, ShortType, DateType, BooleanType, BinaryType, FloatType, IntegerType\n",
    "from pyspark.sql import SQLContext\n",
    "from pyspark.sql import Row\n",
    "\n",
    "from pyspark.ml.feature import OneHotEncoder, StringIndexer, VectorAssembler, FeatureHasher, StandardScaler, IndexToString\n",
    "from pyspark.ml import Pipeline\n",
    "from pyspark.ml.classification import LogisticRegression, RandomForestClassifier\n",
    "from pyspark.mllib.regression import LabeledPoint\n",
    "from pyspark.ml.linalg import SparseVector, DenseVector, VectorUDT\n",
    "from pyspark.ml.tuning import CrossValidator, ParamGridBuilder, CrossValidatorModel\n",
    "# from pyspark.mllib.evaluation import BinaryClassificationMetrics, MulticlassMetrics\n",
    "from pyspark.ml.evaluation import BinaryClassificationEvaluator, MulticlassClassificationEvaluator\n",
    "from pyspark.mllib.evaluation import MulticlassMetrics, BinaryClassificationMetrics\n",
    "\n",
    "from sklearn.metrics import classification_report, confusion_matrix, accuracy_score\n",
    "from sklearn import neighbors\n",
    "# from pyspark.mllib.classification import LogisticRegressionWithLBFGS, LogisticRegressionModel\n",
    "# from pyspark.mllib.tree import RandomForest, RandomForestModel, DecisionTree, DecisionTreeModel\n",
    "\n",
    "import random\n",
    "import numpy as np\n",
    "import datetime\n",
    "from pyspark.sql.types import TimestampType\n",
    "import us\n",
    "import pytz\n",
    "import pandas as pd\n",
    "import time\n",
    "import matplotlib.pyplot as plt\n",
    "\n",
    "sqlContext = SQLContext(sc)\n"
   ]
  },
  {
   "cell_type": "markdown",
   "metadata": {
    "application/vnd.databricks.v1+cell": {
     "inputWidgets": {},
     "nuid": "fe4ba146-0ab7-42d5-8452-edd65b9e672b",
     "showTitle": false,
     "title": ""
    }
   },
   "source": [
    "**IMPORTANT --- set your path so you don't overwrite my datasets and models!!** You can read from my path but please don't do a `rm()` or `write()`."
   ]
  },
  {
   "cell_type": "code",
   "execution_count": 0,
   "metadata": {
    "application/vnd.databricks.v1+cell": {
     "inputWidgets": {},
     "nuid": "5d3437d3-277a-4789-9f8b-299b1e4dd056",
     "showTitle": false,
     "title": ""
    }
   },
   "outputs": [
    {
     "data": {
      "text/html": [
       "<style scoped>\n",
       "  .ansiout {\n",
       "    display: block;\n",
       "    unicode-bidi: embed;\n",
       "    white-space: pre-wrap;\n",
       "    word-wrap: break-word;\n",
       "    word-break: break-all;\n",
       "    font-family: \"Source Code Pro\", \"Menlo\", monospace;;\n",
       "    font-size: 13px;\n",
       "    color: #555;\n",
       "    margin-left: 4px;\n",
       "    line-height: 19px;\n",
       "  }\n",
       "</style>\n",
       "<div class=\"ansiout\"></div>"
      ]
     },
     "metadata": {
      "application/vnd.databricks.v1+output": {
       "addedWidgets": {},
       "arguments": {},
       "data": "<div class=\"ansiout\"></div>",
       "datasetInfos": [],
       "removedWidgets": [],
       "type": "html"
      }
     },
     "output_type": "display_data"
    }
   ],
   "source": [
    "path = \"/Users/kkw24@ischool.berkeley.edu/final/\""
   ]
  },
  {
   "cell_type": "markdown",
   "metadata": {
    "application/vnd.databricks.v1+cell": {
     "inputWidgets": {},
     "nuid": "525bea8b-2d81-4ee2-bc2e-452084862b69",
     "showTitle": false,
     "title": ""
    }
   },
   "source": [
    "## Read in joined data"
   ]
  },
  {
   "cell_type": "code",
   "execution_count": 0,
   "metadata": {
    "application/vnd.databricks.v1+cell": {
     "inputWidgets": {},
     "nuid": "70db25fa-d3cd-4884-bb34-74aa801ed3aa",
     "showTitle": false,
     "title": ""
    }
   },
   "outputs": [
    {
     "data": {
      "text/html": [
       "<style scoped>\n",
       "  .ansiout {\n",
       "    display: block;\n",
       "    unicode-bidi: embed;\n",
       "    white-space: pre-wrap;\n",
       "    word-wrap: break-word;\n",
       "    word-break: break-all;\n",
       "    font-family: \"Source Code Pro\", \"Menlo\", monospace;;\n",
       "    font-size: 13px;\n",
       "    color: #555;\n",
       "    margin-left: 4px;\n",
       "    line-height: 19px;\n",
       "  }\n",
       "</style>\n",
       "<div class=\"ansiout\"></div>"
      ]
     },
     "metadata": {
      "application/vnd.databricks.v1+output": {
       "addedWidgets": {},
       "arguments": {},
       "data": "<div class=\"ansiout\"></div>",
       "datasetInfos": [],
       "removedWidgets": [],
       "type": "html"
      }
     },
     "output_type": "display_data"
    }
   ],
   "source": [
    "aw = spark.read.parquet(\"/Users/kkw24@ischool.berkeley.edu/final/aw.parquet\").cache()"
   ]
  },
  {
   "cell_type": "code",
   "execution_count": 0,
   "metadata": {
    "application/vnd.databricks.v1+cell": {
     "inputWidgets": {},
     "nuid": "0f1fda21-e709-4b7c-900d-5cd650084df0",
     "showTitle": false,
     "title": ""
    }
   },
   "outputs": [
    {
     "data": {
      "text/html": [
       "<style scoped>\n",
       "  .ansiout {\n",
       "    display: block;\n",
       "    unicode-bidi: embed;\n",
       "    white-space: pre-wrap;\n",
       "    word-wrap: break-word;\n",
       "    word-break: break-all;\n",
       "    font-family: \"Source Code Pro\", \"Menlo\", monospace;;\n",
       "    font-size: 13px;\n",
       "    color: #555;\n",
       "    margin-left: 4px;\n",
       "    line-height: 19px;\n",
       "  }\n",
       "</style>\n",
       "<div class=\"ansiout\">27885387\n",
       "</div>"
      ]
     },
     "metadata": {
      "application/vnd.databricks.v1+output": {
       "addedWidgets": {},
       "arguments": {},
       "data": "<div class=\"ansiout\">27885387\n</div>",
       "datasetInfos": [],
       "removedWidgets": [],
       "type": "html"
      }
     },
     "output_type": "display_data"
    }
   ],
   "source": [
    "N = aw.count()\n",
    "print(N)"
   ]
  },
  {
   "cell_type": "code",
   "execution_count": 0,
   "metadata": {
    "application/vnd.databricks.v1+cell": {
     "inputWidgets": {},
     "nuid": "bd892904-228d-48b6-9807-11fb469e2a65",
     "showTitle": false,
     "title": ""
    }
   },
   "outputs": [
    {
     "data": {
      "text/html": [
       "<style scoped>\n",
       "  .ansiout {\n",
       "    display: block;\n",
       "    unicode-bidi: embed;\n",
       "    white-space: pre-wrap;\n",
       "    word-wrap: break-word;\n",
       "    word-break: break-all;\n",
       "    font-family: \"Source Code Pro\", \"Menlo\", monospace;;\n",
       "    font-size: 13px;\n",
       "    color: #555;\n",
       "    margin-left: 4px;\n",
       "    line-height: 19px;\n",
       "  }\n",
       "</style>\n",
       "<div class=\"ansiout\">root\n",
       "-- DEP_DEL15: float (nullable = true)\n",
       "-- YEAR: integer (nullable = true)\n",
       "-- MONTH: integer (nullable = true)\n",
       "-- DAY_OF_MONTH: integer (nullable = true)\n",
       "-- DAY_OF_WEEK: integer (nullable = true)\n",
       "-- CRS_DEP_TIME: integer (nullable = true)\n",
       "-- OP_CARRIER: string (nullable = true)\n",
       "-- ORIGIN: string (nullable = true)\n",
       "-- DEST: string (nullable = true)\n",
       "-- CRS_DEP_DATETIME_UTC: timestamp (nullable = true)\n",
       "-- ORIGIN_p: string (nullable = true)\n",
       "-- DEP_DELAY_NEW_p: float (nullable = true)\n",
       "-- CARRIER_DELAY_p: float (nullable = true)\n",
       "-- WEATHER_DELAY_p: float (nullable = true)\n",
       "-- NAS_DELAY_p: float (nullable = true)\n",
       "-- SECURITY_DELAY_p: float (nullable = true)\n",
       "-- LATE_AIRCRAFT_DELAY_p: float (nullable = true)\n",
       "-- FL_DATE: string (nullable = true)\n",
       "-- totNumFlights: long (nullable = true)\n",
       "-- meanDelayAcrossFlights: double (nullable = true)\n",
       "-- propDelayed: double (nullable = true)\n",
       "-- DATE_day: date (nullable = true)\n",
       "-- HOUR: integer (nullable = true)\n",
       "-- avgTMP_airTemp: double (nullable = true)\n",
       "-- avgWND_speed: double (nullable = true)\n",
       "-- avgCIG_height: double (nullable = true)\n",
       "-- avgVIS_distance: double (nullable = true)\n",
       "-- avgSLP_airPressure: double (nullable = true)\n",
       "-- avgPRECIP_duration: double (nullable = true)\n",
       "-- avgPRECIP_amount: double (nullable = true)\n",
       "-- avgSNOW_depth: double (nullable = true)\n",
       "\n",
       "</div>"
      ]
     },
     "metadata": {
      "application/vnd.databricks.v1+output": {
       "addedWidgets": {},
       "arguments": {},
       "data": "<div class=\"ansiout\">root\n |-- DEP_DEL15: float (nullable = true)\n |-- YEAR: integer (nullable = true)\n |-- MONTH: integer (nullable = true)\n |-- DAY_OF_MONTH: integer (nullable = true)\n |-- DAY_OF_WEEK: integer (nullable = true)\n |-- CRS_DEP_TIME: integer (nullable = true)\n |-- OP_CARRIER: string (nullable = true)\n |-- ORIGIN: string (nullable = true)\n |-- DEST: string (nullable = true)\n |-- CRS_DEP_DATETIME_UTC: timestamp (nullable = true)\n |-- ORIGIN_p: string (nullable = true)\n |-- DEP_DELAY_NEW_p: float (nullable = true)\n |-- CARRIER_DELAY_p: float (nullable = true)\n |-- WEATHER_DELAY_p: float (nullable = true)\n |-- NAS_DELAY_p: float (nullable = true)\n |-- SECURITY_DELAY_p: float (nullable = true)\n |-- LATE_AIRCRAFT_DELAY_p: float (nullable = true)\n |-- FL_DATE: string (nullable = true)\n |-- totNumFlights: long (nullable = true)\n |-- meanDelayAcrossFlights: double (nullable = true)\n |-- propDelayed: double (nullable = true)\n |-- DATE_day: date (nullable = true)\n |-- HOUR: integer (nullable = true)\n |-- avgTMP_airTemp: double (nullable = true)\n |-- avgWND_speed: double (nullable = true)\n |-- avgCIG_height: double (nullable = true)\n |-- avgVIS_distance: double (nullable = true)\n |-- avgSLP_airPressure: double (nullable = true)\n |-- avgPRECIP_duration: double (nullable = true)\n |-- avgPRECIP_amount: double (nullable = true)\n |-- avgSNOW_depth: double (nullable = true)\n\n</div>",
       "datasetInfos": [],
       "removedWidgets": [],
       "type": "html"
      }
     },
     "output_type": "display_data"
    }
   ],
   "source": [
    "aw.printSchema()"
   ]
  },
  {
   "cell_type": "markdown",
   "metadata": {
    "application/vnd.databricks.v1+cell": {
     "inputWidgets": {},
     "nuid": "6ae87e05-8bd6-4fd5-a0f3-d6af65ccd6b8",
     "showTitle": false,
     "title": ""
    }
   },
   "source": [
    "# Feature transformation"
   ]
  },
  {
   "cell_type": "code",
   "execution_count": 0,
   "metadata": {
    "application/vnd.databricks.v1+cell": {
     "inputWidgets": {},
     "nuid": "aebe298a-e4a3-4b49-b586-992512d08890",
     "showTitle": false,
     "title": ""
    }
   },
   "outputs": [
    {
     "data": {
      "text/html": [
       "<style scoped>\n",
       "  .ansiout {\n",
       "    display: block;\n",
       "    unicode-bidi: embed;\n",
       "    white-space: pre-wrap;\n",
       "    word-wrap: break-word;\n",
       "    word-break: break-all;\n",
       "    font-family: \"Source Code Pro\", \"Menlo\", monospace;;\n",
       "    font-size: 13px;\n",
       "    color: #555;\n",
       "    margin-left: 4px;\n",
       "    line-height: 19px;\n",
       "  }\n",
       "</style>\n",
       "<div class=\"ansiout\"></div>"
      ]
     },
     "metadata": {
      "application/vnd.databricks.v1+output": {
       "addedWidgets": {},
       "arguments": {},
       "data": "<div class=\"ansiout\"></div>",
       "datasetInfos": [],
       "removedWidgets": [],
       "type": "html"
      }
     },
     "output_type": "display_data"
    }
   ],
   "source": [
    "# Convert fl_date to int\n",
    "datetonum = f.udf(lambda x: datetime.datetime.strptime(x, \"%Y-%m-%d\").timetuple().tm_yday)\n",
    "aw = aw.withColumn(\"DAY_OF_YEAR\", datetonum(f.col(\"FL_DATE\")).cast(IntegerType())) \\\n",
    ".drop(\"FL_DATE\")"
   ]
  },
  {
   "cell_type": "code",
   "execution_count": 0,
   "metadata": {
    "application/vnd.databricks.v1+cell": {
     "inputWidgets": {},
     "nuid": "034aec50-ad7a-4970-8bea-1b55bf0fe8b3",
     "showTitle": false,
     "title": ""
    }
   },
   "outputs": [
    {
     "data": {
      "text/html": [
       "<style scoped>\n",
       "  .ansiout {\n",
       "    display: block;\n",
       "    unicode-bidi: embed;\n",
       "    white-space: pre-wrap;\n",
       "    word-wrap: break-word;\n",
       "    word-break: break-all;\n",
       "    font-family: \"Source Code Pro\", \"Menlo\", monospace;;\n",
       "    font-size: 13px;\n",
       "    color: #555;\n",
       "    margin-left: 4px;\n",
       "    line-height: 19px;\n",
       "  }\n",
       "</style>\n",
       "<div class=\"ansiout\"></div>"
      ]
     },
     "metadata": {
      "application/vnd.databricks.v1+output": {
       "addedWidgets": {},
       "arguments": {},
       "data": "<div class=\"ansiout\"></div>",
       "datasetInfos": [],
       "removedWidgets": [],
       "type": "html"
      }
     },
     "output_type": "display_data"
    }
   ],
   "source": [
    "features = ['YEAR', 'MONTH', 'DAY_OF_MONTH', 'DEP_DELAY_NEW_p', 'CARRIER_DELAY_p', 'WEATHER_DELAY_p', 'NAS_DELAY_p', 'SECURITY_DELAY_p', 'LATE_AIRCRAFT_DELAY_p', 'totNumFlights', 'meanDelayAcrossFlights', 'propDelayed', 'HOUR', 'avgTMP_airTemp', 'avgWND_speed', 'avgCIG_height', 'avgVIS_distance', 'avgSLP_airPressure', 'avgPRECIP_duration', 'avgPRECIP_amount', 'avgSNOW_depth', 'DAY_OF_YEAR', 'OP_CARRIER_index', 'ORIGIN_index', 'DEST_index', 'ORIGIN_p_index', 'DAY_OF_WEEK_index']\n",
    "\n",
    "# Transform categorical vars --- StringIndexer\n",
    "cat_cols = [\"OP_CARRIER\", \"ORIGIN\", \"DEST\", \"ORIGIN_p\", \"DAY_OF_WEEK\"]\n",
    "indexers = [StringIndexer(inputCol=col, outputCol=col+\"_index\", handleInvalid=\"skip\") for col in cat_cols]\n",
    "\n",
    "pipeline = Pipeline(stages=indexers)\n",
    "\n",
    "# Fit pipeline model\n",
    "df2 = pipeline.fit(aw).transform(aw).drop(*cat_cols).cache()"
   ]
  },
  {
   "cell_type": "code",
   "execution_count": 0,
   "metadata": {
    "application/vnd.databricks.v1+cell": {
     "inputWidgets": {},
     "nuid": "45320f59-a39a-48d8-8706-68687222ce9b",
     "showTitle": false,
     "title": ""
    }
   },
   "outputs": [
    {
     "data": {
      "text/html": [
       "<style scoped>\n",
       "  .ansiout {\n",
       "    display: block;\n",
       "    unicode-bidi: embed;\n",
       "    white-space: pre-wrap;\n",
       "    word-wrap: break-word;\n",
       "    word-break: break-all;\n",
       "    font-family: \"Source Code Pro\", \"Menlo\", monospace;;\n",
       "    font-size: 13px;\n",
       "    color: #555;\n",
       "    margin-left: 4px;\n",
       "    line-height: 19px;\n",
       "  }\n",
       "</style>\n",
       "<div class=\"ansiout\"></div>"
      ]
     },
     "metadata": {
      "application/vnd.databricks.v1+output": {
       "addedWidgets": {},
       "arguments": {},
       "data": "<div class=\"ansiout\"></div>",
       "datasetInfos": [],
       "removedWidgets": [],
       "type": "html"
      }
     },
     "output_type": "display_data"
    }
   ],
   "source": [
    "idx_models = [idx.fit(aw) for idx in indexers]\n",
    "\n",
    "op_labels = [\"op_\" + i for i in idx_models[0].labels]\n",
    "origin_labels = [\"origin_\" + i for i in idx_models[1].labels]\n",
    "dest_labels = [\"dest_\" + i for i in idx_models[2].labels]\n",
    "origin_p_labels = [\"origin_p_\" + i for i in idx_models[3].labels]\n",
    "dow_labels = [\"dow_\" + i for i in idx_models[4].labels]"
   ]
  },
  {
   "cell_type": "code",
   "execution_count": 0,
   "metadata": {
    "application/vnd.databricks.v1+cell": {
     "inputWidgets": {},
     "nuid": "526121b3-d4b6-4714-b097-217d68d62101",
     "showTitle": false,
     "title": ""
    }
   },
   "outputs": [
    {
     "data": {
      "text/html": [
       "<style scoped>\n",
       "  .ansiout {\n",
       "    display: block;\n",
       "    unicode-bidi: embed;\n",
       "    white-space: pre-wrap;\n",
       "    word-wrap: break-word;\n",
       "    word-break: break-all;\n",
       "    font-family: \"Source Code Pro\", \"Menlo\", monospace;;\n",
       "    font-size: 13px;\n",
       "    color: #555;\n",
       "    margin-left: 4px;\n",
       "    line-height: 19px;\n",
       "  }\n",
       "</style>\n",
       "<div class=\"ansiout\">+------------+------+\n",
       "ORIGIN_index|ORIGIN|\n",
       "+------------+------+\n",
       "         0.0|   ATL|\n",
       "         0.0|   ATL|\n",
       "         0.0|   ATL|\n",
       "         0.0|   ATL|\n",
       "         0.0|   ATL|\n",
       "         0.0|   ATL|\n",
       "         0.0|   ATL|\n",
       "         0.0|   ATL|\n",
       "         0.0|   ATL|\n",
       "         0.0|   ATL|\n",
       "         0.0|   ATL|\n",
       "         0.0|   ATL|\n",
       "         0.0|   ATL|\n",
       "         0.0|   ATL|\n",
       "         0.0|   ATL|\n",
       "         0.0|   ATL|\n",
       "         0.0|   ATL|\n",
       "         0.0|   ATL|\n",
       "         0.0|   ATL|\n",
       "         0.0|   ATL|\n",
       "+------------+------+\n",
       "only showing top 20 rows\n",
       "\n",
       "</div>"
      ]
     },
     "metadata": {
      "application/vnd.databricks.v1+output": {
       "addedWidgets": {},
       "arguments": {},
       "data": "<div class=\"ansiout\">+------------+------+\n|ORIGIN_index|ORIGIN|\n+------------+------+\n|         0.0|   ATL|\n|         0.0|   ATL|\n|         0.0|   ATL|\n|         0.0|   ATL|\n|         0.0|   ATL|\n|         0.0|   ATL|\n|         0.0|   ATL|\n|         0.0|   ATL|\n|         0.0|   ATL|\n|         0.0|   ATL|\n|         0.0|   ATL|\n|         0.0|   ATL|\n|         0.0|   ATL|\n|         0.0|   ATL|\n|         0.0|   ATL|\n|         0.0|   ATL|\n|         0.0|   ATL|\n|         0.0|   ATL|\n|         0.0|   ATL|\n|         0.0|   ATL|\n+------------+------+\nonly showing top 20 rows\n\n</div>",
       "datasetInfos": [],
       "removedWidgets": [],
       "type": "html"
      }
     },
     "output_type": "display_data"
    }
   ],
   "source": [
    "labelReverse = IndexToString().setInputCol(\"ORIGIN_index\").setOutputCol(\"ORIGIN\")\n",
    "labelReverse.transform(df2).filter(f.col(\"ORIGIN\")==\"ATL\").select(\"ORIGIN_index\", \"ORIGIN\").show()"
   ]
  },
  {
   "cell_type": "code",
   "execution_count": 0,
   "metadata": {
    "application/vnd.databricks.v1+cell": {
     "inputWidgets": {},
     "nuid": "a41f9e1b-8c8e-4aa9-b3fd-58444aa99035",
     "showTitle": false,
     "title": ""
    }
   },
   "outputs": [
    {
     "data": {
      "text/html": [
       "<style scoped>\n",
       "  .table-result-container {\n",
       "    max-height: 300px;\n",
       "    overflow: auto;\n",
       "  }\n",
       "  table, th, td {\n",
       "    border: 1px solid black;\n",
       "    border-collapse: collapse;\n",
       "  }\n",
       "  th, td {\n",
       "    padding: 5px;\n",
       "  }\n",
       "  th {\n",
       "    text-align: left;\n",
       "  }\n",
       "</style><div class='table-result-container'><table class='table-result'><thead style='background-color: white'><tr><th>summary</th><th>DEP_DEL15</th><th>YEAR</th><th>MONTH</th><th>DAY_OF_MONTH</th><th>CRS_DEP_TIME</th><th>DEP_DELAY_NEW_p</th><th>CARRIER_DELAY_p</th><th>WEATHER_DELAY_p</th><th>NAS_DELAY_p</th><th>SECURITY_DELAY_p</th><th>LATE_AIRCRAFT_DELAY_p</th><th>totNumFlights</th><th>meanDelayAcrossFlights</th><th>propDelayed</th><th>HOUR</th><th>avgTMP_airTemp</th><th>avgWND_speed</th><th>avgCIG_height</th><th>avgVIS_distance</th><th>avgSLP_airPressure</th><th>avgPRECIP_duration</th><th>avgPRECIP_amount</th><th>avgSNOW_depth</th><th>DAY_OF_YEAR</th><th>OP_CARRIER_index</th><th>ORIGIN_index</th><th>DEST_index</th><th>ORIGIN_p_index</th><th>DAY_OF_WEEK_index</th></tr></thead><tbody><tr><td>count</td><td>27885387</td><td>27885387</td><td>27885387</td><td>27885387</td><td>27885387</td><td>27885387</td><td>27885387</td><td>27885387</td><td>27885387</td><td>27885387</td><td>27885387</td><td>27885387</td><td>27885387</td><td>27885387</td><td>27885387</td><td>27885387</td><td>27885387</td><td>27885387</td><td>27885387</td><td>27885387</td><td>27885387</td><td>27885387</td><td>27885387</td><td>27885387</td><td>27885387</td><td>27885387</td><td>27885387</td><td>27885387</td><td>27885387</td></tr><tr><td>mean</td><td>0.17308054573529857</td><td>2017.1464246488672</td><td>6.565113584401751</td><td>15.762412477904645</td><td>1264.1485657344472</td><td>7.330670289782961</td><td>2.209196594617819</td><td>0.32358693820530443</td><td>1.837294673371397</td><td>0.010050819807521408</td><td>2.4358236448359136</td><td>346.064009475644</td><td>9.910952259390259</td><td>0.18135856403696407</td><td>13.452998088210144</td><td>168.9453500266698</td><td>38.54092817069208</td><td>12151.226438141763</td><td>14981.69402083801</td><td>10166.102480987123</td><td>0.4633844003432096</td><td>26.742064514531098</td><td>0.03822587555744998</td><td>184.35745173628038</td><td>3.8531775800708807</td><td>33.71893411412938</td><td>32.63700751221419</td><td>28.06686243945619</td><td>2.9014517890678726</td></tr><tr><td>stddev</td><td>0.37831689832181536</td><td>1.4302055032336867</td><td>3.378061805832989</td><td>8.773986288807235</td><td>471.3612611103225</td><td>29.48015846369332</td><td>18.014155286246872</td><td>7.214056322100087</td><td>11.779373826862722</td><td>0.8827813812228733</td><td>16.528553384102835</td><td>288.97094048071085</td><td>13.741411282892528</td><td>0.11593754771570046</td><td>5.5190553349461755</td><td>104.3387409405015</td><td>24.273285184247968</td><td>9619.127906056585</td><td>3116.9981772741153</td><td>66.62720884411893</td><td>2.47775659248955</td><td>17.507117932431115</td><td>0.8623752477472401</td><td>103.24938436502299</td><td>4.120081798698065</td><td>46.08308749057377</td><td>46.173915004603394</td><td>45.72950167909619</td><td>1.9726008196217417</td></tr><tr><td>min</td><td>0.0</td><td>2015</td><td>1</td><td>1</td><td>1</td><td>0.0</td><td>0.0</td><td>0.0</td><td>0.0</td><td>0.0</td><td>0.0</td><td>1</td><td>-69.5</td><td>0.0</td><td>0</td><td>-439.0</td><td>0.0</td><td>0.0</td><td>0.0</td><td>9601.0</td><td>0.0</td><td>0.0</td><td>0.0</td><td>1</td><td>0.0</td><td>0.0</td><td>0.0</td><td>0.0</td><td>0.0</td></tr><tr><td>max</td><td>1.0</td><td>2019</td><td>12</td><td>31</td><td>2359</td><td>2710.0</td><td>1843.0</td><td>2692.0</td><td>1848.0</td><td>927.0</td><td>2454.0</td><td>1228</td><td>1970.0</td><td>1.0</td><td>21</td><td>494.0</td><td>412.0</td><td>22000.0</td><td>160000.0</td><td>10596.0</td><td>24.0</td><td>2421.0</td><td>107.0</td><td>366</td><td>18.0</td><td>353.0</td><td>366.0</td><td>367.0</td><td>6.0</td></tr></tbody></table></div>"
      ]
     },
     "metadata": {
      "application/vnd.databricks.v1+output": {
       "addedWidgets": {},
       "aggData": [],
       "aggError": "",
       "aggOverflow": false,
       "aggSchema": [],
       "aggSeriesLimitReached": false,
       "aggType": "",
       "arguments": {},
       "columnCustomDisplayInfos": {},
       "data": [
        [
         "count",
         "27885387",
         "27885387",
         "27885387",
         "27885387",
         "27885387",
         "27885387",
         "27885387",
         "27885387",
         "27885387",
         "27885387",
         "27885387",
         "27885387",
         "27885387",
         "27885387",
         "27885387",
         "27885387",
         "27885387",
         "27885387",
         "27885387",
         "27885387",
         "27885387",
         "27885387",
         "27885387",
         "27885387",
         "27885387",
         "27885387",
         "27885387",
         "27885387",
         "27885387"
        ],
        [
         "mean",
         "0.17308054573529857",
         "2017.1464246488672",
         "6.565113584401751",
         "15.762412477904645",
         "1264.1485657344472",
         "7.330670289782961",
         "2.209196594617819",
         "0.32358693820530443",
         "1.837294673371397",
         "0.010050819807521408",
         "2.4358236448359136",
         "346.064009475644",
         "9.910952259390259",
         "0.18135856403696407",
         "13.452998088210144",
         "168.9453500266698",
         "38.54092817069208",
         "12151.226438141763",
         "14981.69402083801",
         "10166.102480987123",
         "0.4633844003432096",
         "26.742064514531098",
         "0.03822587555744998",
         "184.35745173628038",
         "3.8531775800708807",
         "33.71893411412938",
         "32.63700751221419",
         "28.06686243945619",
         "2.9014517890678726"
        ],
        [
         "stddev",
         "0.37831689832181536",
         "1.4302055032336867",
         "3.378061805832989",
         "8.773986288807235",
         "471.3612611103225",
         "29.48015846369332",
         "18.014155286246872",
         "7.214056322100087",
         "11.779373826862722",
         "0.8827813812228733",
         "16.528553384102835",
         "288.97094048071085",
         "13.741411282892528",
         "0.11593754771570046",
         "5.5190553349461755",
         "104.3387409405015",
         "24.273285184247968",
         "9619.127906056585",
         "3116.9981772741153",
         "66.62720884411893",
         "2.47775659248955",
         "17.507117932431115",
         "0.8623752477472401",
         "103.24938436502299",
         "4.120081798698065",
         "46.08308749057377",
         "46.173915004603394",
         "45.72950167909619",
         "1.9726008196217417"
        ],
        [
         "min",
         "0.0",
         "2015",
         "1",
         "1",
         "1",
         "0.0",
         "0.0",
         "0.0",
         "0.0",
         "0.0",
         "0.0",
         "1",
         "-69.5",
         "0.0",
         "0",
         "-439.0",
         "0.0",
         "0.0",
         "0.0",
         "9601.0",
         "0.0",
         "0.0",
         "0.0",
         "1",
         "0.0",
         "0.0",
         "0.0",
         "0.0",
         "0.0"
        ],
        [
         "max",
         "1.0",
         "2019",
         "12",
         "31",
         "2359",
         "2710.0",
         "1843.0",
         "2692.0",
         "1848.0",
         "927.0",
         "2454.0",
         "1228",
         "1970.0",
         "1.0",
         "21",
         "494.0",
         "412.0",
         "22000.0",
         "160000.0",
         "10596.0",
         "24.0",
         "2421.0",
         "107.0",
         "366",
         "18.0",
         "353.0",
         "366.0",
         "367.0",
         "6.0"
        ]
       ],
       "datasetInfos": [],
       "dbfsResultPath": null,
       "isJsonSchema": true,
       "overflow": false,
       "plotOptions": {
        "customPlotOptions": {},
        "displayType": "table",
        "pivotAggregation": null,
        "pivotColumns": null,
        "xColumns": null,
        "yColumns": null
       },
       "removedWidgets": [],
       "schema": [
        {
         "metadata": "{}",
         "name": "summary",
         "type": "\"string\""
        },
        {
         "metadata": "{}",
         "name": "DEP_DEL15",
         "type": "\"string\""
        },
        {
         "metadata": "{}",
         "name": "YEAR",
         "type": "\"string\""
        },
        {
         "metadata": "{}",
         "name": "MONTH",
         "type": "\"string\""
        },
        {
         "metadata": "{}",
         "name": "DAY_OF_MONTH",
         "type": "\"string\""
        },
        {
         "metadata": "{}",
         "name": "CRS_DEP_TIME",
         "type": "\"string\""
        },
        {
         "metadata": "{}",
         "name": "DEP_DELAY_NEW_p",
         "type": "\"string\""
        },
        {
         "metadata": "{}",
         "name": "CARRIER_DELAY_p",
         "type": "\"string\""
        },
        {
         "metadata": "{}",
         "name": "WEATHER_DELAY_p",
         "type": "\"string\""
        },
        {
         "metadata": "{}",
         "name": "NAS_DELAY_p",
         "type": "\"string\""
        },
        {
         "metadata": "{}",
         "name": "SECURITY_DELAY_p",
         "type": "\"string\""
        },
        {
         "metadata": "{}",
         "name": "LATE_AIRCRAFT_DELAY_p",
         "type": "\"string\""
        },
        {
         "metadata": "{}",
         "name": "totNumFlights",
         "type": "\"string\""
        },
        {
         "metadata": "{}",
         "name": "meanDelayAcrossFlights",
         "type": "\"string\""
        },
        {
         "metadata": "{}",
         "name": "propDelayed",
         "type": "\"string\""
        },
        {
         "metadata": "{}",
         "name": "HOUR",
         "type": "\"string\""
        },
        {
         "metadata": "{}",
         "name": "avgTMP_airTemp",
         "type": "\"string\""
        },
        {
         "metadata": "{}",
         "name": "avgWND_speed",
         "type": "\"string\""
        },
        {
         "metadata": "{}",
         "name": "avgCIG_height",
         "type": "\"string\""
        },
        {
         "metadata": "{}",
         "name": "avgVIS_distance",
         "type": "\"string\""
        },
        {
         "metadata": "{}",
         "name": "avgSLP_airPressure",
         "type": "\"string\""
        },
        {
         "metadata": "{}",
         "name": "avgPRECIP_duration",
         "type": "\"string\""
        },
        {
         "metadata": "{}",
         "name": "avgPRECIP_amount",
         "type": "\"string\""
        },
        {
         "metadata": "{}",
         "name": "avgSNOW_depth",
         "type": "\"string\""
        },
        {
         "metadata": "{}",
         "name": "DAY_OF_YEAR",
         "type": "\"string\""
        },
        {
         "metadata": "{}",
         "name": "OP_CARRIER_index",
         "type": "\"string\""
        },
        {
         "metadata": "{}",
         "name": "ORIGIN_index",
         "type": "\"string\""
        },
        {
         "metadata": "{}",
         "name": "DEST_index",
         "type": "\"string\""
        },
        {
         "metadata": "{}",
         "name": "ORIGIN_p_index",
         "type": "\"string\""
        },
        {
         "metadata": "{}",
         "name": "DAY_OF_WEEK_index",
         "type": "\"string\""
        }
       ],
       "type": "table"
      }
     },
     "output_type": "display_data"
    }
   ],
   "source": [
    "display(df2.describe())"
   ]
  },
  {
   "cell_type": "code",
   "execution_count": 0,
   "metadata": {
    "application/vnd.databricks.v1+cell": {
     "inputWidgets": {},
     "nuid": "cae9fdc2-3f38-403e-a520-9ccb8716bf1d",
     "showTitle": false,
     "title": ""
    }
   },
   "outputs": [
    {
     "data": {
      "text/html": [
       "<style scoped>\n",
       "  .ansiout {\n",
       "    display: block;\n",
       "    unicode-bidi: embed;\n",
       "    white-space: pre-wrap;\n",
       "    word-wrap: break-word;\n",
       "    word-break: break-all;\n",
       "    font-family: \"Source Code Pro\", \"Menlo\", monospace;;\n",
       "    font-size: 13px;\n",
       "    color: #555;\n",
       "    margin-left: 4px;\n",
       "    line-height: 19px;\n",
       "  }\n",
       "</style>\n",
       "<div class=\"ansiout\"></div>"
      ]
     },
     "metadata": {
      "application/vnd.databricks.v1+output": {
       "addedWidgets": {},
       "arguments": {},
       "data": "<div class=\"ansiout\"></div>",
       "datasetInfos": [],
       "removedWidgets": [],
       "type": "html"
      }
     },
     "output_type": "display_data"
    }
   ],
   "source": [
    "# Vector assembly\n",
    "assembler = VectorAssembler(inputCols=features, outputCol=\"features\")\n",
    "\n",
    "df3 = assembler.transform(df2).cache()"
   ]
  },
  {
   "cell_type": "code",
   "execution_count": 0,
   "metadata": {
    "application/vnd.databricks.v1+cell": {
     "inputWidgets": {},
     "nuid": "1229e7f8-e2b6-44ee-9809-665e95b9f8b0",
     "showTitle": false,
     "title": ""
    }
   },
   "outputs": [
    {
     "data": {
      "text/html": [
       "<style scoped>\n",
       "  .ansiout {\n",
       "    display: block;\n",
       "    unicode-bidi: embed;\n",
       "    white-space: pre-wrap;\n",
       "    word-wrap: break-word;\n",
       "    word-break: break-all;\n",
       "    font-family: \"Source Code Pro\", \"Menlo\", monospace;;\n",
       "    font-size: 13px;\n",
       "    color: #555;\n",
       "    margin-left: 4px;\n",
       "    line-height: 19px;\n",
       "  }\n",
       "</style>\n",
       "<div class=\"ansiout\"></div>"
      ]
     },
     "metadata": {
      "application/vnd.databricks.v1+output": {
       "addedWidgets": {},
       "arguments": {},
       "data": "<div class=\"ansiout\"></div>",
       "datasetInfos": [],
       "removedWidgets": [],
       "type": "html"
      }
     },
     "output_type": "display_data"
    }
   ],
   "source": [
    "# train test split - preserve order\n",
    "train = df3.filter(f.col(\"YEAR\")!=2019)\n",
    "test = df3.filter(f.col(\"YEAR\")==2019)\n",
    "\n",
    "# aw.unpersist()\n",
    "# df2.unpersist()"
   ]
  },
  {
   "cell_type": "code",
   "execution_count": 0,
   "metadata": {
    "application/vnd.databricks.v1+cell": {
     "inputWidgets": {},
     "nuid": "6d1e6fd2-3698-4c5f-8549-6754fd4bc2ed",
     "showTitle": false,
     "title": ""
    }
   },
   "outputs": [
    {
     "data": {
      "text/html": [
       "<style scoped>\n",
       "  .ansiout {\n",
       "    display: block;\n",
       "    unicode-bidi: embed;\n",
       "    white-space: pre-wrap;\n",
       "    word-wrap: break-word;\n",
       "    word-break: break-all;\n",
       "    font-family: \"Source Code Pro\", \"Menlo\", monospace;;\n",
       "    font-size: 13px;\n",
       "    color: #555;\n",
       "    margin-left: 4px;\n",
       "    line-height: 19px;\n",
       "  }\n",
       "</style>\n",
       "<div class=\"ansiout\">BalancingRatio = 0.8260828845703583\n",
       "</div>"
      ]
     },
     "metadata": {
      "application/vnd.databricks.v1+output": {
       "addedWidgets": {},
       "arguments": {},
       "data": "<div class=\"ansiout\">BalancingRatio = 0.8260828845703583\n</div>",
       "datasetInfos": [],
       "removedWidgets": [],
       "type": "html"
      }
     },
     "output_type": "display_data"
    }
   ],
   "source": [
    "# Get weights for class balancing on a reasonable sample\n",
    "\n",
    "mini_train = train.sample(False, .001).cache()\n",
    "\n",
    "mini_N = mini_train.count()\n",
    "mini_num = mini_train.filter(f.col(\"DEP_DEL15\")==0).count()\n",
    "\n",
    "BalancingRatio= mini_num/mini_N\n",
    "print('BalancingRatio = {}'.format(BalancingRatio))\n",
    "\n",
    "# BalancingRatio = 0.8260828845703583"
   ]
  },
  {
   "cell_type": "code",
   "execution_count": 0,
   "metadata": {
    "application/vnd.databricks.v1+cell": {
     "inputWidgets": {},
     "nuid": "eda50a9b-0420-47ea-b08b-e9fb7f6445b7",
     "showTitle": false,
     "title": ""
    }
   },
   "outputs": [
    {
     "data": {
      "text/html": [
       "<style scoped>\n",
       "  .ansiout {\n",
       "    display: block;\n",
       "    unicode-bidi: embed;\n",
       "    white-space: pre-wrap;\n",
       "    word-wrap: break-word;\n",
       "    word-break: break-all;\n",
       "    font-family: \"Source Code Pro\", \"Menlo\", monospace;;\n",
       "    font-size: 13px;\n",
       "    color: #555;\n",
       "    margin-left: 4px;\n",
       "    line-height: 19px;\n",
       "  }\n",
       "</style>\n",
       "<div class=\"ansiout\"></div>"
      ]
     },
     "metadata": {
      "application/vnd.databricks.v1+output": {
       "addedWidgets": {},
       "arguments": {},
       "data": "<div class=\"ansiout\"></div>",
       "datasetInfos": [],
       "removedWidgets": [],
       "type": "html"
      }
     },
     "output_type": "display_data"
    }
   ],
   "source": [
    "train_fin = train.withColumn(\"classWeights\", f.when(train.DEP_DEL15 == 1,BalancingRatio).otherwise(1-BalancingRatio)).cache()\n",
    "test_fin = test.withColumn(\"classWeights\", f.when(test.DEP_DEL15 == 1,BalancingRatio).otherwise(1-BalancingRatio)).cache()"
   ]
  },
  {
   "cell_type": "markdown",
   "metadata": {
    "application/vnd.databricks.v1+cell": {
     "inputWidgets": {},
     "nuid": "01d19340-1392-4282-ba8c-16e1b5eea04d",
     "showTitle": false,
     "title": ""
    }
   },
   "source": [
    "### START HERE if you just want to model"
   ]
  },
  {
   "cell_type": "code",
   "execution_count": 0,
   "metadata": {
    "application/vnd.databricks.v1+cell": {
     "inputWidgets": {},
     "nuid": "79b8b3dc-24fc-4b7d-b34c-8ff8efb9757b",
     "showTitle": false,
     "title": ""
    }
   },
   "outputs": [
    {
     "data": {
      "text/html": [
       "<style scoped>\n",
       "  .ansiout {\n",
       "    display: block;\n",
       "    unicode-bidi: embed;\n",
       "    white-space: pre-wrap;\n",
       "    word-wrap: break-word;\n",
       "    word-break: break-all;\n",
       "    font-family: \"Source Code Pro\", \"Menlo\", monospace;;\n",
       "    font-size: 13px;\n",
       "    color: #555;\n",
       "    margin-left: 4px;\n",
       "    line-height: 19px;\n",
       "  }\n",
       "</style>\n",
       "<div class=\"ansiout\"></div>"
      ]
     },
     "metadata": {
      "application/vnd.databricks.v1+output": {
       "addedWidgets": {},
       "arguments": {},
       "data": "<div class=\"ansiout\"></div>",
       "datasetInfos": [],
       "removedWidgets": [],
       "type": "html"
      }
     },
     "output_type": "display_data"
    }
   ],
   "source": [
    "# Put in DBFS\n",
    "\n",
    "# dbutils.fs.rm(path+\"train_fin.parquet\", True)\n",
    "# dbutils.fs.rm(path+\"test_fin.parquet\", True)\n",
    "\n",
    "# train_fin.write.parquet(path+\"train_fin.parquet\")\n",
    "# test_fin.write.parquet(path+\"test_fin.parquet\")\n",
    "\n",
    "# Note that this reads from my path\n",
    "train_fin = spark.read.parquet(\"/Users/kkw24@ischool.berkeley.edu/final/train_fin.parquet\").cache()\n",
    "test_fin = spark.read.parquet(\"/Users/kkw24@ischool.berkeley.edu/final/test_fin.parquet\").cache()\n",
    "\n",
    "# display(dbutils.fs.ls(\"/Users/kkw24@ischool.berkeley.edu/final\"))"
   ]
  },
  {
   "cell_type": "code",
   "execution_count": 0,
   "metadata": {
    "application/vnd.databricks.v1+cell": {
     "inputWidgets": {},
     "nuid": "3df0c95a-276b-4547-b2d6-ecac93b51576",
     "showTitle": false,
     "title": ""
    }
   },
   "outputs": [
    {
     "data": {
      "text/html": [
       "<style scoped>\n",
       "  .ansiout {\n",
       "    display: block;\n",
       "    unicode-bidi: embed;\n",
       "    white-space: pre-wrap;\n",
       "    word-wrap: break-word;\n",
       "    word-break: break-all;\n",
       "    font-family: \"Source Code Pro\", \"Menlo\", monospace;;\n",
       "    font-size: 13px;\n",
       "    color: #555;\n",
       "    margin-left: 4px;\n",
       "    line-height: 19px;\n",
       "  }\n",
       "</style>\n",
       "<div class=\"ansiout\">Out[31]: DataFrame[DEP_DEL15: float, YEAR: int, MONTH: int, DAY_OF_MONTH: int, CRS_DEP_TIME: int, CRS_DEP_DATETIME_UTC: timestamp, DEP_DELAY_NEW_p: float, CARRIER_DELAY_p: float, WEATHER_DELAY_p: float, NAS_DELAY_p: float, SECURITY_DELAY_p: float, LATE_AIRCRAFT_DELAY_p: float, totNumFlights: bigint, meanDelayAcrossFlights: double, propDelayed: double, DATE_day: date, HOUR: int, avgTMP_airTemp: double, avgWND_speed: double, avgCIG_height: double, avgVIS_distance: double, avgSLP_airPressure: double, avgPRECIP_duration: double, avgPRECIP_amount: double, avgSNOW_depth: double, DAY_OF_YEAR: int, OP_CARRIER_index: double, ORIGIN_index: double, DEST_index: double, ORIGIN_p_index: double, DAY_OF_WEEK_index: double, features: vector]</div>"
      ]
     },
     "metadata": {
      "application/vnd.databricks.v1+output": {
       "addedWidgets": {},
       "arguments": {},
       "data": "<div class=\"ansiout\">Out[31]: DataFrame[DEP_DEL15: float, YEAR: int, MONTH: int, DAY_OF_MONTH: int, CRS_DEP_TIME: int, CRS_DEP_DATETIME_UTC: timestamp, DEP_DELAY_NEW_p: float, CARRIER_DELAY_p: float, WEATHER_DELAY_p: float, NAS_DELAY_p: float, SECURITY_DELAY_p: float, LATE_AIRCRAFT_DELAY_p: float, totNumFlights: bigint, meanDelayAcrossFlights: double, propDelayed: double, DATE_day: date, HOUR: int, avgTMP_airTemp: double, avgWND_speed: double, avgCIG_height: double, avgVIS_distance: double, avgSLP_airPressure: double, avgPRECIP_duration: double, avgPRECIP_amount: double, avgSNOW_depth: double, DAY_OF_YEAR: int, OP_CARRIER_index: double, ORIGIN_index: double, DEST_index: double, ORIGIN_p_index: double, DAY_OF_WEEK_index: double, features: vector]</div>",
       "datasetInfos": [],
       "removedWidgets": [],
       "type": "html"
      }
     },
     "output_type": "display_data"
    }
   ],
   "source": [
    "train.unpersist()\n",
    "test.unpersist()"
   ]
  },
  {
   "cell_type": "markdown",
   "metadata": {
    "application/vnd.databricks.v1+cell": {
     "inputWidgets": {},
     "nuid": "811aac9e-6914-4095-8f3b-2f5d6184ce13",
     "showTitle": false,
     "title": ""
    }
   },
   "source": [
    "# RF model"
   ]
  },
  {
   "cell_type": "markdown",
   "metadata": {
    "application/vnd.databricks.v1+cell": {
     "inputWidgets": {},
     "nuid": "b76ced54-e7ec-433e-ad17-8122a507e735",
     "showTitle": false,
     "title": ""
    }
   },
   "source": [
    "RF parameters\n",
    "\n",
    "**DEFAULT params**\n",
    "featuresCol='features', labelCol='label', predictionCol='prediction', probabilityCol='probability', rawPredictionCol='rawPrediction', maxDepth=5, maxBins=32, minInstancesPerNode=1, minInfoGain=0.0, maxMemoryInMB=256, cacheNodeIds=False, checkpointInterval=10, impurity='gini', numTrees=20, featureSubsetStrategy='auto', seed=None, subsamplingRate=1.0, leafCol='', minWeightFractionPerNode=0.0, weightCol=None, bootstrap=True\n",
    "\n",
    "* featureSubsetStrategy='auto' -- number of features to consider for splits at each tree node\n",
    "* numTrees = number of trees in the foreset\n",
    "* maxMemoryInMB = Maximum memory in MB allocated to histogram aggregation. If too small, then 1 node will be split per iteration, and its aggregates may exceed this size.')\n",
    "* minInfoGain = P'Minimum information gain for a split to be considered at a tree node.')\n",
    "* minInstancesPerNode = 'Minimum number of instances each child must have after split. If a split causes the left or right child to have fewer than minInstancesPerNode, the split will be discarded as invalid. Should be >= 1.')\n",
    "* minWeightFractionPerNode = 'Minimum fraction of the weighted sample count that each child must have after split. If a split causes the fraction of the total weight in the left or right child to be less than minWeightFractionPerNode, the split will be discarded as invalid. Should be in interval [0.0, 0.5).')\n",
    "* subsamplingRate = Param(parent='undefined', name='subsamplingRate', doc='Fraction of the training data used for learning each decision tree, in range (0, 1].')\n",
    "* max_depth = max number of levels in each decision tree\n",
    "* min_samples_leaf = min number of data points allowed in a leaf node\n",
    "* bootstrap = method for sampling data points (with or without replacement)\n",
    "\n",
    "All: class weights, maxBins=369"
   ]
  },
  {
   "cell_type": "code",
   "execution_count": 0,
   "metadata": {
    "application/vnd.databricks.v1+cell": {
     "inputWidgets": {},
     "nuid": "84e2fad9-ce85-4a15-bbf9-5b4b40af705b",
     "showTitle": false,
     "title": ""
    }
   },
   "outputs": [
    {
     "data": {
      "text/html": [
       "<style scoped>\n",
       "  .ansiout {\n",
       "    display: block;\n",
       "    unicode-bidi: embed;\n",
       "    white-space: pre-wrap;\n",
       "    word-wrap: break-word;\n",
       "    word-break: break-all;\n",
       "    font-family: \"Source Code Pro\", \"Menlo\", monospace;;\n",
       "    font-size: 13px;\n",
       "    color: #555;\n",
       "    margin-left: 4px;\n",
       "    line-height: 19px;\n",
       "  }\n",
       "</style>\n",
       "<div class=\"ansiout\">21419666\n",
       "6465721\n",
       "</div>"
      ]
     },
     "metadata": {
      "application/vnd.databricks.v1+output": {
       "addedWidgets": {},
       "arguments": {},
       "data": "<div class=\"ansiout\">21419666\n6465721\n</div>",
       "datasetInfos": [],
       "removedWidgets": [],
       "type": "html"
      }
     },
     "output_type": "display_data"
    }
   ],
   "source": [
    "print(train_fin.count())\n",
    "#21419666\n",
    "\n",
    "print(test_fin.count())\n",
    "# 6465721"
   ]
  },
  {
   "cell_type": "code",
   "execution_count": 0,
   "metadata": {
    "application/vnd.databricks.v1+cell": {
     "inputWidgets": {},
     "nuid": "f8a79b84-3606-4999-a07c-fe74037c8066",
     "showTitle": false,
     "title": ""
    }
   },
   "outputs": [
    {
     "data": {
      "text/html": [
       "<style scoped>\n",
       "  .ansiout {\n",
       "    display: block;\n",
       "    unicode-bidi: embed;\n",
       "    white-space: pre-wrap;\n",
       "    word-wrap: break-word;\n",
       "    word-break: break-all;\n",
       "    font-family: \"Source Code Pro\", \"Menlo\", monospace;;\n",
       "    font-size: 13px;\n",
       "    color: #555;\n",
       "    margin-left: 4px;\n",
       "    line-height: 19px;\n",
       "  }\n",
       "</style>\n",
       "<div class=\"ansiout\">Out[10]: 214188</div>"
      ]
     },
     "metadata": {
      "application/vnd.databricks.v1+output": {
       "addedWidgets": {},
       "arguments": {},
       "data": "<div class=\"ansiout\">Out[10]: 214188</div>",
       "datasetInfos": [],
       "removedWidgets": [],
       "type": "html"
      }
     },
     "output_type": "display_data"
    }
   ],
   "source": [
    "# Create smaller train set\n",
    "train_mini = train_fin.sample(False, 0.01).cache()\n",
    "\n",
    "train_mini.count()"
   ]
  },
  {
   "cell_type": "code",
   "execution_count": 0,
   "metadata": {
    "application/vnd.databricks.v1+cell": {
     "inputWidgets": {},
     "nuid": "f8b27960-8cb8-418e-8a8c-547559822854",
     "showTitle": false,
     "title": ""
    }
   },
   "outputs": [
    {
     "data": {
      "text/html": [
       "<style scoped>\n",
       "  .ansiout {\n",
       "    display: block;\n",
       "    unicode-bidi: embed;\n",
       "    white-space: pre-wrap;\n",
       "    word-wrap: break-word;\n",
       "    word-break: break-all;\n",
       "    font-family: \"Source Code Pro\", \"Menlo\", monospace;;\n",
       "    font-size: 13px;\n",
       "    color: #555;\n",
       "    margin-left: 4px;\n",
       "    line-height: 19px;\n",
       "  }\n",
       "</style>\n",
       "<div class=\"ansiout\"></div>"
      ]
     },
     "metadata": {
      "application/vnd.databricks.v1+output": {
       "addedWidgets": {},
       "arguments": {},
       "data": "<div class=\"ansiout\"></div>",
       "datasetInfos": [],
       "removedWidgets": [],
       "type": "html"
      }
     },
     "output_type": "display_data"
    }
   ],
   "source": [
    "# dbutils.fs.rm(path+\"train_mini.parquet\", True)\n",
    "# train_mini.write.parquet(path+\"train_mini.parquet\")\n",
    "train_mini = spark.read.parquet(\"/Users/kkw24@ischool.berkeley.edu/final/train_mini.parquet\").cache()"
   ]
  },
  {
   "cell_type": "code",
   "execution_count": 0,
   "metadata": {
    "application/vnd.databricks.v1+cell": {
     "inputWidgets": {},
     "nuid": "e1d258cd-95d6-454b-a239-549fb0d4d170",
     "showTitle": false,
     "title": ""
    }
   },
   "outputs": [
    {
     "data": {
      "text/html": [
       "<style scoped>\n",
       "  .ansiout {\n",
       "    display: block;\n",
       "    unicode-bidi: embed;\n",
       "    white-space: pre-wrap;\n",
       "    word-wrap: break-word;\n",
       "    word-break: break-all;\n",
       "    font-family: \"Source Code Pro\", \"Menlo\", monospace;;\n",
       "    font-size: 13px;\n",
       "    color: #555;\n",
       "    margin-left: 4px;\n",
       "    line-height: 19px;\n",
       "  }\n",
       "</style>\n",
       "<div class=\"ansiout\"></div>"
      ]
     },
     "metadata": {
      "application/vnd.databricks.v1+output": {
       "addedWidgets": {},
       "arguments": {},
       "data": "<div class=\"ansiout\"></div>",
       "datasetInfos": [],
       "removedWidgets": [],
       "type": "html"
      }
     },
     "output_type": "display_data"
    }
   ],
   "source": [
    "feature_names = ['YEAR', 'MONTH', 'DAY_OF_MONTH', 'DEP_DELAY_NEW_p', 'CARRIER_DELAY_p', 'WEATHER_DELAY_p', 'NAS_DELAY_p', 'SECURITY_DELAY_p', 'LATE_AIRCRAFT_DELAY_p', 'totNumFlights', 'meanDelayAcrossFlights', 'propDelayed', 'HOUR', 'avgTMP_airTemp', 'avgWND_speed', 'avgCIG_height', 'avgVIS_distance', 'avgSLP_airPressure', 'avgPRECIP_duration', 'avgPRECIP_amount', 'avgSNOW_depth', 'DAY_OF_YEAR', 'OP_CARRIER_index', 'ORIGIN_index', 'DEST_index', 'ORIGIN_p_index', 'DAY_OF_WEEK_index']"
   ]
  },
  {
   "cell_type": "code",
   "execution_count": 0,
   "metadata": {
    "application/vnd.databricks.v1+cell": {
     "inputWidgets": {},
     "nuid": "ae7448c3-4ad6-43f7-97f8-b9af909764bb",
     "showTitle": false,
     "title": ""
    }
   },
   "outputs": [
    {
     "data": {
      "text/html": [
       "<style scoped>\n",
       "  .ansiout {\n",
       "    display: block;\n",
       "    unicode-bidi: embed;\n",
       "    white-space: pre-wrap;\n",
       "    word-wrap: break-word;\n",
       "    word-break: break-all;\n",
       "    font-family: \"Source Code Pro\", \"Menlo\", monospace;;\n",
       "    font-size: 13px;\n",
       "    color: #555;\n",
       "    margin-left: 4px;\n",
       "    line-height: 19px;\n",
       "  }\n",
       "</style>\n",
       "<div class=\"ansiout\">Out[5]: 21497</div>"
      ]
     },
     "metadata": {
      "application/vnd.databricks.v1+output": {
       "addedWidgets": {},
       "arguments": {},
       "data": "<div class=\"ansiout\">Out[5]: 21497</div>",
       "datasetInfos": [],
       "removedWidgets": [],
       "type": "html"
      }
     },
     "output_type": "display_data"
    }
   ],
   "source": [
    "train_mini.count()"
   ]
  },
  {
   "cell_type": "markdown",
   "metadata": {},
   "source": [
    "## Train-eval pipeline"
   ]
  },
  {
   "cell_type": "code",
   "execution_count": 0,
   "metadata": {
    "application/vnd.databricks.v1+cell": {
     "inputWidgets": {},
     "nuid": "d57efaba-da09-4bb1-8930-2174babc4501",
     "showTitle": false,
     "title": ""
    }
   },
   "outputs": [
    {
     "data": {
      "text/html": [
       "<style scoped>\n",
       "  .ansiout {\n",
       "    display: block;\n",
       "    unicode-bidi: embed;\n",
       "    white-space: pre-wrap;\n",
       "    word-wrap: break-word;\n",
       "    word-break: break-all;\n",
       "    font-family: \"Source Code Pro\", \"Menlo\", monospace;;\n",
       "    font-size: 13px;\n",
       "    color: #555;\n",
       "    margin-left: 4px;\n",
       "    line-height: 19px;\n",
       "  }\n",
       "</style>\n",
       "<div class=\"ansiout\"></div>"
      ]
     },
     "metadata": {
      "application/vnd.databricks.v1+output": {
       "addedWidgets": {},
       "arguments": {},
       "data": "<div class=\"ansiout\"></div>",
       "datasetInfos": [],
       "removedWidgets": [],
       "type": "html"
      }
     },
     "output_type": "display_data"
    }
   ],
   "source": [
    "# Train-eval pipeline\n",
    "\n",
    "def train_eval(traindata=train_mini, testdata = test_fin, features=\"features\", trees=20, depth=5, weights=True):\n",
    "\n",
    "  # Train\n",
    "  start_time = time.time()\n",
    "  if weights:\n",
    "    m = RandomForestClassifier(labelCol=\"DEP_DEL15\", featuresCol=features, maxBins = 369, numTrees=trees, maxDepth = depth, maxMemoryInMB=1000, weightCol=\"classWeights\")\n",
    "  else:\n",
    "    m = RandomForestClassifier(labelCol=\"DEP_DEL15\", featuresCol=features, maxBins = 369, numTrees=trees, maxDepth = depth, maxMemoryInMB=1000)\n",
    "  m_model=m.fit(traindata)\n",
    "  traintime = time.time() - start_time\n",
    "\n",
    "  # Eval\n",
    "  start_time = time.time()\n",
    "  train_pred = m_model.transform(traindata)\n",
    "  test_pred = m_model.transform(testdata)\n",
    "  predicttime = time.time() - start_time\n",
    "  \n",
    "  test_preds = [prediction[0] for prediction in test_pred.select('prediction').collect()]\n",
    "  test_labels = [label[0] for label in test_pred.select('DEP_DEL15').collect()]\n",
    "  \n",
    "  train_preds = [prediction[0] for prediction in train_pred.select('prediction').collect()]\n",
    "  train_labels = [label[0] for label in train_pred.select('DEP_DEL15').collect()]\n",
    "  \n",
    "  cm = confusion_matrix(test_labels, test_preds)\n",
    "  \n",
    "  acc = (cm[0,0] + cm[1,1])/np.sum(cm)\n",
    "  prec = cm[1,1]/(cm[1,1] + cm[0,1])\n",
    "  recall = cm[1,1]/(cm[1,1] + cm[1,0])\n",
    "  f1 = 2*(prec*recall)/(prec+recall)\n",
    "  \n",
    "  cm2 = confusion_matrix(train_labels, train_preds)\n",
    "  prec2 = cm2[1,1]/(cm2[1,1] + cm2[0,1])\n",
    "  recall2 = cm2[1,1]/(cm2[1,1] + cm2[1,0])\n",
    "  trainf1 = 2*(prec2*recall2)/(prec2+recall2)\n",
    "  \n",
    "  # examine feature importance\n",
    "  importance = DenseVector(m_model.featureImportances)\n",
    "  rf_importance = pd.DataFrame(list(zip(feature_names, importance)), columns=[\"feature\", \"importance\"]).sort_values(by=\"importance\", ascending=False)\n",
    "  \n",
    "  params = [features, trees, depth, traintime, predicttime]\n",
    "  metrics = [cm, acc, prec, recall, f1, cm2, trainf1]\n",
    "  \n",
    "  print(\"params\", params)\n",
    "  print(\"metrics\", metrics)\n",
    "  \n",
    "  return params, metrics, test_pred, rf_importance"
   ]
  },
  {
   "cell_type": "code",
   "execution_count": 0,
   "metadata": {
    "application/vnd.databricks.v1+cell": {
     "inputWidgets": {},
     "nuid": "7a201fe5-e8ad-478d-bcb2-14a3e6eb946d",
     "showTitle": false,
     "title": ""
    }
   },
   "outputs": [
    {
     "data": {
      "text/html": [
       "<style scoped>\n",
       "  .ansiout {\n",
       "    display: block;\n",
       "    unicode-bidi: embed;\n",
       "    white-space: pre-wrap;\n",
       "    word-wrap: break-word;\n",
       "    word-break: break-all;\n",
       "    font-family: \"Source Code Pro\", \"Menlo\", monospace;;\n",
       "    font-size: 13px;\n",
       "    color: #555;\n",
       "    margin-left: 4px;\n",
       "    line-height: 19px;\n",
       "  }\n",
       "</style>\n",
       "<div class=\"ansiout\">params [&#39;features&#39;, 20, 3, 11.732930421829224, 0.16115522384643555]\n",
       "metrics [array([[4965130,  349113],\n",
       "       [ 567343,  584135]]), 0.8582592722451217, 0.6259161551913318, 0.507291498404659, 0.560394987158984, array([[16694,  1057],\n",
       "       [ 1813,  1933]]), 0.560394987158984]\n",
       "params [&#39;features&#39;, 20, 5, 10.500224590301514, 0.14582490921020508]\n",
       "metrics [array([[4972283,  341960],\n",
       "       [ 570098,  581380]]), 0.8589394748087645, 0.6296488834015639, 0.5048989212125633, 0.5604154195693308, array([[16835,   916],\n",
       "       [ 1812,  1934]]), 0.5604154195693308]\n",
       "params [&#39;features&#39;, 20, 10, 2.5810043811798096, 0.053002357482910156]\n",
       "metrics [array([[4920463,  393780],\n",
       "       [ 561116,  590362]]), 0.8523140729394293, 0.5998748148133095, 0.5126993307731454, 0.552871765576273, array([[17040,   711],\n",
       "       [ 1491,  2255]]), 0.552871765576273]\n",
       "</div>"
      ]
     },
     "metadata": {
      "application/vnd.databricks.v1+output": {
       "addedWidgets": {},
       "arguments": {},
       "data": "<div class=\"ansiout\">params [&#39;features&#39;, 20, 3, 11.732930421829224, 0.16115522384643555]\nmetrics [array([[4965130,  349113],\n       [ 567343,  584135]]), 0.8582592722451217, 0.6259161551913318, 0.507291498404659, 0.560394987158984, array([[16694,  1057],\n       [ 1813,  1933]]), 0.560394987158984]\nparams [&#39;features&#39;, 20, 5, 10.500224590301514, 0.14582490921020508]\nmetrics [array([[4972283,  341960],\n       [ 570098,  581380]]), 0.8589394748087645, 0.6296488834015639, 0.5048989212125633, 0.5604154195693308, array([[16835,   916],\n       [ 1812,  1934]]), 0.5604154195693308]\nparams [&#39;features&#39;, 20, 10, 2.5810043811798096, 0.053002357482910156]\nmetrics [array([[4920463,  393780],\n       [ 561116,  590362]]), 0.8523140729394293, 0.5998748148133095, 0.5126993307731454, 0.552871765576273, array([[17040,   711],\n       [ 1491,  2255]]), 0.552871765576273]\n</div>",
       "datasetInfos": [],
       "removedWidgets": [],
       "type": "html"
      }
     },
     "output_type": "display_data"
    }
   ],
   "source": [
    "# Search tree depth\n",
    "depths = [3, 5, 10]\n",
    "\n",
    "metrics_list = []\n",
    "param_list = []\n",
    "\n",
    "for d in depths:\n",
    "  params, metrics, rf_importance = train_eval(trees=20, depth=d)\n",
    "  metrics_list.append(metrics)\n",
    "  param_list.append(params)"
   ]
  },
  {
   "cell_type": "code",
   "execution_count": 0,
   "metadata": {
    "application/vnd.databricks.v1+cell": {
     "inputWidgets": {},
     "nuid": "9176f92f-e033-49ca-857d-6b82a389a82b",
     "showTitle": false,
     "title": ""
    }
   },
   "outputs": [
    {
     "data": {
      "image/png": "[encoded data removed]"
     },
     "metadata": {
      "application/vnd.databricks.v1+output": {
       "addedWidgets": {},
       "arguments": {},
       "data": "/plots/c55f532f-86f6-453c-81f7-bf780f215e43.png",
       "datasetInfos": [],
       "removedWidgets": [],
       "type": "image"
      }
     },
     "output_type": "display_data"
    }
   ],
   "source": [
    "f1_depth = [x[4] for x in metrics_list]\n",
    "traintimes = [x[3] for x in param_list]\n",
    "\n",
    "plt.subplot(1, 2, 1)\n",
    "plt.scatter(depths, f1_depth, color = \"royalblue\")\n",
    "plt.title(\"F1, test\")\n",
    "\n",
    "plt.subplot(1, 2, 2)\n",
    "plt.scatter(depths, traintimes, color = \"firebrick\")\n",
    "plt.title(\"Training time, sample\")\n",
    "\n",
    "plt.suptitle(\"Tuning tree depth\", size=20, y=1.05)\n",
    "\n",
    "plt.show()"
   ]
  },
  {
   "cell_type": "code",
   "execution_count": 0,
   "metadata": {
    "application/vnd.databricks.v1+cell": {
     "inputWidgets": {},
     "nuid": "30701029-ab11-43c8-9b75-4db128b5700d",
     "showTitle": false,
     "title": ""
    }
   },
   "outputs": [
    {
     "data": {
      "text/html": [
       "<style scoped>\n",
       "  .ansiout {\n",
       "    display: block;\n",
       "    unicode-bidi: embed;\n",
       "    white-space: pre-wrap;\n",
       "    word-wrap: break-word;\n",
       "    word-break: break-all;\n",
       "    font-family: \"Source Code Pro\", \"Menlo\", monospace;;\n",
       "    font-size: 13px;\n",
       "    color: #555;\n",
       "    margin-left: 4px;\n",
       "    line-height: 19px;\n",
       "  }\n",
       "</style>\n",
       "<div class=\"ansiout\">params [&#39;features&#39;, 20, 5, 20.960612297058105, 0.15358877182006836]\n",
       "metrics [array([[4935750,  378493],\n",
       "       [ 559535,  591943]]), 0.8549229080561935, 0.6099763405314724, 0.514072348755252, 0.5579330736306939, array([[165722,  11728],\n",
       "       [ 17555,  19183]]), 0.5671332909577377]\n",
       "params [&#39;features&#39;, 30, 5, 85.93611526489258, 0.15213727951049805]\n",
       "metrics [array([[4928210,  386033],\n",
       "       [ 557835,  593643]]), 0.854019683187691, 0.605958500565493, 0.5155487121768718, 0.5571094346067905, array([[165464,  11986],\n",
       "       [ 17496,  19242]]), 0.5662242886148957]\n",
       "params [&#39;features&#39;, 40, 5, 33.739585399627686, 0.7616114616394043]\n",
       "metrics [array([[4915846,  398397],\n",
       "       [ 555006,  596472]]), 0.8525449829957092, 0.5995482822361538, 0.5180055546002615, 0.5558020208288781, array([[165015,  12435],\n",
       "       [ 17406,  19332]]), 0.5643967593606306]\n",
       "</div>"
      ]
     },
     "metadata": {
      "application/vnd.databricks.v1+output": {
       "addedWidgets": {},
       "arguments": {},
       "data": "<div class=\"ansiout\">params [&#39;features&#39;, 20, 5, 20.960612297058105, 0.15358877182006836]\nmetrics [array([[4935750,  378493],\n       [ 559535,  591943]]), 0.8549229080561935, 0.6099763405314724, 0.514072348755252, 0.5579330736306939, array([[165722,  11728],\n       [ 17555,  19183]]), 0.5671332909577377]\nparams [&#39;features&#39;, 30, 5, 85.93611526489258, 0.15213727951049805]\nmetrics [array([[4928210,  386033],\n       [ 557835,  593643]]), 0.854019683187691, 0.605958500565493, 0.5155487121768718, 0.5571094346067905, array([[165464,  11986],\n       [ 17496,  19242]]), 0.5662242886148957]\nparams [&#39;features&#39;, 40, 5, 33.739585399627686, 0.7616114616394043]\nmetrics [array([[4915846,  398397],\n       [ 555006,  596472]]), 0.8525449829957092, 0.5995482822361538, 0.5180055546002615, 0.5558020208288781, array([[165015,  12435],\n       [ 17406,  19332]]), 0.5643967593606306]\n</div>",
       "datasetInfos": [],
       "removedWidgets": [],
       "type": "html"
      }
     },
     "output_type": "display_data"
    }
   ],
   "source": [
    "# Search num trees\n",
    "nT = [20, 30, 40]\n",
    "\n",
    "metrics_list_trees = []\n",
    "param_list_trees = []\n",
    "\n",
    "for t in nT:\n",
    "  params, metrics, rf_importance = train_eval(trees=t, depth=5)\n",
    "  metrics_list_trees.append(metrics)\n",
    "  param_list_trees.append(params)"
   ]
  },
  {
   "cell_type": "code",
   "execution_count": 0,
   "metadata": {
    "application/vnd.databricks.v1+cell": {
     "inputWidgets": {},
     "nuid": "75355543-1969-4493-b1ac-a04423da1c66",
     "showTitle": false,
     "title": ""
    }
   },
   "outputs": [
    {
     "data": {
      "image/png": "[encoded data removed]"
     },
     "metadata": {
      "application/vnd.databricks.v1+output": {
       "addedWidgets": {},
       "arguments": {},
       "data": "/plots/cac139e6-86b4-4648-bf53-fcf5cc736f03.png",
       "datasetInfos": [],
       "removedWidgets": [],
       "type": "image"
      }
     },
     "output_type": "display_data"
    }
   ],
   "source": [
    "f1_trees = [x[4] for x in metrics_list_trees]\n",
    "f1_train = [x[6] for x in metrics_list_trees]\n",
    "traintimes = [x[3] for x in param_list_trees]\n",
    "\n",
    "plt.subplot(1, 2, 1)\n",
    "plt.scatter(nT, f1_trees, color = \"royalblue\", label=\"test\")\n",
    "plt.scatter(nT, f1_train, color = \"lightskyblue\", label=\"train\")\n",
    "plt.legend(loc='lower left')\n",
    "plt.xlabel(\"NumTrees\")\n",
    "plt.title(\"F1\")\n",
    "\n",
    "plt.subplot(1, 2, 2)\n",
    "plt.scatter(nT, traintimes, color = \"firebrick\")\n",
    "plt.xlabel(\"NumTrees\")\n",
    "plt.title(\"Training time, sample\")\n",
    "\n",
    "plt.suptitle(\"Tuning number of trees\", size=20, y=1.05)\n",
    "plt.show()"
   ]
  },
  {
   "cell_type": "code",
   "execution_count": 0,
   "metadata": {
    "application/vnd.databricks.v1+cell": {
     "inputWidgets": {},
     "nuid": "941a23d5-7a9f-4c93-9886-9d9ab076b889",
     "showTitle": false,
     "title": ""
    }
   },
   "outputs": [
    {
     "data": {
      "text/html": [
       "<style scoped>\n",
       "  .ansiout {\n",
       "    display: block;\n",
       "    unicode-bidi: embed;\n",
       "    white-space: pre-wrap;\n",
       "    word-wrap: break-word;\n",
       "    word-break: break-all;\n",
       "    font-family: \"Source Code Pro\", \"Menlo\", monospace;;\n",
       "    font-size: 13px;\n",
       "    color: #555;\n",
       "    margin-left: 4px;\n",
       "    line-height: 19px;\n",
       "  }\n",
       "</style>\n",
       "<div class=\"ansiout\">params [&#39;features&#39;, 20, 5, 158.54557704925537, 0.14339995384216309]\n",
       "metrics [array([[4916436,  397807],\n",
       "       [ 555528,  595950]]), 0.8525554999976027, 0.5996938889487068, 0.5175522241849171, 0.5556034653546115, array([[16487980,  1256746],\n",
       "       [ 1752397,  1922543]]), 0.560980089810247]\n",
       "</div>"
      ]
     },
     "metadata": {
      "application/vnd.databricks.v1+output": {
       "addedWidgets": {},
       "arguments": {},
       "data": "<div class=\"ansiout\">params [&#39;features&#39;, 20, 5, 158.54557704925537, 0.14339995384216309]\nmetrics [array([[4916436,  397807],\n       [ 555528,  595950]]), 0.8525554999976027, 0.5996938889487068, 0.5175522241849171, 0.5556034653546115, array([[16487980,  1256746],\n       [ 1752397,  1922543]]), 0.560980089810247]\n</div>",
       "datasetInfos": [],
       "removedWidgets": [],
       "type": "html"
      }
     },
     "output_type": "display_data"
    }
   ],
   "source": [
    "# Full training run with all data, full features\n",
    "\n",
    "params0, metrics0, rf_importance0 = train_eval(traindata=train_fin, trees=20, depth=5)"
   ]
  },
  {
   "cell_type": "code",
   "execution_count": 0,
   "metadata": {
    "application/vnd.databricks.v1+cell": {
     "inputWidgets": {},
     "nuid": "e94fea9e-db44-4338-8990-956a180436c9",
     "showTitle": false,
     "title": ""
    }
   },
   "outputs": [
    {
     "data": {
      "text/html": [
       "<style scoped>\n",
       "  .ansiout {\n",
       "    display: block;\n",
       "    unicode-bidi: embed;\n",
       "    white-space: pre-wrap;\n",
       "    word-wrap: break-word;\n",
       "    word-break: break-all;\n",
       "    font-family: \"Source Code Pro\", \"Menlo\", monospace;;\n",
       "    font-size: 13px;\n",
       "    color: #555;\n",
       "    margin-left: 4px;\n",
       "    line-height: 19px;\n",
       "  }\n",
       "</style>\n",
       "<div class=\"ansiout\">Out[27]: </div>"
      ]
     },
     "metadata": {
      "application/vnd.databricks.v1+output": {
       "addedWidgets": {},
       "arguments": {},
       "data": "<div class=\"ansiout\">Out[27]: </div>",
       "datasetInfos": [],
       "removedWidgets": [],
       "type": "html"
      }
     },
     "output_type": "display_data"
    },
    {
     "data": {
      "image/png": "[encoded data removed]"
     },
     "metadata": {
      "application/vnd.databricks.v1+output": {
       "addedWidgets": {},
       "arguments": {},
       "data": "/plots/d3de03c2-b671-4fe0-a7a9-862172d68b00.png",
       "datasetInfos": [],
       "removedWidgets": [],
       "type": "image"
      }
     },
     "output_type": "display_data"
    },
    {
     "data": {
      "text/html": [
       "<style scoped>\n",
       "  .ansiout {\n",
       "    display: block;\n",
       "    unicode-bidi: embed;\n",
       "    white-space: pre-wrap;\n",
       "    word-wrap: break-word;\n",
       "    word-break: break-all;\n",
       "    font-family: \"Source Code Pro\", \"Menlo\", monospace;;\n",
       "    font-size: 13px;\n",
       "    color: #555;\n",
       "    margin-left: 4px;\n",
       "    line-height: 19px;\n",
       "  }\n",
       "</style>\n",
       "<div class=\"ansiout\">Text(0.5, 1.0, &#39;Random forest feature importance&#39;)</div>"
      ]
     },
     "metadata": {
      "application/vnd.databricks.v1+output": {
       "addedWidgets": {},
       "arguments": {},
       "data": "<div class=\"ansiout\">Text(0.5, 1.0, &#39;Random forest feature importance&#39;)</div>",
       "datasetInfos": [],
       "removedWidgets": [],
       "type": "html"
      }
     },
     "output_type": "display_data"
    }
   ],
   "source": [
    "plt.figure(figsize=(6,8))\n",
    "plt.barh(rf_importance0.feature, rf_importance0.importance)\n",
    "plt.gca().invert_yaxis()\n",
    "plt.xlabel(\"Feature importance\")\n",
    "plt.title(\"Random forest feature importance\", size=20)"
   ]
  },
  {
   "cell_type": "code",
   "execution_count": 0,
   "metadata": {
    "application/vnd.databricks.v1+cell": {
     "inputWidgets": {},
     "nuid": "0785b930-ed81-4ea4-8ae3-1d6daf2c122c",
     "showTitle": false,
     "title": ""
    }
   },
   "outputs": [
    {
     "data": {
      "text/html": [
       "<style scoped>\n",
       "  .ansiout {\n",
       "    display: block;\n",
       "    unicode-bidi: embed;\n",
       "    white-space: pre-wrap;\n",
       "    word-wrap: break-word;\n",
       "    word-break: break-all;\n",
       "    font-family: \"Source Code Pro\", \"Menlo\", monospace;;\n",
       "    font-size: 13px;\n",
       "    color: #555;\n",
       "    margin-left: 4px;\n",
       "    line-height: 19px;\n",
       "  }\n",
       "</style>\n",
       "<div class=\"ansiout\">Out[28]: </div>"
      ]
     },
     "metadata": {
      "application/vnd.databricks.v1+output": {
       "addedWidgets": {},
       "arguments": {},
       "data": "<div class=\"ansiout\">Out[28]: </div>",
       "datasetInfos": [],
       "removedWidgets": [],
       "type": "html"
      }
     },
     "output_type": "display_data"
    },
    {
     "data": {
      "text/html": [
       "<div>\n",
       "<style scoped>\n",
       "    .dataframe tbody tr th:only-of-type {\n",
       "        vertical-align: middle;\n",
       "    }\n",
       "\n",
       "    .dataframe tbody tr th {\n",
       "        vertical-align: top;\n",
       "    }\n",
       "\n",
       "    .dataframe thead th {\n",
       "        text-align: right;\n",
       "    }\n",
       "</style>\n",
       "<table border=\"1\" class=\"dataframe\">\n",
       "  <thead>\n",
       "    <tr style=\"text-align: right;\">\n",
       "      <th></th>\n",
       "      <th>feature</th>\n",
       "      <th>importance</th>\n",
       "    </tr>\n",
       "  </thead>\n",
       "  <tbody>\n",
       "    <tr>\n",
       "      <th>3</th>\n",
       "      <td>DEP_DELAY_NEW_p</td>\n",
       "      <td>3.800146e-01</td>\n",
       "    </tr>\n",
       "    <tr>\n",
       "      <th>6</th>\n",
       "      <td>NAS_DELAY_p</td>\n",
       "      <td>2.109426e-01</td>\n",
       "    </tr>\n",
       "    <tr>\n",
       "      <th>4</th>\n",
       "      <td>CARRIER_DELAY_p</td>\n",
       "      <td>2.075370e-01</td>\n",
       "    </tr>\n",
       "    <tr>\n",
       "      <th>8</th>\n",
       "      <td>LATE_AIRCRAFT_DELAY_p</td>\n",
       "      <td>1.308915e-01</td>\n",
       "    </tr>\n",
       "    <tr>\n",
       "      <th>12</th>\n",
       "      <td>HOUR</td>\n",
       "      <td>1.956967e-02</td>\n",
       "    </tr>\n",
       "    <tr>\n",
       "      <th>11</th>\n",
       "      <td>propDelayed</td>\n",
       "      <td>1.822840e-02</td>\n",
       "    </tr>\n",
       "    <tr>\n",
       "      <th>10</th>\n",
       "      <td>meanDelayAcrossFlights</td>\n",
       "      <td>1.369449e-02</td>\n",
       "    </tr>\n",
       "    <tr>\n",
       "      <th>23</th>\n",
       "      <td>ORIGIN_index</td>\n",
       "      <td>3.828014e-03</td>\n",
       "    </tr>\n",
       "    <tr>\n",
       "      <th>5</th>\n",
       "      <td>WEATHER_DELAY_p</td>\n",
       "      <td>3.801498e-03</td>\n",
       "    </tr>\n",
       "    <tr>\n",
       "      <th>14</th>\n",
       "      <td>avgWND_speed</td>\n",
       "      <td>2.785659e-03</td>\n",
       "    </tr>\n",
       "    <tr>\n",
       "      <th>25</th>\n",
       "      <td>ORIGIN_p_index</td>\n",
       "      <td>2.120784e-03</td>\n",
       "    </tr>\n",
       "    <tr>\n",
       "      <th>15</th>\n",
       "      <td>avgCIG_height</td>\n",
       "      <td>2.008864e-03</td>\n",
       "    </tr>\n",
       "    <tr>\n",
       "      <th>21</th>\n",
       "      <td>DAY_OF_YEAR</td>\n",
       "      <td>1.362636e-03</td>\n",
       "    </tr>\n",
       "    <tr>\n",
       "      <th>16</th>\n",
       "      <td>avgVIS_distance</td>\n",
       "      <td>1.108121e-03</td>\n",
       "    </tr>\n",
       "    <tr>\n",
       "      <th>9</th>\n",
       "      <td>totNumFlights</td>\n",
       "      <td>7.979350e-04</td>\n",
       "    </tr>\n",
       "    <tr>\n",
       "      <th>13</th>\n",
       "      <td>avgTMP_airTemp</td>\n",
       "      <td>6.384437e-04</td>\n",
       "    </tr>\n",
       "    <tr>\n",
       "      <th>1</th>\n",
       "      <td>MONTH</td>\n",
       "      <td>4.451180e-04</td>\n",
       "    </tr>\n",
       "    <tr>\n",
       "      <th>22</th>\n",
       "      <td>OP_CARRIER_index</td>\n",
       "      <td>1.764141e-04</td>\n",
       "    </tr>\n",
       "    <tr>\n",
       "      <th>24</th>\n",
       "      <td>DEST_index</td>\n",
       "      <td>4.798751e-05</td>\n",
       "    </tr>\n",
       "    <tr>\n",
       "      <th>19</th>\n",
       "      <td>avgPRECIP_amount</td>\n",
       "      <td>1.566507e-07</td>\n",
       "    </tr>\n",
       "    <tr>\n",
       "      <th>0</th>\n",
       "      <td>YEAR</td>\n",
       "      <td>0.000000e+00</td>\n",
       "    </tr>\n",
       "    <tr>\n",
       "      <th>20</th>\n",
       "      <td>avgSNOW_depth</td>\n",
       "      <td>0.000000e+00</td>\n",
       "    </tr>\n",
       "    <tr>\n",
       "      <th>18</th>\n",
       "      <td>avgPRECIP_duration</td>\n",
       "      <td>0.000000e+00</td>\n",
       "    </tr>\n",
       "    <tr>\n",
       "      <th>17</th>\n",
       "      <td>avgSLP_airPressure</td>\n",
       "      <td>0.000000e+00</td>\n",
       "    </tr>\n",
       "    <tr>\n",
       "      <th>7</th>\n",
       "      <td>SECURITY_DELAY_p</td>\n",
       "      <td>0.000000e+00</td>\n",
       "    </tr>\n",
       "    <tr>\n",
       "      <th>2</th>\n",
       "      <td>DAY_OF_MONTH</td>\n",
       "      <td>0.000000e+00</td>\n",
       "    </tr>\n",
       "    <tr>\n",
       "      <th>26</th>\n",
       "      <td>DAY_OF_WEEK_index</td>\n",
       "      <td>0.000000e+00</td>\n",
       "    </tr>\n",
       "  </tbody>\n",
       "</table>\n",
       "</div>"
      ]
     },
     "metadata": {
      "application/vnd.databricks.v1+output": {
       "addedWidgets": {},
       "arguments": {},
       "data": "<div>\n<style scoped>\n    .dataframe tbody tr th:only-of-type {\n        vertical-align: middle;\n    }\n\n    .dataframe tbody tr th {\n        vertical-align: top;\n    }\n\n    .dataframe thead th {\n        text-align: right;\n    }\n</style>\n<table border=\"1\" class=\"dataframe\">\n  <thead>\n    <tr style=\"text-align: right;\">\n      <th></th>\n      <th>feature</th>\n      <th>importance</th>\n    </tr>\n  </thead>\n  <tbody>\n    <tr>\n      <th>3</th>\n      <td>DEP_DELAY_NEW_p</td>\n      <td>3.800146e-01</td>\n    </tr>\n    <tr>\n      <th>6</th>\n      <td>NAS_DELAY_p</td>\n      <td>2.109426e-01</td>\n    </tr>\n    <tr>\n      <th>4</th>\n      <td>CARRIER_DELAY_p</td>\n      <td>2.075370e-01</td>\n    </tr>\n    <tr>\n      <th>8</th>\n      <td>LATE_AIRCRAFT_DELAY_p</td>\n      <td>1.308915e-01</td>\n    </tr>\n    <tr>\n      <th>12</th>\n      <td>HOUR</td>\n      <td>1.956967e-02</td>\n    </tr>\n    <tr>\n      <th>11</th>\n      <td>propDelayed</td>\n      <td>1.822840e-02</td>\n    </tr>\n    <tr>\n      <th>10</th>\n      <td>meanDelayAcrossFlights</td>\n      <td>1.369449e-02</td>\n    </tr>\n    <tr>\n      <th>23</th>\n      <td>ORIGIN_index</td>\n      <td>3.828014e-03</td>\n    </tr>\n    <tr>\n      <th>5</th>\n      <td>WEATHER_DELAY_p</td>\n      <td>3.801498e-03</td>\n    </tr>\n    <tr>\n      <th>14</th>\n      <td>avgWND_speed</td>\n      <td>2.785659e-03</td>\n    </tr>\n    <tr>\n      <th>25</th>\n      <td>ORIGIN_p_index</td>\n      <td>2.120784e-03</td>\n    </tr>\n    <tr>\n      <th>15</th>\n      <td>avgCIG_height</td>\n      <td>2.008864e-03</td>\n    </tr>\n    <tr>\n      <th>21</th>\n      <td>DAY_OF_YEAR</td>\n      <td>1.362636e-03</td>\n    </tr>\n    <tr>\n      <th>16</th>\n      <td>avgVIS_distance</td>\n      <td>1.108121e-03</td>\n    </tr>\n    <tr>\n      <th>9</th>\n      <td>totNumFlights</td>\n      <td>7.979350e-04</td>\n    </tr>\n    <tr>\n      <th>13</th>\n      <td>avgTMP_airTemp</td>\n      <td>6.384437e-04</td>\n    </tr>\n    <tr>\n      <th>1</th>\n      <td>MONTH</td>\n      <td>4.451180e-04</td>\n    </tr>\n    <tr>\n      <th>22</th>\n      <td>OP_CARRIER_index</td>\n      <td>1.764141e-04</td>\n    </tr>\n    <tr>\n      <th>24</th>\n      <td>DEST_index</td>\n      <td>4.798751e-05</td>\n    </tr>\n    <tr>\n      <th>19</th>\n      <td>avgPRECIP_amount</td>\n      <td>1.566507e-07</td>\n    </tr>\n    <tr>\n      <th>0</th>\n      <td>YEAR</td>\n      <td>0.000000e+00</td>\n    </tr>\n    <tr>\n      <th>20</th>\n      <td>avgSNOW_depth</td>\n      <td>0.000000e+00</td>\n    </tr>\n    <tr>\n      <th>18</th>\n      <td>avgPRECIP_duration</td>\n      <td>0.000000e+00</td>\n    </tr>\n    <tr>\n      <th>17</th>\n      <td>avgSLP_airPressure</td>\n      <td>0.000000e+00</td>\n    </tr>\n    <tr>\n      <th>7</th>\n      <td>SECURITY_DELAY_p</td>\n      <td>0.000000e+00</td>\n    </tr>\n    <tr>\n      <th>2</th>\n      <td>DAY_OF_MONTH</td>\n      <td>0.000000e+00</td>\n    </tr>\n    <tr>\n      <th>26</th>\n      <td>DAY_OF_WEEK_index</td>\n      <td>0.000000e+00</td>\n    </tr>\n  </tbody>\n</table>\n</div>",
       "datasetInfos": [],
       "removedWidgets": [],
       "textData": null,
       "type": "htmlSandbox"
      }
     },
     "output_type": "display_data"
    }
   ],
   "source": [
    "rf_importance0"
   ]
  },
  {
   "cell_type": "code",
   "execution_count": 0,
   "metadata": {
    "application/vnd.databricks.v1+cell": {
     "inputWidgets": {},
     "nuid": "74efb398-8e14-4838-b839-de71c328c60f",
     "showTitle": false,
     "title": ""
    }
   },
   "outputs": [
    {
     "data": {
      "text/html": [
       "<style scoped>\n",
       "  .ansiout {\n",
       "    display: block;\n",
       "    unicode-bidi: embed;\n",
       "    white-space: pre-wrap;\n",
       "    word-wrap: break-word;\n",
       "    word-break: break-all;\n",
       "    font-family: \"Source Code Pro\", \"Menlo\", monospace;;\n",
       "    font-size: 13px;\n",
       "    color: #555;\n",
       "    margin-left: 4px;\n",
       "    line-height: 19px;\n",
       "  }\n",
       "</style>\n",
       "<div class=\"ansiout\"></div>"
      ]
     },
     "metadata": {
      "application/vnd.databricks.v1+output": {
       "addedWidgets": {},
       "arguments": {},
       "data": "<div class=\"ansiout\"></div>",
       "datasetInfos": [],
       "removedWidgets": [],
       "type": "html"
      }
     },
     "output_type": "display_data"
    }
   ],
   "source": [
    "# Get list of reduced features\n",
    "\n",
    "# feat_red = list(rf_importance0[rf_importance0.importance>.001].feature)\n",
    "# print(feat_red)\n",
    "\n",
    "feat_red = ['DEP_DELAY_NEW_p', 'NAS_DELAY_p', 'CARRIER_DELAY_p', 'LATE_AIRCRAFT_DELAY_p', 'HOUR', 'propDelayed', 'meanDelayAcrossFlights', 'ORIGIN_index', 'WEATHER_DELAY_p', 'avgWND_speed', 'ORIGIN_p_index', 'avgCIG_height', 'DAY_OF_YEAR', 'avgVIS_distance']"
   ]
  },
  {
   "cell_type": "code",
   "execution_count": 0,
   "metadata": {
    "application/vnd.databricks.v1+cell": {
     "inputWidgets": {},
     "nuid": "a3e2a40f-ec50-4657-af61-c2b7612e926a",
     "showTitle": false,
     "title": ""
    }
   },
   "outputs": [
    {
     "data": {
      "text/html": [
       "<style scoped>\n",
       "  .ansiout {\n",
       "    display: block;\n",
       "    unicode-bidi: embed;\n",
       "    white-space: pre-wrap;\n",
       "    word-wrap: break-word;\n",
       "    word-break: break-all;\n",
       "    font-family: \"Source Code Pro\", \"Menlo\", monospace;;\n",
       "    font-size: 13px;\n",
       "    color: #555;\n",
       "    margin-left: 4px;\n",
       "    line-height: 19px;\n",
       "  }\n",
       "</style>\n",
       "<div class=\"ansiout\">21419666\n",
       "6465721\n",
       "</div>"
      ]
     },
     "metadata": {
      "application/vnd.databricks.v1+output": {
       "addedWidgets": {},
       "arguments": {},
       "data": "<div class=\"ansiout\">21419666\n6465721\n</div>",
       "datasetInfos": [],
       "removedWidgets": [],
       "type": "html"
      }
     },
     "output_type": "display_data"
    }
   ],
   "source": [
    "# create new feature vector with only reduced features\n",
    "\n",
    "assembler2 = VectorAssembler(inputCols=feat_red, outputCol=\"feat_red\")\n",
    "train_fin2 = assembler2.transform(train_fin).cache()\n",
    "test_fin2 = assembler2.transform(test_fin).cache()\n",
    "print(train_fin2.count())\n",
    "print(test_fin2.count())"
   ]
  },
  {
   "cell_type": "code",
   "execution_count": 0,
   "metadata": {
    "application/vnd.databricks.v1+cell": {
     "inputWidgets": {},
     "nuid": "f3d1b1bb-7266-4296-ada7-1370880e6111",
     "showTitle": false,
     "title": ""
    }
   },
   "outputs": [
    {
     "data": {
      "text/html": [
       "<style scoped>\n",
       "  .ansiout {\n",
       "    display: block;\n",
       "    unicode-bidi: embed;\n",
       "    white-space: pre-wrap;\n",
       "    word-wrap: break-word;\n",
       "    word-break: break-all;\n",
       "    font-family: \"Source Code Pro\", \"Menlo\", monospace;;\n",
       "    font-size: 13px;\n",
       "    color: #555;\n",
       "    margin-left: 4px;\n",
       "    line-height: 19px;\n",
       "  }\n",
       "</style>\n",
       "<div class=\"ansiout\">params [&#39;feat_red&#39;, 20, 5, 148.12292003631592, 0.1641390323638916]\n",
       "metrics [array([[4913175,  401068],\n",
       "       [ 555306,  596172]]), 0.8520854828100377, 0.597821988688781, 0.5177450198787993, 0.5549094855630193, array([[16475511,  1269215],\n",
       "       [ 1751680,  1923260]]), 0.5601117742265467]\n",
       "</div>"
      ]
     },
     "metadata": {
      "application/vnd.databricks.v1+output": {
       "addedWidgets": {},
       "arguments": {},
       "data": "<div class=\"ansiout\">params [&#39;feat_red&#39;, 20, 5, 148.12292003631592, 0.1641390323638916]\nmetrics [array([[4913175,  401068],\n       [ 555306,  596172]]), 0.8520854828100377, 0.597821988688781, 0.5177450198787993, 0.5549094855630193, array([[16475511,  1269215],\n       [ 1751680,  1923260]]), 0.5601117742265467]\n</div>",
       "datasetInfos": [],
       "removedWidgets": [],
       "type": "html"
      }
     },
     "output_type": "display_data"
    }
   ],
   "source": [
    "# Train full with reduced features\n",
    "params1, metrics1, rf_importance1 = train_eval(traindata=train_fin2, testdata = test_fin2, features=\"feat_red\", trees=20, depth=5)"
   ]
  },
  {
   "cell_type": "code",
   "execution_count": 0,
   "metadata": {
    "application/vnd.databricks.v1+cell": {
     "inputWidgets": {},
     "nuid": "00f0008e-ff75-428c-ae41-551309caa28d",
     "showTitle": false,
     "title": ""
    }
   },
   "outputs": [
    {
     "data": {
      "text/html": [
       "<style scoped>\n",
       "  .ansiout {\n",
       "    display: block;\n",
       "    unicode-bidi: embed;\n",
       "    white-space: pre-wrap;\n",
       "    word-wrap: break-word;\n",
       "    word-break: break-all;\n",
       "    font-family: \"Source Code Pro\", \"Menlo\", monospace;;\n",
       "    font-size: 13px;\n",
       "    color: #555;\n",
       "    margin-left: 4px;\n",
       "    line-height: 19px;\n",
       "  }\n",
       "</style>\n",
       "<div class=\"ansiout\">Out[102]: 6345905</div>"
      ]
     },
     "metadata": {
      "application/vnd.databricks.v1+output": {
       "addedWidgets": {},
       "arguments": {},
       "data": "<div class=\"ansiout\">Out[102]: 6345905</div>",
       "datasetInfos": [],
       "removedWidgets": [],
       "type": "html"
      }
     },
     "output_type": "display_data"
    }
   ],
   "source": [
    "# Train with less data\n",
    "train_18 = train_fin2.filter(f.col(\"YEAR\")==2018).cache()\n",
    "train_18.count()"
   ]
  },
  {
   "cell_type": "code",
   "execution_count": 0,
   "metadata": {
    "application/vnd.databricks.v1+cell": {
     "inputWidgets": {},
     "nuid": "bdfd8240-99c4-4ff3-bb9d-384061e79510",
     "showTitle": false,
     "title": ""
    }
   },
   "outputs": [
    {
     "data": {
      "text/html": [
       "<style scoped>\n",
       "  .ansiout {\n",
       "    display: block;\n",
       "    unicode-bidi: embed;\n",
       "    white-space: pre-wrap;\n",
       "    word-wrap: break-word;\n",
       "    word-break: break-all;\n",
       "    font-family: \"Source Code Pro\", \"Menlo\", monospace;;\n",
       "    font-size: 13px;\n",
       "    color: #555;\n",
       "    margin-left: 4px;\n",
       "    line-height: 19px;\n",
       "  }\n",
       "</style>\n",
       "<div class=\"ansiout\"></div>"
      ]
     },
     "metadata": {
      "application/vnd.databricks.v1+output": {
       "addedWidgets": {},
       "arguments": {},
       "data": "<div class=\"ansiout\"></div>",
       "datasetInfos": [],
       "removedWidgets": [],
       "type": "html"
      }
     },
     "output_type": "display_data"
    }
   ],
   "source": [
    "# dbutils.fs.rm(path+\"train_18.parquet\", True)\n",
    "\n",
    "# train_18.write.parquet(path+\"train_18.parquet\")\n",
    "\n",
    "# Note that this reads from my path\n",
    "train_18 = spark.read.parquet(\"/Users/kkw24@ischool.berkeley.edu/final/train_18.parquet\").cache()"
   ]
  },
  {
   "cell_type": "code",
   "execution_count": 0,
   "metadata": {
    "application/vnd.databricks.v1+cell": {
     "inputWidgets": {},
     "nuid": "8ba70f73-e58f-4019-bfa6-93eed06f6180",
     "showTitle": false,
     "title": ""
    }
   },
   "outputs": [
    {
     "data": {
      "text/html": [
       "<style scoped>\n",
       "  .ansiout {\n",
       "    display: block;\n",
       "    unicode-bidi: embed;\n",
       "    white-space: pre-wrap;\n",
       "    word-wrap: break-word;\n",
       "    word-break: break-all;\n",
       "    font-family: \"Source Code Pro\", \"Menlo\", monospace;;\n",
       "    font-size: 13px;\n",
       "    color: #555;\n",
       "    margin-left: 4px;\n",
       "    line-height: 19px;\n",
       "  }\n",
       "</style>\n",
       "<div class=\"ansiout\">params [&#39;features&#39;, 20, 5, 126.83258414268494, 0.15303683280944824]\n",
       "metrics [array([[4918747,  395496],\n",
       "       [ 555157,  596321]]), 0.8529703029252268, 0.6012409547325767, 0.5178744187904589, 0.5564525648592472, array([[4845475,  387086],\n",
       "       [ 524060,  589284]]), 0.5639853109085741]\n",
       "</div>"
      ]
     },
     "metadata": {
      "application/vnd.databricks.v1+output": {
       "addedWidgets": {},
       "arguments": {},
       "data": "<div class=\"ansiout\">params [&#39;features&#39;, 20, 5, 126.83258414268494, 0.15303683280944824]\nmetrics [array([[4918747,  395496],\n       [ 555157,  596321]]), 0.8529703029252268, 0.6012409547325767, 0.5178744187904589, 0.5564525648592472, array([[4845475,  387086],\n       [ 524060,  589284]]), 0.5639853109085741]\n</div>",
       "datasetInfos": [],
       "removedWidgets": [],
       "type": "html"
      }
     },
     "output_type": "display_data"
    }
   ],
   "source": [
    "params3, metrics3, rf_importance3 = train_eval(traindata=train_18, testdata = test_fin2, trees=20, depth=5)\n",
    "\n",
    "# params = [features, trees, depth, traintime, predicttime]\n",
    "# metrics = [cm, acc, prec, recall, f1, cm2, trainf1]"
   ]
  },
  {
   "cell_type": "code",
   "execution_count": 0,
   "metadata": {
    "application/vnd.databricks.v1+cell": {
     "inputWidgets": {},
     "nuid": "8728169d-4459-4632-a0f7-c52ea6827e44",
     "showTitle": false,
     "title": ""
    }
   },
   "outputs": [
    {
     "data": {
      "text/html": [
       "<style scoped>\n",
       "  .ansiout {\n",
       "    display: block;\n",
       "    unicode-bidi: embed;\n",
       "    white-space: pre-wrap;\n",
       "    word-wrap: break-word;\n",
       "    word-break: break-all;\n",
       "    font-family: \"Source Code Pro\", \"Menlo\", monospace;;\n",
       "    font-size: 13px;\n",
       "    color: #555;\n",
       "    margin-left: 4px;\n",
       "    line-height: 19px;\n",
       "  }\n",
       "</style>\n",
       "<div class=\"ansiout\"></div>"
      ]
     },
     "metadata": {
      "application/vnd.databricks.v1+output": {
       "addedWidgets": {},
       "arguments": {},
       "data": "<div class=\"ansiout\"></div>",
       "datasetInfos": [],
       "removedWidgets": [],
       "type": "html"
      }
     },
     "output_type": "display_data"
    }
   ],
   "source": [
    "import numpy as np\n",
    "cm = np.array([[4918747,  395496], [ 555157,  596321]])"
   ]
  },
  {
   "cell_type": "code",
   "execution_count": 0,
   "metadata": {
    "application/vnd.databricks.v1+cell": {
     "inputWidgets": {},
     "nuid": "53b2f392-6fc3-4c44-b898-ff9a8d12316e",
     "showTitle": false,
     "title": ""
    }
   },
   "outputs": [
    {
     "data": {
      "image/png": "[encoded data removed]"
     },
     "metadata": {
      "application/vnd.databricks.v1+output": {
       "addedWidgets": {},
       "arguments": {},
       "data": "/plots/d907b362-a36c-437b-93cd-a0aba76cd384.png",
       "datasetInfos": [],
       "removedWidgets": [],
       "type": "image"
      }
     },
     "output_type": "display_data"
    }
   ],
   "source": [
    "# Show confusion matrix\n",
    "import seaborn as sns\n",
    "\n",
    "confusionMat = cm\n",
    "percents = [str(round(quadrant/sum(confusionMat.flatten())*100, 2))+'%' for quadrant in confusionMat.flatten()]\n",
    "labels = (np.asarray([\"{0}\\n {1:.3g}\\n {2}\".format(string, value, percent)\n",
    "                      for string, value, percent in zip(['TN', 'FP', 'FN', 'TP']\n",
    "                                                        , confusionMat.flatten()\n",
    "                                                        , percents\n",
    "                                                       )\n",
    "                     ])\n",
    "         ).reshape(2, 2)\n",
    "\n",
    "figH, axH = plt.subplots(figsize=(10, 7))\n",
    "axH = sns.heatmap(confusionMat, annot=labels, annot_kws={\"fontsize\":16}, fmt=\"\", cmap='Blues')\n",
    "plt.xlabel('Predicted', fontsize=16)\n",
    "plt.ylabel('Actual', fontsize=16)\n",
    "plt.rcParams.update({'xtick.labelsize': 16,\n",
    "                    'ytick.labelsize': 16})"
   ]
  },
  {
   "cell_type": "code",
   "execution_count": 0,
   "metadata": {
    "application/vnd.databricks.v1+cell": {
     "inputWidgets": {},
     "nuid": "b455e9f4-b93e-4864-a1ae-0c46913a67b5",
     "showTitle": false,
     "title": ""
    }
   },
   "outputs": [
    {
     "data": {
      "text/html": [
       "<style scoped>\n",
       "  .ansiout {\n",
       "    display: block;\n",
       "    unicode-bidi: embed;\n",
       "    white-space: pre-wrap;\n",
       "    word-wrap: break-word;\n",
       "    word-break: break-all;\n",
       "    font-family: \"Source Code Pro\", \"Menlo\", monospace;;\n",
       "    font-size: 13px;\n",
       "    color: #555;\n",
       "    margin-left: 4px;\n",
       "    line-height: 19px;\n",
       "  }\n",
       "</style>\n",
       "<div class=\"ansiout\">params [&#39;features&#39;, 20, 5, 81.29691433906555, 0.14820003509521484]\n",
       "metrics [array([[4918747,  395496],\n",
       "       [ 555157,  596321]]), 0.8529703029252268, 0.6012409547325767, 0.5178744187904589, 0.5564525648592472, array([[4845475,  387086],\n",
       "       [ 524060,  589284]]), 0.5639853109085741]\n",
       "</div>"
      ]
     },
     "metadata": {
      "application/vnd.databricks.v1+output": {
       "addedWidgets": {},
       "arguments": {},
       "data": "<div class=\"ansiout\">params [&#39;features&#39;, 20, 5, 81.29691433906555, 0.14820003509521484]\nmetrics [array([[4918747,  395496],\n       [ 555157,  596321]]), 0.8529703029252268, 0.6012409547325767, 0.5178744187904589, 0.5564525648592472, array([[4845475,  387086],\n       [ 524060,  589284]]), 0.5639853109085741]\n</div>",
       "datasetInfos": [],
       "removedWidgets": [],
       "type": "html"
      }
     },
     "output_type": "display_data"
    }
   ],
   "source": [
    "params3b, metrics3b, test_pred3b, rf_importance3b = train_eval(traindata=train_18, testdata = test_fin2, trees=20, depth=5)"
   ]
  },
  {
   "cell_type": "code",
   "execution_count": 0,
   "metadata": {
    "application/vnd.databricks.v1+cell": {
     "inputWidgets": {},
     "nuid": "647fe440-2977-4fa9-8766-1fe6058faedd",
     "showTitle": false,
     "title": ""
    }
   },
   "outputs": [
    {
     "data": {
      "text/html": [
       "<style scoped>\n",
       "  .ansiout {\n",
       "    display: block;\n",
       "    unicode-bidi: embed;\n",
       "    white-space: pre-wrap;\n",
       "    word-wrap: break-word;\n",
       "    word-break: break-all;\n",
       "    font-family: \"Source Code Pro\", \"Menlo\", monospace;;\n",
       "    font-size: 13px;\n",
       "    color: #555;\n",
       "    margin-left: 4px;\n",
       "    line-height: 19px;\n",
       "  }\n",
       "</style>\n",
       "<div class=\"ansiout\">root\n",
       "-- DEP_DEL15: float (nullable = true)\n",
       "-- YEAR: integer (nullable = true)\n",
       "-- MONTH: integer (nullable = true)\n",
       "-- DAY_OF_MONTH: integer (nullable = true)\n",
       "-- CRS_DEP_TIME: integer (nullable = true)\n",
       "-- CRS_DEP_DATETIME_UTC: timestamp (nullable = true)\n",
       "-- DEP_DELAY_NEW_p: float (nullable = true)\n",
       "-- CARRIER_DELAY_p: float (nullable = true)\n",
       "-- WEATHER_DELAY_p: float (nullable = true)\n",
       "-- NAS_DELAY_p: float (nullable = true)\n",
       "-- SECURITY_DELAY_p: float (nullable = true)\n",
       "-- LATE_AIRCRAFT_DELAY_p: float (nullable = true)\n",
       "-- totNumFlights: long (nullable = true)\n",
       "-- meanDelayAcrossFlights: double (nullable = true)\n",
       "-- propDelayed: double (nullable = true)\n",
       "-- DATE_day: date (nullable = true)\n",
       "-- HOUR: integer (nullable = true)\n",
       "-- avgTMP_airTemp: double (nullable = true)\n",
       "-- avgWND_speed: double (nullable = true)\n",
       "-- avgCIG_height: double (nullable = true)\n",
       "-- avgVIS_distance: double (nullable = true)\n",
       "-- avgSLP_airPressure: double (nullable = true)\n",
       "-- avgPRECIP_duration: double (nullable = true)\n",
       "-- avgPRECIP_amount: double (nullable = true)\n",
       "-- avgSNOW_depth: double (nullable = true)\n",
       "-- DAY_OF_YEAR: integer (nullable = true)\n",
       "-- OP_CARRIER_index: double (nullable = true)\n",
       "-- ORIGIN_index: double (nullable = true)\n",
       "-- DEST_index: double (nullable = true)\n",
       "-- ORIGIN_p_index: double (nullable = true)\n",
       "-- DAY_OF_WEEK_index: double (nullable = true)\n",
       "-- features: vector (nullable = true)\n",
       "-- classWeights: double (nullable = true)\n",
       "-- feat_red: vector (nullable = true)\n",
       "-- rawPrediction: vector (nullable = true)\n",
       "-- probability: vector (nullable = true)\n",
       "-- prediction: double (nullable = false)\n",
       "\n",
       "</div>"
      ]
     },
     "metadata": {
      "application/vnd.databricks.v1+output": {
       "addedWidgets": {},
       "arguments": {},
       "data": "<div class=\"ansiout\">root\n |-- DEP_DEL15: float (nullable = true)\n |-- YEAR: integer (nullable = true)\n |-- MONTH: integer (nullable = true)\n |-- DAY_OF_MONTH: integer (nullable = true)\n |-- CRS_DEP_TIME: integer (nullable = true)\n |-- CRS_DEP_DATETIME_UTC: timestamp (nullable = true)\n |-- DEP_DELAY_NEW_p: float (nullable = true)\n |-- CARRIER_DELAY_p: float (nullable = true)\n |-- WEATHER_DELAY_p: float (nullable = true)\n |-- NAS_DELAY_p: float (nullable = true)\n |-- SECURITY_DELAY_p: float (nullable = true)\n |-- LATE_AIRCRAFT_DELAY_p: float (nullable = true)\n |-- totNumFlights: long (nullable = true)\n |-- meanDelayAcrossFlights: double (nullable = true)\n |-- propDelayed: double (nullable = true)\n |-- DATE_day: date (nullable = true)\n |-- HOUR: integer (nullable = true)\n |-- avgTMP_airTemp: double (nullable = true)\n |-- avgWND_speed: double (nullable = true)\n |-- avgCIG_height: double (nullable = true)\n |-- avgVIS_distance: double (nullable = true)\n |-- avgSLP_airPressure: double (nullable = true)\n |-- avgPRECIP_duration: double (nullable = true)\n |-- avgPRECIP_amount: double (nullable = true)\n |-- avgSNOW_depth: double (nullable = true)\n |-- DAY_OF_YEAR: integer (nullable = true)\n |-- OP_CARRIER_index: double (nullable = true)\n |-- ORIGIN_index: double (nullable = true)\n |-- DEST_index: double (nullable = true)\n |-- ORIGIN_p_index: double (nullable = true)\n |-- DAY_OF_WEEK_index: double (nullable = true)\n |-- features: vector (nullable = true)\n |-- classWeights: double (nullable = true)\n |-- feat_red: vector (nullable = true)\n |-- rawPrediction: vector (nullable = true)\n |-- probability: vector (nullable = true)\n |-- prediction: double (nullable = false)\n\n</div>",
       "datasetInfos": [],
       "removedWidgets": [],
       "type": "html"
      }
     },
     "output_type": "display_data"
    }
   ],
   "source": [
    "test_pred3b.printSchema()"
   ]
  },
  {
   "cell_type": "code",
   "execution_count": 0,
   "metadata": {
    "application/vnd.databricks.v1+cell": {
     "inputWidgets": {},
     "nuid": "b60b2544-1f23-48cc-9f6b-20bb3395cd07",
     "showTitle": false,
     "title": ""
    }
   },
   "outputs": [
    {
     "data": {
      "text/html": [
       "<style scoped>\n",
       "  .ansiout {\n",
       "    display: block;\n",
       "    unicode-bidi: embed;\n",
       "    white-space: pre-wrap;\n",
       "    word-wrap: break-word;\n",
       "    word-break: break-all;\n",
       "    font-family: \"Source Code Pro\", \"Menlo\", monospace;;\n",
       "    font-size: 13px;\n",
       "    color: #555;\n",
       "    margin-left: 4px;\n",
       "    line-height: 19px;\n",
       "  }\n",
       "</style>\n",
       "<div class=\"ansiout\">Out[62]: </div>"
      ]
     },
     "metadata": {
      "application/vnd.databricks.v1+output": {
       "addedWidgets": {},
       "arguments": {},
       "data": "<div class=\"ansiout\">Out[62]: </div>",
       "datasetInfos": [],
       "removedWidgets": [],
       "type": "html"
      }
     },
     "output_type": "display_data"
    },
    {
     "data": {
      "text/html": [
       "<div>\n",
       "<style scoped>\n",
       "    .dataframe tbody tr th:only-of-type {\n",
       "        vertical-align: middle;\n",
       "    }\n",
       "\n",
       "    .dataframe tbody tr th {\n",
       "        vertical-align: top;\n",
       "    }\n",
       "\n",
       "    .dataframe thead th {\n",
       "        text-align: right;\n",
       "    }\n",
       "</style>\n",
       "<table border=\"1\" class=\"dataframe\">\n",
       "  <thead>\n",
       "    <tr style=\"text-align: right;\">\n",
       "      <th></th>\n",
       "      <th>probability</th>\n",
       "      <th>label</th>\n",
       "    </tr>\n",
       "  </thead>\n",
       "  <tbody>\n",
       "    <tr>\n",
       "      <th>0</th>\n",
       "      <td>0.355886</td>\n",
       "      <td>0.0</td>\n",
       "    </tr>\n",
       "    <tr>\n",
       "      <th>1</th>\n",
       "      <td>0.355886</td>\n",
       "      <td>0.0</td>\n",
       "    </tr>\n",
       "    <tr>\n",
       "      <th>2</th>\n",
       "      <td>0.355886</td>\n",
       "      <td>0.0</td>\n",
       "    </tr>\n",
       "    <tr>\n",
       "      <th>3</th>\n",
       "      <td>0.355886</td>\n",
       "      <td>0.0</td>\n",
       "    </tr>\n",
       "    <tr>\n",
       "      <th>4</th>\n",
       "      <td>0.355886</td>\n",
       "      <td>0.0</td>\n",
       "    </tr>\n",
       "  </tbody>\n",
       "</table>\n",
       "</div>"
      ]
     },
     "metadata": {
      "application/vnd.databricks.v1+output": {
       "addedWidgets": {},
       "arguments": {},
       "data": "<div>\n<style scoped>\n    .dataframe tbody tr th:only-of-type {\n        vertical-align: middle;\n    }\n\n    .dataframe tbody tr th {\n        vertical-align: top;\n    }\n\n    .dataframe thead th {\n        text-align: right;\n    }\n</style>\n<table border=\"1\" class=\"dataframe\">\n  <thead>\n    <tr style=\"text-align: right;\">\n      <th></th>\n      <th>probability</th>\n      <th>label</th>\n    </tr>\n  </thead>\n  <tbody>\n    <tr>\n      <th>0</th>\n      <td>0.355886</td>\n      <td>0.0</td>\n    </tr>\n    <tr>\n      <th>1</th>\n      <td>0.355886</td>\n      <td>0.0</td>\n    </tr>\n    <tr>\n      <th>2</th>\n      <td>0.355886</td>\n      <td>0.0</td>\n    </tr>\n    <tr>\n      <th>3</th>\n      <td>0.355886</td>\n      <td>0.0</td>\n    </tr>\n    <tr>\n      <th>4</th>\n      <td>0.355886</td>\n      <td>0.0</td>\n    </tr>\n  </tbody>\n</table>\n</div>",
       "datasetInfos": [],
       "removedWidgets": [],
       "textData": null,
       "type": "htmlSandbox"
      }
     },
     "output_type": "display_data"
    }
   ],
   "source": [
    "probs = [prob[0][1] for prob in test_pred3b.select('probability').collect()]\n",
    "labs = [label[0] for label in test_pred3b.select('DEP_DEL15').collect()]\n",
    "\n",
    "dens_dt = pd.DataFrame(list(zip(probs, labs)), columns=[\"probability\", \"label\"])\n",
    "\n",
    "dens_dt.head()"
   ]
  },
  {
   "cell_type": "code",
   "execution_count": 0,
   "metadata": {
    "application/vnd.databricks.v1+cell": {
     "inputWidgets": {},
     "nuid": "30402432-8360-4b41-b1be-18851c07cd3a",
     "showTitle": false,
     "title": ""
    }
   },
   "outputs": [
    {
     "data": {
      "image/png": "[encoded data removed]"
     },
     "metadata": {
      "application/vnd.databricks.v1+output": {
       "addedWidgets": {},
       "arguments": {},
       "data": "/plots/6e035a4b-84ff-48d4-9a45-f7a6fe0362b9.png",
       "datasetInfos": [],
       "removedWidgets": [],
       "type": "image"
      }
     },
     "output_type": "display_data"
    }
   ],
   "source": [
    "sns.distplot(dens_dt[dens_dt.label==0].probability)\n",
    "sns.distplot(dens_dt[dens_dt.label==1].probability, color=\"red\")\n",
    "plt.xlabel(\"Delay probability\")\n",
    "plt.legend(labels=[\"No delay\", \"Delay\"])\n",
    "plt.show()"
   ]
  },
  {
   "cell_type": "code",
   "execution_count": 0,
   "metadata": {
    "application/vnd.databricks.v1+cell": {
     "inputWidgets": {},
     "nuid": "6f24ce48-c0ad-478e-be08-8e788dc26f18",
     "showTitle": false,
     "title": ""
    }
   },
   "outputs": [
    {
     "data": {
      "text/html": [
       "<style scoped>\n",
       "  .ansiout {\n",
       "    display: block;\n",
       "    unicode-bidi: embed;\n",
       "    white-space: pre-wrap;\n",
       "    word-wrap: break-word;\n",
       "    word-break: break-all;\n",
       "    font-family: \"Source Code Pro\", \"Menlo\", monospace;;\n",
       "    font-size: 13px;\n",
       "    color: #555;\n",
       "    margin-left: 4px;\n",
       "    line-height: 19px;\n",
       "  }\n",
       "</style>\n",
       "<div class=\"ansiout\">Out[67]: &#39;0.10.0&#39;</div>"
      ]
     },
     "metadata": {
      "application/vnd.databricks.v1+output": {
       "addedWidgets": {},
       "arguments": {},
       "data": "<div class=\"ansiout\">Out[67]: &#39;0.10.0&#39;</div>",
       "datasetInfos": [],
       "removedWidgets": [],
       "type": "html"
      }
     },
     "output_type": "display_data"
    }
   ],
   "source": [
    "sns.__version__"
   ]
  },
  {
   "cell_type": "code",
   "execution_count": 0,
   "metadata": {
    "application/vnd.databricks.v1+cell": {
     "inputWidgets": {},
     "nuid": "257ddfee-b88b-4796-80e4-e4a939118262",
     "showTitle": false,
     "title": ""
    }
   },
   "outputs": [
    {
     "data": {
      "text/html": [
       "<style scoped>\n",
       "  .ansiout {\n",
       "    display: block;\n",
       "    unicode-bidi: embed;\n",
       "    white-space: pre-wrap;\n",
       "    word-wrap: break-word;\n",
       "    word-break: break-all;\n",
       "    font-family: \"Source Code Pro\", \"Menlo\", monospace;;\n",
       "    font-size: 13px;\n",
       "    color: #555;\n",
       "    margin-left: 4px;\n",
       "    line-height: 19px;\n",
       "  }\n",
       "</style>\n",
       "<div class=\"ansiout\">params [&#39;features&#39;, 400, 5, 599.7463130950928, 0.15582489967346191]\n",
       "metrics [array([[4907903,  406340],\n",
       "       [ 553653,  597825]]), 0.8515257617827927, 0.5953453864653717, 0.5191805661940567, 0.5546604887729555, array([[4833630,  398931],\n",
       "       [ 522240,  591104]]), 0.5620518223296895]\n",
       "</div>"
      ]
     },
     "metadata": {
      "application/vnd.databricks.v1+output": {
       "addedWidgets": {},
       "arguments": {},
       "data": "<div class=\"ansiout\">params [&#39;features&#39;, 400, 5, 599.7463130950928, 0.15582489967346191]\nmetrics [array([[4907903,  406340],\n       [ 553653,  597825]]), 0.8515257617827927, 0.5953453864653717, 0.5191805661940567, 0.5546604887729555, array([[4833630,  398931],\n       [ 522240,  591104]]), 0.5620518223296895]\n</div>",
       "datasetInfos": [],
       "removedWidgets": [],
       "type": "html"
      }
     },
     "output_type": "display_data"
    }
   ],
   "source": [
    "params4, metrics4, rf_importance4 = train_eval(traindata=train_18, testdata = test_fin2, trees=400, depth=5)"
   ]
  },
  {
   "cell_type": "markdown",
   "metadata": {
    "application/vnd.databricks.v1+cell": {
     "inputWidgets": {},
     "nuid": "8429a408-b684-4406-a014-31668ae0f676",
     "showTitle": false,
     "title": ""
    }
   },
   "source": [
    "### Undersampling"
   ]
  },
  {
   "cell_type": "code",
   "execution_count": 0,
   "metadata": {
    "application/vnd.databricks.v1+cell": {
     "inputWidgets": {},
     "nuid": "ce512b72-883b-40ae-837c-a306969abf45",
     "showTitle": false,
     "title": ""
    }
   },
   "outputs": [
    {
     "data": {
      "text/html": [
       "<style scoped>\n",
       "  .ansiout {\n",
       "    display: block;\n",
       "    unicode-bidi: embed;\n",
       "    white-space: pre-wrap;\n",
       "    word-wrap: break-word;\n",
       "    word-break: break-all;\n",
       "    font-family: \"Source Code Pro\", \"Menlo\", monospace;;\n",
       "    font-size: 13px;\n",
       "    color: #555;\n",
       "    margin-left: 4px;\n",
       "    line-height: 19px;\n",
       "  }\n",
       "</style>\n",
       "<div class=\"ansiout\"></div>"
      ]
     },
     "metadata": {
      "application/vnd.databricks.v1+output": {
       "addedWidgets": {},
       "arguments": {},
       "data": "<div class=\"ansiout\"></div>",
       "datasetInfos": [],
       "removedWidgets": [],
       "type": "html"
      }
     },
     "output_type": "display_data"
    },
    {
     "data": {
      "text/html": [
       "<style scoped>\n",
       "  .ansiout {\n",
       "    display: block;\n",
       "    unicode-bidi: embed;\n",
       "    white-space: pre-wrap;\n",
       "    word-wrap: break-word;\n",
       "    word-break: break-all;\n",
       "    font-family: \"Source Code Pro\", \"Menlo\", monospace;;\n",
       "    font-size: 13px;\n",
       "    color: #555;\n",
       "    margin-left: 4px;\n",
       "    line-height: 19px;\n",
       "  }\n",
       "</style>\n",
       "<div class=\"ansiout\"><span class=\"ansi-red-fg\">---------------------------------------------------------------------------</span>\n",
       "<span class=\"ansi-red-fg\">NameError</span>                                 Traceback (most recent call last)\n",
       "<span class=\"ansi-green-fg\">&lt;command-2834511320013826&gt;</span> in <span class=\"ansi-cyan-fg\">&lt;module&gt;</span>\n",
       "<span class=\"ansi-green-fg\">----&gt; 1</span><span class=\"ansi-red-fg\"> </span>Balancing_ratio\n",
       "\n",
       "<span class=\"ansi-red-fg\">NameError</span>: name &#39;Balancing_ratio&#39; is not defined</div>"
      ]
     },
     "metadata": {
      "application/vnd.databricks.v1+output": {
       "arguments": {},
       "data": "<div class=\"ansiout\"><span class=\"ansi-red-fg\">---------------------------------------------------------------------------</span>\n<span class=\"ansi-red-fg\">NameError</span>                                 Traceback (most recent call last)\n<span class=\"ansi-green-fg\">&lt;command-2834511320013826&gt;</span> in <span class=\"ansi-cyan-fg\">&lt;module&gt;</span>\n<span class=\"ansi-green-fg\">----&gt; 1</span><span class=\"ansi-red-fg\"> </span>Balancing_ratio\n\n<span class=\"ansi-red-fg\">NameError</span>: name &#39;Balancing_ratio&#39; is not defined</div>",
       "errorSummary": "<span class=\"ansi-red-fg\">NameError</span>: name &#39;Balancing_ratio&#39; is not defined",
       "type": "ipynbError"
      }
     },
     "output_type": "display_data"
    }
   ],
   "source": [
    "# BalancingRatio = 0.8260828845703583"
   ]
  },
  {
   "cell_type": "code",
   "execution_count": 0,
   "metadata": {
    "application/vnd.databricks.v1+cell": {
     "inputWidgets": {},
     "nuid": "791fffe0-c46e-4420-a397-4feaccc3d820",
     "showTitle": false,
     "title": ""
    }
   },
   "outputs": [
    {
     "data": {
      "text/html": [
       "<style scoped>\n",
       "  .ansiout {\n",
       "    display: block;\n",
       "    unicode-bidi: embed;\n",
       "    white-space: pre-wrap;\n",
       "    word-wrap: break-word;\n",
       "    word-break: break-all;\n",
       "    font-family: \"Source Code Pro\", \"Menlo\", monospace;;\n",
       "    font-size: 13px;\n",
       "    color: #555;\n",
       "    margin-left: 4px;\n",
       "    line-height: 19px;\n",
       "  }\n",
       "</style>\n",
       "<div class=\"ansiout\">1100801\n",
       "1113344\n",
       "</div>"
      ]
     },
     "metadata": {
      "application/vnd.databricks.v1+output": {
       "addedWidgets": {},
       "arguments": {},
       "data": "<div class=\"ansiout\">1100801\n1113344\n</div>",
       "datasetInfos": [],
       "removedWidgets": [],
       "type": "html"
      }
     },
     "output_type": "display_data"
    }
   ],
   "source": [
    "# random undersampling\n",
    "majordf = train_18.filter(f.col(\"DEP_DEL15\")==0)\n",
    "\n",
    "sampled_majority_df = majordf.sample(False, .2105322)\n",
    "print(sampled_majority_df.count())\n",
    "\n",
    "minordf = train_18.filter(f.col(\"DEP_DEL15\")==1)\n",
    "print(minordf.count())"
   ]
  },
  {
   "cell_type": "code",
   "execution_count": 0,
   "metadata": {
    "application/vnd.databricks.v1+cell": {
     "inputWidgets": {},
     "nuid": "7420084a-961b-4930-b81f-0cc00857d9d6",
     "showTitle": false,
     "title": ""
    }
   },
   "outputs": [
    {
     "data": {
      "text/html": [
       "<style scoped>\n",
       "  .ansiout {\n",
       "    display: block;\n",
       "    unicode-bidi: embed;\n",
       "    white-space: pre-wrap;\n",
       "    word-wrap: break-word;\n",
       "    word-break: break-all;\n",
       "    font-family: \"Source Code Pro\", \"Menlo\", monospace;;\n",
       "    font-size: 13px;\n",
       "    color: #555;\n",
       "    margin-left: 4px;\n",
       "    line-height: 19px;\n",
       "  }\n",
       "</style>\n",
       "<div class=\"ansiout\">2214145\n",
       "</div>"
      ]
     },
     "metadata": {
      "application/vnd.databricks.v1+output": {
       "addedWidgets": {},
       "arguments": {},
       "data": "<div class=\"ansiout\">2214145\n</div>",
       "datasetInfos": [],
       "removedWidgets": [],
       "type": "html"
      }
     },
     "output_type": "display_data"
    }
   ],
   "source": [
    "train_18_under = sampled_majority_df.unionAll(minordf)\n",
    "print(train_18_under.count())"
   ]
  },
  {
   "cell_type": "code",
   "execution_count": 0,
   "metadata": {
    "application/vnd.databricks.v1+cell": {
     "inputWidgets": {},
     "nuid": "3ec98212-338a-495d-b482-07e68d54d997",
     "showTitle": false,
     "title": ""
    }
   },
   "outputs": [
    {
     "data": {
      "text/html": [
       "<style scoped>\n",
       "  .ansiout {\n",
       "    display: block;\n",
       "    unicode-bidi: embed;\n",
       "    white-space: pre-wrap;\n",
       "    word-wrap: break-word;\n",
       "    word-break: break-all;\n",
       "    font-family: \"Source Code Pro\", \"Menlo\", monospace;;\n",
       "    font-size: 13px;\n",
       "    color: #555;\n",
       "    margin-left: 4px;\n",
       "    line-height: 19px;\n",
       "  }\n",
       "</style>\n",
       "<div class=\"ansiout\">params [&#39;features&#39;, 100, 5, 145.68975114822388, 0.17165064811706543]\n",
       "metrics [array([[4898833,  415410],\n",
       "       [ 551766,  599712]]), 0.8504148261268929, 0.5907782512840821, 0.5208193295920547, 0.5535973414566603, array([[1015165,   85636],\n",
       "       [ 520351,  592993]]), 0.6618325164497456]\n",
       "</div>"
      ]
     },
     "metadata": {
      "application/vnd.databricks.v1+output": {
       "addedWidgets": {},
       "arguments": {},
       "data": "<div class=\"ansiout\">params [&#39;features&#39;, 100, 5, 145.68975114822388, 0.17165064811706543]\nmetrics [array([[4898833,  415410],\n       [ 551766,  599712]]), 0.8504148261268929, 0.5907782512840821, 0.5208193295920547, 0.5535973414566603, array([[1015165,   85636],\n       [ 520351,  592993]]), 0.6618325164497456]\n</div>",
       "datasetInfos": [],
       "removedWidgets": [],
       "type": "html"
      }
     },
     "output_type": "display_data"
    }
   ],
   "source": [
    "params5, metrics5, rf_importance5 = train_eval(traindata=train_18_under, testdata = test_fin2, trees=100, depth=5, weights=False)"
   ]
  },
  {
   "cell_type": "code",
   "execution_count": 0,
   "metadata": {
    "application/vnd.databricks.v1+cell": {
     "inputWidgets": {},
     "nuid": "aa8552ce-0349-4b50-b03d-5823c560293c",
     "showTitle": false,
     "title": ""
    }
   },
   "outputs": [
    {
     "data": {
      "text/html": [
       "<style scoped>\n",
       "  .ansiout {\n",
       "    display: block;\n",
       "    unicode-bidi: embed;\n",
       "    white-space: pre-wrap;\n",
       "    word-wrap: break-word;\n",
       "    word-break: break-all;\n",
       "    font-family: \"Source Code Pro\", \"Menlo\", monospace;;\n",
       "    font-size: 13px;\n",
       "    color: #555;\n",
       "    margin-left: 4px;\n",
       "    line-height: 19px;\n",
       "  }\n",
       "</style>\n",
       "<div class=\"ansiout\"></div>"
      ]
     },
     "metadata": {
      "application/vnd.databricks.v1+output": {
       "addedWidgets": {},
       "arguments": {},
       "data": "<div class=\"ansiout\"></div>",
       "datasetInfos": [],
       "removedWidgets": [],
       "type": "html"
      }
     },
     "output_type": "display_data"
    },
    {
     "data": {
      "text/html": [
       "<style scoped>\n",
       "  .ansiout {\n",
       "    display: block;\n",
       "    unicode-bidi: embed;\n",
       "    white-space: pre-wrap;\n",
       "    word-wrap: break-word;\n",
       "    word-break: break-all;\n",
       "    font-family: \"Source Code Pro\", \"Menlo\", monospace;;\n",
       "    font-size: 13px;\n",
       "    color: #555;\n",
       "    margin-left: 4px;\n",
       "    line-height: 19px;\n",
       "  }\n",
       "</style>\n",
       "<div class=\"ansiout\"><span class=\"ansi-red-fg\">---------------------------------------------------------------------------</span>\n",
       "<span class=\"ansi-red-fg\">NameError</span>                                 Traceback (most recent call last)\n",
       "<span class=\"ansi-green-fg\">&lt;command-2834511320014357&gt;</span> in <span class=\"ansi-cyan-fg\">&lt;module&gt;</span>\n",
       "<span class=\"ansi-green-fg\">----&gt; 1</span><span class=\"ansi-red-fg\"> </span>origin_labels\n",
       "\n",
       "<span class=\"ansi-red-fg\">NameError</span>: name &#39;origin_labels&#39; is not defined</div>"
      ]
     },
     "metadata": {
      "application/vnd.databricks.v1+output": {
       "arguments": {},
       "data": "<div class=\"ansiout\"><span class=\"ansi-red-fg\">---------------------------------------------------------------------------</span>\n<span class=\"ansi-red-fg\">NameError</span>                                 Traceback (most recent call last)\n<span class=\"ansi-green-fg\">&lt;command-2834511320014357&gt;</span> in <span class=\"ansi-cyan-fg\">&lt;module&gt;</span>\n<span class=\"ansi-green-fg\">----&gt; 1</span><span class=\"ansi-red-fg\"> </span>origin_labels\n\n<span class=\"ansi-red-fg\">NameError</span>: name &#39;origin_labels&#39; is not defined</div>",
       "errorSummary": "<span class=\"ansi-red-fg\">NameError</span>: name &#39;origin_labels&#39; is not defined",
       "type": "ipynbError"
      }
     },
     "output_type": "display_data"
    }
   ],
   "source": [
    "origin_labels"
   ]
  },
  {
   "cell_type": "code",
   "execution_count": 0,
   "metadata": {
    "application/vnd.databricks.v1+cell": {
     "inputWidgets": {},
     "nuid": "43934886-629e-42e0-914b-3051a7edd634",
     "showTitle": false,
     "title": ""
    }
   },
   "outputs": [
    {
     "data": {
      "text/html": [
       "<style scoped>\n",
       "  .ansiout {\n",
       "    display: block;\n",
       "    unicode-bidi: embed;\n",
       "    white-space: pre-wrap;\n",
       "    word-wrap: break-word;\n",
       "    word-break: break-all;\n",
       "    font-family: \"Source Code Pro\", \"Menlo\", monospace;;\n",
       "    font-size: 13px;\n",
       "    color: #555;\n",
       "    margin-left: 4px;\n",
       "    line-height: 19px;\n",
       "  }\n",
       "</style>\n",
       "<div class=\"ansiout\">340189\n",
       "342104\n",
       "</div>"
      ]
     },
     "metadata": {
      "application/vnd.databricks.v1+output": {
       "addedWidgets": {},
       "arguments": {},
       "data": "<div class=\"ansiout\">340189\n342104\n</div>",
       "datasetInfos": [],
       "removedWidgets": [],
       "type": "html"
      }
     },
     "output_type": "display_data"
    }
   ],
   "source": [
    "# single airport\n",
    "atl_18 = train_18.filter(f.col(\"ORIGIN_index\")==0)\n",
    "atl_test = test_fin.filter(f.col(\"ORIGIN_index\")==0)\n",
    "\n",
    "print(atl_18.count())\n",
    "print(atl_test.count())"
   ]
  },
  {
   "cell_type": "code",
   "execution_count": 0,
   "metadata": {
    "application/vnd.databricks.v1+cell": {
     "inputWidgets": {},
     "nuid": "28421040-1c40-4974-bb03-1d95cc8f2cfa",
     "showTitle": false,
     "title": ""
    }
   },
   "outputs": [
    {
     "data": {
      "text/html": [
       "<style scoped>\n",
       "  .ansiout {\n",
       "    display: block;\n",
       "    unicode-bidi: embed;\n",
       "    white-space: pre-wrap;\n",
       "    word-wrap: break-word;\n",
       "    word-break: break-all;\n",
       "    font-family: \"Source Code Pro\", \"Menlo\", monospace;;\n",
       "    font-size: 13px;\n",
       "    color: #555;\n",
       "    margin-left: 4px;\n",
       "    line-height: 19px;\n",
       "  }\n",
       "</style>\n",
       "<div class=\"ansiout\">params [&#39;features&#39;, 100, 5, 48.837963819503784, 0.05513644218444824]\n",
       "metrics [array([[263556,  24641],\n",
       "       [ 28239,  25668]]), 0.8454271215770642, 0.5102069212268182, 0.4761533752573877, 0.4925923082827972, array([[256707,  25853],\n",
       "       [ 28713,  28916]]), 0.5145287282691863]\n",
       "</div>"
      ]
     },
     "metadata": {
      "application/vnd.databricks.v1+output": {
       "addedWidgets": {},
       "arguments": {},
       "data": "<div class=\"ansiout\">params [&#39;features&#39;, 100, 5, 48.837963819503784, 0.05513644218444824]\nmetrics [array([[263556,  24641],\n       [ 28239,  25668]]), 0.8454271215770642, 0.5102069212268182, 0.4761533752573877, 0.4925923082827972, array([[256707,  25853],\n       [ 28713,  28916]]), 0.5145287282691863]\n</div>",
       "datasetInfos": [],
       "removedWidgets": [],
       "type": "html"
      }
     },
     "output_type": "display_data"
    }
   ],
   "source": [
    "params6, metrics6, test_pred6, rf_importance6 = train_eval(traindata=atl_18, testdata = atl_test, trees=100, depth=5)"
   ]
  },
  {
   "cell_type": "markdown",
   "metadata": {
    "application/vnd.databricks.v1+cell": {
     "inputWidgets": {},
     "nuid": "8e2a96e3-0027-4c1f-80d7-0d62c01ff74c",
     "showTitle": false,
     "title": ""
    }
   },
   "source": [
    "### SMOTE"
   ]
  },
  {
   "cell_type": "code",
   "execution_count": 0,
   "metadata": {
    "application/vnd.databricks.v1+cell": {
     "inputWidgets": {},
     "nuid": "529b444a-d341-46a5-bceb-8c6c9873c9cf",
     "showTitle": false,
     "title": ""
    }
   },
   "outputs": [
    {
     "data": {
      "text/html": [
       "<style scoped>\n",
       "  .ansiout {\n",
       "    display: block;\n",
       "    unicode-bidi: embed;\n",
       "    white-space: pre-wrap;\n",
       "    word-wrap: break-word;\n",
       "    word-break: break-all;\n",
       "    font-family: \"Source Code Pro\", \"Menlo\", monospace;;\n",
       "    font-size: 13px;\n",
       "    color: #555;\n",
       "    margin-left: 4px;\n",
       "    line-height: 19px;\n",
       "  }\n",
       "</style>\n",
       "<div class=\"ansiout\">Collecting imbalanced-learn\r\n",
       "  Downloading imbalanced_learn-0.7.0-py3-none-any.whl (167 kB)\r\n",
       "██                              | 10 kB 38.3 MB/s eta 0:00:01\r",
       "     |████                            | 20 kB 42.7 MB/s eta 0:00:01\r",
       "     |█████▉                          | 30 kB 49.5 MB/s eta 0:00:01\r",
       "     |███████▉                        | 40 kB 53.2 MB/s eta 0:00:01\r",
       "     |█████████▉                      | 51 kB 44.2 MB/s eta 0:00:01\r",
       "     |███████████▊                    | 61 kB 46.7 MB/s eta 0:00:01\r",
       "     |█████████████▊                  | 71 kB 33.0 MB/s eta 0:00:01\r",
       "     |███████████████▊                | 81 kB 34.5 MB/s eta 0:00:01\r",
       "     |█████████████████▋              | 92 kB 33.4 MB/s eta 0:00:01\r",
       "     |███████████████████▋            | 102 kB 33.9 MB/s eta 0:00:01\r",
       "     |█████████████████████▋          | 112 kB 33.9 MB/s eta 0:00:01\r",
       "     |███████████████████████▌        | 122 kB 33.9 MB/s eta 0:00:01\r",
       "     |█████████████████████████▌      | 133 kB 33.9 MB/s eta 0:00:01\r",
       "     |███████████████████████████▌    | 143 kB 33.9 MB/s eta 0:00:01\r",
       "     |█████████████████████████████▍  | 153 kB 33.9 MB/s eta 0:00:01\r",
       "     |███████████████████████████████▍| 163 kB 33.9 MB/s eta 0:00:01\r",
       "     |████████████████████████████████| 167 kB 33.9 MB/s \r\n",
       "Requirement already satisfied, skipping upgrade: scipy&gt;=0.19.1 in /databricks/conda/envs/databricks-ml/lib/python3.7/site-packages (from imbalanced-learn) (1.4.1)\r\n",
       "Collecting scikit-learn&gt;=0.23\r\n",
       "  Downloading scikit_learn-0.23.2-cp37-cp37m-manylinux1_x86_64.whl (6.8 MB)\r\n",
       "                                | 10 kB 7.8 MB/s eta 0:00:01\r",
       "     |                                | 20 kB 13.9 MB/s eta 0:00:01\r",
       "     |▏                               | 30 kB 17.3 MB/s eta 0:00:01\r",
       "     |▏                               | 40 kB 21.6 MB/s eta 0:00:01\r",
       "     |▎                               | 51 kB 25.3 MB/s eta 0:00:01\r",
       "     |▎                               | 61 kB 28.7 MB/s eta 0:00:01\r",
       "     |▍                               | 71 kB 28.8 MB/s eta 0:00:01\r",
       "     |▍                               | 81 kB 31.3 MB/s eta 0:00:01\r",
       "     |▍                               | 92 kB 33.4 MB/s eta 0:00:01\r",
       "     |▌                               | 102 kB 35.6 MB/s eta 0:00:01\r",
       "     |▌                               | 112 kB 35.6 MB/s eta 0:00:01\r",
       "     |▋                               | 122 kB 35.6 MB/s eta 0:00:01\r",
       "     |▋                               | 133 kB 35.6 MB/s eta 0:00:01\r",
       "     |▊                               | 143 kB 35.6 MB/s eta 0:00:01\r",
       "     |▊                               | 153 kB 35.6 MB/s eta 0:00:01\r",
       "     |▊                               | 163 kB 35.6 MB/s eta 0:00:01\r",
       "     |▉                               | 174 kB 35.6 MB/s eta 0:00:01\r",
       "     |▉                               | 184 kB 35.6 MB/s eta 0:00:01\r",
       "     |█                               | 194 kB 35.6 MB/s eta 0:00:01\r",
       "     |█                               | 204 kB 35.6 MB/s eta 0:00:01\r",
       "     |█                               | 215 kB 35.6 MB/s eta 0:00:01\r",
       "     |█                               | 225 kB 35.6 MB/s eta 0:00:01\r",
       "     |█                               | 235 kB 35.6 MB/s eta 0:00:01\r",
       "     |█▏                              | 245 kB 35.6 MB/s eta 0:00:01\r",
       "     |█▏                              | 256 kB 35.6 MB/s eta 0:00:01\r",
       "     |█▎                              | 266 kB 35.6 MB/s eta 0:00:01\r",
       "     |█▎                              | 276 kB 35.6 MB/s eta 0:00:01\r",
       "     |█▍                              | 286 kB 35.6 MB/s eta 0:00:01\r",
       "     |█▍                              | 296 kB 35.6 MB/s eta 0:00:01\r",
       "     |█▍                              | 307 kB 35.6 MB/s eta 0:00:01\r",
       "     |█▌                              | 317 kB 35.6 MB/s eta 0:00:01\r",
       "     |█▌                              | 327 kB 35.6 MB/s eta 0:00:01\r",
       "     |█▋                              | 337 kB 35.6 MB/s eta 0:00:01\r",
       "     |█▋                              | 348 kB 35.6 MB/s eta 0:00:01\r",
       "     |█▊                              | 358 kB 35.6 MB/s eta 0:00:01\r",
       "     |█▊                              | 368 kB 35.6 MB/s eta 0:00:01\r",
       "     |█▊                              | 378 kB 35.6 MB/s eta 0:00:01\r",
       "     |█▉                              | 389 kB 35.6 MB/s eta 0:00:01\r",
       "     |█▉                              | 399 kB 35.6 MB/s eta 0:00:01\r",
       "     |██                              | 409 kB 35.6 MB/s eta 0:00:01\r",
       "     |██                              | 419 kB 35.6 MB/s eta 0:00:01\r",
       "     |██                              | 430 kB 35.6 MB/s eta 0:00:01\r",
       "     |██                              | 440 kB 35.6 MB/s eta 0:00:01\r",
       "     |██▏                             | 450 kB 35.6 MB/s eta 0:00:01\r",
       "     |██▏                             | 460 kB 35.6 MB/s eta 0:00:01\r",
       "     |██▏                             | 471 kB 35.6 MB/s eta 0:00:01\r",
       "     |██▎                             | 481 kB 35.6 MB/s eta 0:00:01\r",
       "     |██▎                             | 491 kB 35.6 MB/s eta 0:00:01\r",
       "     |██▍                             | 501 kB 35.6 MB/s eta 0:00:01\r",
       "     |██▍                             | 512 kB 35.6 MB/s eta 0:00:01\r",
       "     |██▌                             | 522 kB 35.6 MB/s eta 0:00:01\r",
       "     |██▌                             | 532 kB 35.6 MB/s eta 0:00:01\r",
       "     |██▌                             | 542 kB 35.6 MB/s eta 0:00:01\r",
       "     |██▋                             | 552 kB 35.6 MB/s eta 0:00:01\r",
       "     |██▋                             | 563 kB 35.6 MB/s eta 0:00:01\r",
       "     |██▊                             | 573 kB 35.6 MB/s eta 0:00:01\r",
       "     |██▊                             | 583 kB 35.6 MB/s eta 0:00:01\r",
       "     |██▉                             | 593 kB 35.6 MB/s eta 0:00:01\r",
       "     |██▉                             | 604 kB 35.6 MB/s eta 0:00:01\r",
       "     |██▉                             | 614 kB 35.6 MB/s eta 0:00:01\r",
       "     |███                             | 624 kB 35.6 MB/s eta 0:00:01\r",
       "     |███                             | 634 kB 35.6 MB/s eta 0:00:01\r",
       "     |███                             | 645 kB 35.6 MB/s eta 0:00:01\r",
       "     |███                             | 655 kB 35.6 MB/s eta 0:00:01\r",
       "     |███▏                            | 665 kB 35.6 MB/s eta 0:00:01\r",
       "     |███▏                            | 675 kB 35.6 MB/s eta 0:00:01\r",
       "     |███▏                            | 686 kB 35.6 MB/s eta 0:00:01\r",
       "     |███▎                            | 696 kB 35.6 MB/s eta 0:00:01\r",
       "     |███▎                            | 706 kB 35.6 MB/s eta 0:00:01\r",
       "     |███▍                            | 716 kB 35.6 MB/s eta 0:00:01\r",
       "     |███▍                            | 727 kB 35.6 MB/s eta 0:00:01\r",
       "     |███▌                            | 737 kB 35.6 MB/s eta 0:00:01\r",
       "     |███▌                            | 747 kB 35.6 MB/s eta 0:00:01\r",
       "     |███▌                            | 757 kB 35.6 MB/s eta 0:00:01\r",
       "     |███▋                            | 768 kB 35.6 MB/s eta 0:00:01\r",
       "     |███▋                            | 778 kB 35.6 MB/s eta 0:00:01\r",
       "     |███▊                            | 788 kB 35.6 MB/s eta 0:00:01\r",
       "     |███▊                            | 798 kB 35.6 MB/s eta 0:00:01\r",
       "     |███▉                            | 808 kB 35.6 MB/s eta 0:00:01\r",
       "     |███▉                            | 819 kB 35.6 MB/s eta 0:00:01\r",
       "     |███▉                            | 829 kB 35.6 MB/s eta 0:00:01\r",
       "     |████                            | 839 kB 35.6 MB/s eta 0:00:01\r",
       "     |████                            | 849 kB 35.6 MB/s eta 0:00:01\r",
       "     |████                            | 860 kB 35.6 MB/s eta 0:00:01\r",
       "     |████                            | 870 kB 35.6 MB/s eta 0:00:01\r",
       "     |████▏                           | 880 kB 35.6 MB/s eta 0:00:01\r",
       "     |████▏                           | 890 kB 35.6 MB/s eta 0:00:01\r",
       "     |████▎                           | 901 kB 35.6 MB/s eta 0:00:01\r",
       "     |████▎                           | 911 kB 35.6 MB/s eta 0:00:01\r",
       "     |████▎                           | 921 kB 35.6 MB/s eta 0:00:01\r",
       "     |████▍                           | 931 kB 35.6 MB/s eta 0:00:01\r",
       "     |████▍                           | 942 kB 35.6 MB/s eta 0:00:01\r",
       "     |████▌                           | 952 kB 35.6 MB/s eta 0:00:01\r",
       "     |████▌                           | 962 kB 35.6 MB/s eta 0:00:01\r",
       "     |████▋                           | 972 kB 35.6 MB/s eta 0:00:01\r",
       "     |████▋                           | 983 kB 35.6 MB/s eta 0:00:01\r",
       "     |████▋                           | 993 kB 35.6 MB/s eta 0:00:01\r",
       "     |████▊                           | 1.0 MB 35.6 MB/s eta 0:00:01\r",
       "     |████▊                           | 1.0 MB 35.6 MB/s eta 0:00:01\r",
       "     |████▉                           | 1.0 MB 35.6 MB/s eta 0:00:01\r",
       "     |████▉                           | 1.0 MB 35.6 MB/s eta 0:00:01\r",
       "     |█████                           | 1.0 MB 35.6 MB/s eta 0:00:01\r",
       "     |█████                           | 1.1 MB 35.6 MB/s eta 0:00:01\r",
       "     |█████                           | 1.1 MB 35.6 MB/s eta 0:00:01\r",
       "     |█████                           | 1.1 MB 35.6 MB/s eta 0:00:01\r",
       "     |█████                           | 1.1 MB 35.6 MB/s eta 0:00:01\r",
       "     |█████▏                          | 1.1 MB 35.6 MB/s eta 0:00:01\r",
       "     |█████▏                          | 1.1 MB 35.6 MB/s eta 0:00:01\r",
       "     |█████▎                          | 1.1 MB 35.6 MB/s eta 0:00:01\r",
       "     |█████▎                          | 1.1 MB 35.6 MB/s eta 0:00:01\r",
       "     |█████▎                          | 1.1 MB 35.6 MB/s eta 0:00:01\r",
       "     |█████▍                          | 1.1 MB 35.6 MB/s eta 0:00:01\r",
       "     |█████▍                          | 1.2 MB 35.6 MB/s eta 0:00:01\r",
       "     |█████▌                          | 1.2 MB 35.6 MB/s eta 0:00:01\r",
       "     |█████▌                          | 1.2 MB 35.6 MB/s eta 0:00:01\r",
       "     |█████▋                          | 1.2 MB 35.6 MB/s eta 0:00:01\r",
       "     |█████▋                          | 1.2 MB 35.6 MB/s eta 0:00:01\r",
       "     |█████▋                          | 1.2 MB 35.6 MB/s eta 0:00:01\r",
       "     |█████▊                          | 1.2 MB 35.6 MB/s eta 0:00:01\r",
       "     |█████▊                          | 1.2 MB 35.6 MB/s eta 0:00:01\r",
       "     |█████▉                          | 1.2 MB 35.6 MB/s eta 0:00:01\r",
       "     |█████▉                          | 1.2 MB 35.6 MB/s eta 0:00:01\r",
       "     |██████                          | 1.3 MB 35.6 MB/s eta 0:00:01\r",
       "     |██████                          | 1.3 MB 35.6 MB/s eta 0:00:01\r",
       "     |██████                          | 1.3 MB 35.6 MB/s eta 0:00:01\r",
       "     |██████                          | 1.3 MB 35.6 MB/s eta 0:00:01\r",
       "     |██████                          | 1.3 MB 35.6 MB/s eta 0:00:01\r",
       "     |██████▏                         | 1.3 MB 35.6 MB/s eta 0:00:01\r",
       "     |██████▏                         | 1.3 MB 35.6 MB/s eta 0:00:01\r",
       "     |██████▎                         | 1.3 MB 35.6 MB/s eta 0:00:01\r",
       "     |██████▎                         | 1.3 MB 35.6 MB/s eta 0:00:01\r",
       "     |██████▍                         | 1.4 MB 35.6 MB/s eta 0:00:01\r",
       "     |██████▍                         | 1.4 MB 35.6 MB/s eta 0:00:01\r",
       "     |██████▍                         | 1.4 MB 35.6 MB/s eta 0:00:01\r",
       "     |██████▌                         | 1.4 MB 35.6 MB/s eta 0:00:01\r",
       "     |██████▌                         | 1.4 MB 35.6 MB/s eta 0:00:01\r",
       "     |██████▋                         | 1.4 MB 35.6 MB/s eta 0:00:01\r",
       "     |██████▋                         | 1.4 MB 35.6 MB/s eta 0:00:01\r",
       "     |██████▊                         | 1.4 MB 35.6 MB/s eta 0:00:01\r",
       "     |██████▊                         | 1.4 MB 35.6 MB/s eta 0:00:01\r",
       "     |██████▊                         | 1.4 MB 35.6 MB/s eta 0:00:01\r",
       "     |██████▉                         | 1.5 MB 35.6 MB/s eta 0:00:01\r",
       "     |██████▉                         | 1.5 MB 35.6 MB/s eta 0:00:01\r",
       "     |███████                         | 1.5 MB 35.6 MB/s eta 0:00:01\r",
       "     |███████                         | 1.5 MB 35.6 MB/s eta 0:00:01\r",
       "     |███████                         | 1.5 MB 35.6 MB/s eta 0:00:01\r",
       "     |███████                         | 1.5 MB 35.6 MB/s eta 0:00:01\r",
       "     |███████                         | 1.5 MB 35.6 MB/s eta 0:00:01\r",
       "     |███████▏                        | 1.5 MB 35.6 MB/s eta 0:00:01\r",
       "     |███████▏                        | 1.5 MB 35.6 MB/s eta 0:00:01\r",
       "     |███████▎                        | 1.5 MB 35.6 MB/s eta 0:00:01\r",
       "     |███████▎                        | 1.6 MB 35.6 MB/s eta 0:00:01\r",
       "     |███████▍                        | 1.6 MB 35.6 MB/s eta 0:00:01\r",
       "     |███████▍                        | 1.6 MB 35.6 MB/s eta 0:00:01\r",
       "     |███████▍                        | 1.6 MB 35.6 MB/s eta 0:00:01\r",
       "     |███████▌                        | 1.6 MB 35.6 MB/s eta 0:00:01\r",
       "     |███████▌                        | 1.6 MB 35.6 MB/s eta 0:00:01\r",
       "     |███████▋                        | 1.6 MB 35.6 MB/s eta 0:00:01\r",
       "     |███████▋                        | 1.6 MB 35.6 MB/s eta 0:00:01\r",
       "     |███████▊                        | 1.6 MB 35.6 MB/s eta 0:00:01\r",
       "     |███████▊                        | 1.6 MB 35.6 MB/s eta 0:00:01\r",
       "     |███████▊                        | 1.7 MB 35.6 MB/s eta 0:00:01\r",
       "     |███████▉                        | 1.7 MB 35.6 MB/s eta 0:00:01\r",
       "     |███████▉                        | 1.7 MB 35.6 MB/s eta 0:00:01\r",
       "     |████████                        | 1.7 MB 35.6 MB/s eta 0:00:01\r",
       "     |████████                        | 1.7 MB 35.6 MB/s eta 0:00:01\r",
       "     |████████                        | 1.7 MB 35.6 MB/s eta 0:00:01\r",
       "     |████████                        | 1.7 MB 35.6 MB/s eta 0:00:01\r",
       "     |████████▏                       | 1.7 MB 35.6 MB/s eta 0:00:01\r",
       "     |████████▏                       | 1.7 MB 35.6 MB/s eta 0:00:01\r",
       "     |████████▏                       | 1.8 MB 35.6 MB/s eta 0:00:01\r",
       "     |████████▎                       | 1.8 MB 35.6 MB/s eta 0:00:01\r",
       "     |████████▎                       | 1.8 MB 35.6 MB/s eta 0:00:01\r",
       "     |████████▍                       | 1.8 MB 35.6 MB/s eta 0:00:01\r",
       "     |████████▍                       | 1.8 MB 35.6 MB/s eta 0:00:01\r",
       "     |████████▌                       | 1.8 MB 35.6 MB/s eta 0:00:01\r",
       "     |████████▌                       | 1.8 MB 35.6 MB/s eta 0:00:01\r",
       "     |████████▌                       | 1.8 MB 35.6 MB/s eta 0:00:01\r",
       "     |████████▋                       | 1.8 MB 35.6 MB/s eta 0:00:01\r",
       "     |████████▋                       | 1.8 MB 35.6 MB/s eta 0:00:01\r",
       "     |████████▊                       | 1.9 MB 35.6 MB/s eta 0:00:01\r",
       "     |████████▊                       | 1.9 MB 35.6 MB/s eta 0:00:01\r",
       "     |████████▉                       | 1.9 MB 35.6 MB/s eta 0:00:01\r",
       "     |████████▉                       | 1.9 MB 35.6 MB/s eta 0:00:01\r",
       "     |████████▉                       | 1.9 MB 35.6 MB/s eta 0:00:01\r",
       "     |█████████                       | 1.9 MB 35.6 MB/s eta 0:00:01\r",
       "     |█████████                       | 1.9 MB 35.6 MB/s eta 0:00:01\r",
       "     |█████████                       | 1.9 MB 35.6 MB/s eta 0:00:01\r",
       "     |█████████                       | 1.9 MB 35.6 MB/s eta 0:00:01\r",
       "     |█████████▏                      | 1.9 MB 35.6 MB/s eta 0:00:01\r",
       "     |█████████▏                      | 2.0 MB 35.6 MB/s eta 0:00:01\r",
       "     |█████████▏                      | 2.0 MB 35.6 MB/s eta 0:00:01\r",
       "     |█████████▎                      | 2.0 MB 35.6 MB/s eta 0:00:01\r",
       "     |█████████▎                      | 2.0 MB 35.6 MB/s eta 0:00:01\r",
       "     |█████████▍                      | 2.0 MB 35.6 MB/s eta 0:00:01\r",
       "     |█████████▍                      | 2.0 MB 35.6 MB/s eta 0:00:01\r",
       "     |█████████▌                      | 2.0 MB 35.6 MB/s eta 0:00:01\r",
       "     |█████████▌                      | 2.0 MB 35.6 MB/s eta 0:00:01\r",
       "     |█████████▌                      | 2.0 MB 35.6 MB/s eta 0:00:01\r",
       "     |█████████▋                      | 2.0 MB 35.6 MB/s eta 0:00:01\r",
       "     |█████████▋                      | 2.1 MB 35.6 MB/s eta 0:00:01\r",
       "     |█████████▊                      | 2.1 MB 35.6 MB/s eta 0:00:01\r",
       "     |█████████▊                      | 2.1 MB 35.6 MB/s eta 0:00:01\r",
       "     |█████████▉                      | 2.1 MB 35.6 MB/s eta 0:00:01\r",
       "     |█████████▉                      | 2.1 MB 35.6 MB/s eta 0:00:01\r",
       "     |██████████                      | 2.1 MB 35.6 MB/s eta 0:00:01\r",
       "     |██████████                      | 2.1 MB 35.6 MB/s eta 0:00:01\r",
       "     |██████████                      | 2.1 MB 35.6 MB/s eta 0:00:01\r",
       "     |██████████                      | 2.1 MB 35.6 MB/s eta 0:00:01\r",
       "     |██████████                      | 2.2 MB 35.6 MB/s eta 0:00:01\r",
       "     |██████████▏                     | 2.2 MB 35.6 MB/s eta 0:00:01\r",
       "     |██████████▏                     | 2.2 MB 35.6 MB/s eta 0:00:01\r",
       "     |██████████▎                     | 2.2 MB 35.6 MB/s eta 0:00:01\r",
       "     |██████████▎                     | 2.2 MB 35.6 MB/s eta 0:00:01\r",
       "     |██████████▎                     | 2.2 MB 35.6 MB/s eta 0:00:01\r",
       "     |██████████▍                     | 2.2 MB 35.6 MB/s eta 0:00:01\r",
       "     |██████████▍                     | 2.2 MB 35.6 MB/s eta 0:00:01\r",
       "     |██████████▌                     | 2.2 MB 35.6 MB/s eta 0:00:01\r",
       "     |██████████▌                     | 2.2 MB 35.6 MB/s eta 0:00:01\r",
       "     |██████████▋                     | 2.3 MB 35.6 MB/s eta 0:00:01\r",
       "     |██████████▋                     | 2.3 MB 35.6 MB/s eta 0:00:01\r",
       "     |██████████▋                     | 2.3 MB 35.6 MB/s eta 0:00:01\r",
       "     |██████████▊                     | 2.3 MB 35.6 MB/s eta 0:00:01\r",
       "     |██████████▊                     | 2.3 MB 35.6 MB/s eta 0:00:01\r",
       "     |██████████▉                     | 2.3 MB 35.6 MB/s eta 0:00:01\r",
       "     |██████████▉                     | 2.3 MB 35.6 MB/s eta 0:00:01\r",
       "     |███████████                     | 2.3 MB 35.6 MB/s eta 0:00:01\r",
       "     |███████████                     | 2.3 MB 35.6 MB/s eta 0:00:01\r",
       "     |███████████                     | 2.3 MB 35.6 MB/s eta 0:00:01\r",
       "     |███████████                     | 2.4 MB 35.6 MB/s eta 0:00:01\r",
       "     |███████████                     | 2.4 MB 35.6 MB/s eta 0:00:01\r",
       "     |███████████▏                    | 2.4 MB 35.6 MB/s eta 0:00:01\r",
       "     |███████████▏                    | 2.4 MB 35.6 MB/s eta 0:00:01\r",
       "     |███████████▎                    | 2.4 MB 35.6 MB/s eta 0:00:01\r",
       "     |███████████▎                    | 2.4 MB 35.6 MB/s eta 0:00:01\r",
       "     |███████████▎                    | 2.4 MB 35.6 MB/s eta 0:00:01\r",
       "     |███████████▍                    | 2.4 MB 35.6 MB/s eta 0:00:01\r",
       "     |███████████▍                    | 2.4 MB 35.6 MB/s eta 0:00:01\r",
       "     |███████████▌                    | 2.4 MB 35.6 MB/s eta 0:00:01\r",
       "     |███████████▌                    | 2.5 MB 35.6 MB/s eta 0:00:01\r",
       "     |███████████▋                    | 2.5 MB 35.6 MB/s eta 0:00:01\r",
       "     |███████████▋                    | 2.5 MB 35.6 MB/s eta 0:00:01\r",
       "     |███████████▋                    | 2.5 MB 35.6 MB/s eta 0:00:01\r",
       "     |███████████▊                    | 2.5 MB 35.6 MB/s eta 0:00:01\r",
       "     |███████████▊                    | 2.5 MB 35.6 MB/s eta 0:00:01\r",
       "     |███████████▉                    | 2.5 MB 35.6 MB/s eta 0:00:01\r",
       "     |███████████▉                    | 2.5 MB 35.6 MB/s eta 0:00:01\r",
       "     |████████████                    | 2.5 MB 35.6 MB/s eta 0:00:01\r",
       "     |████████████                    | 2.5 MB 35.6 MB/s eta 0:00:01\r",
       "     |████████████                    | 2.6 MB 35.6 MB/s eta 0:00:01\r",
       "     |████████████                    | 2.6 MB 35.6 MB/s eta 0:00:01\r",
       "     |████████████                    | 2.6 MB 35.6 MB/s eta 0:00:01\r",
       "     |████████████▏                   | 2.6 MB 35.6 MB/s eta 0:00:01\r",
       "     |████████████▏                   | 2.6 MB 35.6 MB/s eta 0:00:01\r",
       "     |████████████▎                   | 2.6 MB 35.6 MB/s eta 0:00:01\r",
       "     |████████████▎                   | 2.6 MB 35.6 MB/s eta 0:00:01\r",
       "     |████████████▍                   | 2.6 MB 35.6 MB/s eta 0:00:01\r",
       "     |████████████▍                   | 2.6 MB 35.6 MB/s eta 0:00:01\r",
       "     |████████████▍                   | 2.7 MB 35.6 MB/s eta 0:00:01\r",
       "     |████████████▌                   | 2.7 MB 35.6 MB/s eta 0:00:01\r",
       "     |████████████▌                   | 2.7 MB 35.6 MB/s eta 0:00:01\r",
       "     |████████████▋                   | 2.7 MB 35.6 MB/s eta 0:00:01\r",
       "     |████████████▋                   | 2.7 MB 35.6 MB/s eta 0:00:01\r",
       "     |████████████▊                   | 2.7 MB 35.6 MB/s eta 0:00:01\r",
       "     |████████████▊                   | 2.7 MB 35.6 MB/s eta 0:00:01\r",
       "     |████████████▊                   | 2.7 MB 35.6 MB/s eta 0:00:01\r",
       "     |████████████▉                   | 2.7 MB 35.6 MB/s eta 0:00:01\r",
       "     |████████████▉                   | 2.7 MB 35.6 MB/s eta 0:00:01\r",
       "     |█████████████                   | 2.8 MB 35.6 MB/s eta 0:00:01\r",
       "     |█████████████                   | 2.8 MB 35.6 MB/s eta 0:00:01\r",
       "     |█████████████                   | 2.8 MB 35.6 MB/s eta 0:00:01\r",
       "     |█████████████                   | 2.8 MB 35.6 MB/s eta 0:00:01\r",
       "     |█████████████                   | 2.8 MB 35.6 MB/s eta 0:00:01\r",
       "     |█████████████▏                  | 2.8 MB 35.6 MB/s eta 0:00:01\r",
       "     |█████████████▏                  | 2.8 MB 35.6 MB/s eta 0:00:01\r",
       "     |█████████████▎                  | 2.8 MB 35.6 MB/s eta 0:00:01\r",
       "     |█████████████▎                  | 2.8 MB 35.6 MB/s eta 0:00:01\r",
       "     |█████████████▍                  | 2.8 MB 35.6 MB/s eta 0:00:01\r",
       "     |█████████████▍                  | 2.9 MB 35.6 MB/s eta 0:00:01\r",
       "     |█████████████▍                  | 2.9 MB 35.6 MB/s eta 0:00:01\r",
       "     |█████████████▌                  | 2.9 MB 35.6 MB/s eta 0:00:01\r",
       "     |█████████████▌                  | 2.9 MB 35.6 MB/s eta 0:00:01\r",
       "     |█████████████▋                  | 2.9 MB 35.6 MB/s eta 0:00:01\r",
       "     |█████████████▋                  | 2.9 MB 35.6 MB/s eta 0:00:01\r",
       "     |█████████████▊                  | 2.9 MB 35.6 MB/s eta 0:00:01\r",
       "     |█████████████▊                  | 2.9 MB 35.6 MB/s eta 0:00:01\r",
       "     |█████████████▉                  | 2.9 MB 35.6 MB/s eta 0:00:01\r",
       "     |█████████████▉                  | 2.9 MB 35.6 MB/s eta 0:00:01\r",
       "     |█████████████▉                  | 3.0 MB 35.6 MB/s eta 0:00:01\r",
       "     |██████████████                  | 3.0 MB 35.6 MB/s eta 0:00:01\r",
       "     |██████████████                  | 3.0 MB 35.6 MB/s eta 0:00:01\r",
       "     |██████████████                  | 3.0 MB 35.6 MB/s eta 0:00:01\r",
       "     |██████████████                  | 3.0 MB 35.6 MB/s eta 0:00:01\r",
       "     |██████████████▏                 | 3.0 MB 35.6 MB/s eta 0:00:01\r",
       "     |██████████████▏                 | 3.0 MB 35.6 MB/s eta 0:00:01\r",
       "     |██████████████▏                 | 3.0 MB 35.6 MB/s eta 0:00:01\r",
       "     |██████████████▎                 | 3.0 MB 35.6 MB/s eta 0:00:01\r",
       "     |██████████████▎                 | 3.1 MB 35.6 MB/s eta 0:00:01\r",
       "     |██████████████▍                 | 3.1 MB 35.6 MB/s eta 0:00:01\r",
       "     |██████████████▍                 | 3.1 MB 35.6 MB/s eta 0:00:01\r",
       "     |██████████████▌                 | 3.1 MB 35.6 MB/s eta 0:00:01\r",
       "     |██████████████▌                 | 3.1 MB 35.6 MB/s eta 0:00:01\r",
       "     |██████████████▌                 | 3.1 MB 35.6 MB/s eta 0:00:01\r",
       "     |██████████████▋                 | 3.1 MB 35.6 MB/s eta 0:00:01\r",
       "     |██████████████▋                 | 3.1 MB 35.6 MB/s eta 0:00:01\r",
       "     |██████████████▊                 | 3.1 MB 35.6 MB/s eta 0:00:01\r",
       "     |██████████████▊                 | 3.1 MB 35.6 MB/s eta 0:00:01\r",
       "     |██████████████▉                 | 3.2 MB 35.6 MB/s eta 0:00:01\r",
       "     |██████████████▉                 | 3.2 MB 35.6 MB/s eta 0:00:01\r",
       "     |██████████████▉                 | 3.2 MB 35.6 MB/s eta 0:00:01\r",
       "     |███████████████                 | 3.2 MB 35.6 MB/s eta 0:00:01\r",
       "     |███████████████                 | 3.2 MB 35.6 MB/s eta 0:00:01\r",
       "     |███████████████                 | 3.2 MB 35.6 MB/s eta 0:00:01\r",
       "     |███████████████                 | 3.2 MB 35.6 MB/s eta 0:00:01\r",
       "     |███████████████▏                | 3.2 MB 35.6 MB/s eta 0:00:01\r",
       "     |███████████████▏                | 3.2 MB 35.6 MB/s eta 0:00:01\r",
       "     |███████████████▏                | 3.2 MB 35.6 MB/s eta 0:00:01\r",
       "     |███████████████▎                | 3.3 MB 35.6 MB/s eta 0:00:01\r",
       "     |███████████████▎                | 3.3 MB 35.6 MB/s eta 0:00:01\r",
       "     |███████████████▍                | 3.3 MB 35.6 MB/s eta 0:00:01\r",
       "     |███████████████▍                | 3.3 MB 35.6 MB/s eta 0:00:01\r",
       "     |███████████████▌                | 3.3 MB 35.6 MB/s eta 0:00:01\r",
       "     |███████████████▌                | 3.3 MB 35.6 MB/s eta 0:00:01\r",
       "     |███████████████▌                | 3.3 MB 35.6 MB/s eta 0:00:01\r",
       "     |███████████████▋                | 3.3 MB 35.6 MB/s eta 0:00:01\r",
       "     |███████████████▋                | 3.3 MB 35.6 MB/s eta 0:00:01\r",
       "     |███████████████▊                | 3.3 MB 35.6 MB/s eta 0:00:01\r",
       "     |███████████████▊                | 3.4 MB 35.6 MB/s eta 0:00:01\r",
       "     |███████████████▉                | 3.4 MB 35.6 MB/s eta 0:00:01\r",
       "     |███████████████▉                | 3.4 MB 35.6 MB/s eta 0:00:01\r",
       "     |████████████████                | 3.4 MB 35.6 MB/s eta 0:00:01\r",
       "     |████████████████                | 3.4 MB 35.6 MB/s eta 0:00:01\r",
       "     |████████████████                | 3.4 MB 35.6 MB/s eta 0:00:01\r",
       "     |████████████████                | 3.4 MB 35.6 MB/s eta 0:00:01\r",
       "     |████████████████                | 3.4 MB 35.6 MB/s eta 0:00:01\r",
       "     |████████████████▏               | 3.4 MB 35.6 MB/s eta 0:00:01\r",
       "     |████████████████▏               | 3.5 MB 35.6 MB/s eta 0:00:01\r",
       "     |████████████████▎               | 3.5 MB 35.6 MB/s eta 0:00:01\r",
       "     |████████████████▎               | 3.5 MB 35.6 MB/s eta 0:00:01\r",
       "     |████████████████▎               | 3.5 MB 35.6 MB/s eta 0:00:01\r",
       "     |████████████████▍               | 3.5 MB 35.6 MB/s eta 0:00:01\r",
       "     |████████████████▍               | 3.5 MB 35.6 MB/s eta 0:00:01\r",
       "     |████████████████▌               | 3.5 MB 35.6 MB/s eta 0:00:01\r",
       "     |████████████████▌               | 3.5 MB 35.6 MB/s eta 0:00:01\r",
       "     |████████████████▋               | 3.5 MB 35.6 MB/s eta 0:00:01\r",
       "     |████████████████▋               | 3.5 MB 35.6 MB/s eta 0:00:01\r",
       "     |████████████████▋               | 3.6 MB 35.6 MB/s eta 0:00:01\r",
       "     |████████████████▊               | 3.6 MB 35.6 MB/s eta 0:00:01\r",
       "     |████████████████▊               | 3.6 MB 35.6 MB/s eta 0:00:01\r",
       "     |████████████████▉               | 3.6 MB 35.6 MB/s eta 0:00:01\r",
       "     |████████████████▉               | 3.6 MB 35.6 MB/s eta 0:00:01\r",
       "     |█████████████████               | 3.6 MB 35.6 MB/s eta 0:00:01\r",
       "     |█████████████████               | 3.6 MB 35.6 MB/s eta 0:00:01\r",
       "     |█████████████████               | 3.6 MB 35.6 MB/s eta 0:00:01\r",
       "     |█████████████████               | 3.6 MB 35.6 MB/s eta 0:00:01\r",
       "     |█████████████████               | 3.6 MB 35.6 MB/s eta 0:00:01\r",
       "     |█████████████████▏              | 3.7 MB 35.6 MB/s eta 0:00:01\r",
       "     |█████████████████▏              | 3.7 MB 35.6 MB/s eta 0:00:01\r",
       "     |█████████████████▎              | 3.7 MB 35.6 MB/s eta 0:00:01\r",
       "     |█████████████████▎              | 3.7 MB 35.6 MB/s eta 0:00:01\r",
       "     |█████████████████▎              | 3.7 MB 35.6 MB/s eta 0:00:01\r",
       "     |█████████████████▍              | 3.7 MB 35.6 MB/s eta 0:00:01\r",
       "     |█████████████████▍              | 3.7 MB 35.6 MB/s eta 0:00:01\r",
       "     |█████████████████▌              | 3.7 MB 35.6 MB/s eta 0:00:01\r",
       "     |█████████████████▌              | 3.7 MB 35.6 MB/s eta 0:00:01\r",
       "     |█████████████████▋              | 3.7 MB 35.6 MB/s eta 0:00:01\r",
       "     |█████████████████▋              | 3.8 MB 35.6 MB/s eta 0:00:01\r",
       "     |█████████████████▊              | 3.8 MB 35.6 MB/s eta 0:00:01\r",
       "     |█████████████████▊              | 3.8 MB 35.6 MB/s eta 0:00:01\r",
       "     |█████████████████▊              | 3.8 MB 35.6 MB/s eta 0:00:01\r",
       "     |█████████████████▉              | 3.8 MB 35.6 MB/s eta 0:00:01\r",
       "     |█████████████████▉              | 3.8 MB 35.6 MB/s eta 0:00:01\r",
       "     |██████████████████              | 3.8 MB 35.6 MB/s eta 0:00:01\r",
       "     |██████████████████              | 3.8 MB 35.6 MB/s eta 0:00:01\r",
       "     |██████████████████              | 3.8 MB 35.6 MB/s eta 0:00:01\r",
       "     |██████████████████              | 3.9 MB 35.6 MB/s eta 0:00:01\r",
       "     |██████████████████              | 3.9 MB 35.6 MB/s eta 0:00:01\r",
       "     |██████████████████▏             | 3.9 MB 35.6 MB/s eta 0:00:01\r",
       "     |██████████████████▏             | 3.9 MB 35.6 MB/s eta 0:00:01\r",
       "     |██████████████████▎             | 3.9 MB 35.6 MB/s eta 0:00:01\r",
       "     |██████████████████▎             | 3.9 MB 35.6 MB/s eta 0:00:01\r",
       "     |██████████████████▍             | 3.9 MB 35.6 MB/s eta 0:00:01\r",
       "     |██████████████████▍             | 3.9 MB 35.6 MB/s eta 0:00:01\r",
       "     |██████████████████▍             | 3.9 MB 35.6 MB/s eta 0:00:01\r",
       "     |██████████████████▌             | 3.9 MB 35.6 MB/s eta 0:00:01\r",
       "     |██████████████████▌             | 4.0 MB 35.6 MB/s eta 0:00:01\r",
       "     |██████████████████▋             | 4.0 MB 35.6 MB/s eta 0:00:01\r",
       "     |██████████████████▋             | 4.0 MB 35.6 MB/s eta 0:00:01\r",
       "     |██████████████████▊             | 4.0 MB 35.6 MB/s eta 0:00:01\r",
       "     |██████████████████▊             | 4.0 MB 35.6 MB/s eta 0:00:01\r",
       "     |██████████████████▊             | 4.0 MB 35.6 MB/s eta 0:00:01\r",
       "     |██████████████████▉             | 4.0 MB 35.6 MB/s eta 0:00:01\r",
       "     |██████████████████▉             | 4.0 MB 35.6 MB/s eta 0:00:01\r",
       "     |███████████████████             | 4.0 MB 35.6 MB/s eta 0:00:01\r",
       "     |███████████████████             | 4.0 MB 35.6 MB/s eta 0:00:01\r",
       "     |███████████████████             | 4.1 MB 35.6 MB/s eta 0:00:01\r",
       "     |███████████████████             | 4.1 MB 35.6 MB/s eta 0:00:01\r",
       "     |███████████████████             | 4.1 MB 35.6 MB/s eta 0:00:01\r",
       "     |███████████████████▏            | 4.1 MB 35.6 MB/s eta 0:00:01\r",
       "     |███████████████████▏            | 4.1 MB 35.6 MB/s eta 0:00:01\r",
       "     |███████████████████▎            | 4.1 MB 35.6 MB/s eta 0:00:01\r",
       "     |███████████████████▎            | 4.1 MB 35.6 MB/s eta 0:00:01\r",
       "     |███████████████████▍            | 4.1 MB 35.6 MB/s eta 0:00:01\r",
       "     |███████████████████▍            | 4.1 MB 35.6 MB/s eta 0:00:01\r",
       "     |███████████████████▍            | 4.1 MB 35.6 MB/s eta 0:00:01\r",
       "     |███████████████████▌            | 4.2 MB 35.6 MB/s eta 0:00:01\r",
       "     |███████████████████▌            | 4.2 MB 35.6 MB/s eta 0:00:01\r",
       "     |███████████████████▋            | 4.2 MB 35.6 MB/s eta 0:00:01\r",
       "     |███████████████████▋            | 4.2 MB 35.6 MB/s eta 0:00:01\r",
       "     |███████████████████▊            | 4.2 MB 35.6 MB/s eta 0:00:01\r",
       "     |███████████████████▊            | 4.2 MB 35.6 MB/s eta 0:00:01\r",
       "     |███████████████████▉            | 4.2 MB 35.6 MB/s eta 0:00:01\r",
       "     |███████████████████▉            | 4.2 MB 35.6 MB/s eta 0:00:01\r",
       "     |███████████████████▉            | 4.2 MB 35.6 MB/s eta 0:00:01\r",
       "     |████████████████████            | 4.2 MB 35.6 MB/s eta 0:00:01\r",
       "     |████████████████████            | 4.3 MB 35.6 MB/s eta 0:00:01\r",
       "     |████████████████████            | 4.3 MB 35.6 MB/s eta 0:00:01\r",
       "     |████████████████████            | 4.3 MB 35.6 MB/s eta 0:00:01\r",
       "     |████████████████████▏           | 4.3 MB 35.6 MB/s eta 0:00:01\r",
       "     |████████████████████▏           | 4.3 MB 35.6 MB/s eta 0:00:01\r",
       "     |████████████████████▏           | 4.3 MB 35.6 MB/s eta 0:00:01\r",
       "     |████████████████████▎           | 4.3 MB 35.6 MB/s eta 0:00:01\r",
       "     |████████████████████▎           | 4.3 MB 35.6 MB/s eta 0:00:01\r",
       "     |████████████████████▍           | 4.3 MB 35.6 MB/s eta 0:00:01\r",
       "     |████████████████████▍           | 4.4 MB 35.6 MB/s eta 0:00:01\r",
       "     |████████████████████▌           | 4.4 MB 35.6 MB/s eta 0:00:01\r",
       "     |████████████████████▌           | 4.4 MB 35.6 MB/s eta 0:00:01\r",
       "     |████████████████████▌           | 4.4 MB 35.6 MB/s eta 0:00:01\r",
       "     |████████████████████▋           | 4.4 MB 35.6 MB/s eta 0:00:01\r",
       "     |████████████████████▋           | 4.4 MB 35.6 MB/s eta 0:00:01\r",
       "     |████████████████████▊           | 4.4 MB 35.6 MB/s eta 0:00:01\r",
       "     |████████████████████▊           | 4.4 MB 35.6 MB/s eta 0:00:01\r",
       "     |████████████████████▉           | 4.4 MB 35.6 MB/s eta 0:00:01\r",
       "     |████████████████████▉           | 4.4 MB 35.6 MB/s eta 0:00:01\r",
       "     |████████████████████▉           | 4.5 MB 35.6 MB/s eta 0:00:01\r",
       "     |█████████████████████           | 4.5 MB 35.6 MB/s eta 0:00:01\r",
       "     |█████████████████████           | 4.5 MB 35.6 MB/s eta 0:00:01\r",
       "     |█████████████████████           | 4.5 MB 35.6 MB/s eta 0:00:01\r",
       "     |█████████████████████           | 4.5 MB 35.6 MB/s eta 0:00:01\r",
       "     |█████████████████████▏          | 4.5 MB 35.6 MB/s eta 0:00:01\r",
       "     |█████████████████████▏          | 4.5 MB 35.6 MB/s eta 0:00:01\r",
       "     |█████████████████████▏          | 4.5 MB 35.6 MB/s eta 0:00:01\r",
       "     |█████████████████████▎          | 4.5 MB 35.6 MB/s eta 0:00:01\r",
       "     |█████████████████████▎          | 4.5 MB 35.6 MB/s eta 0:00:01\r",
       "     |█████████████████████▍          | 4.6 MB 35.6 MB/s eta 0:00:01\r",
       "     |█████████████████████▍          | 4.6 MB 35.6 MB/s eta 0:00:01\r",
       "     |█████████████████████▌          | 4.6 MB 35.6 MB/s eta 0:00:01\r",
       "     |█████████████████████▌          | 4.6 MB 35.6 MB/s eta 0:00:01\r",
       "     |█████████████████████▋          | 4.6 MB 35.6 MB/s eta 0:00:01\r",
       "     |█████████████████████▋          | 4.6 MB 35.6 MB/s eta 0:00:01\r",
       "     |█████████████████████▋          | 4.6 MB 35.6 MB/s eta 0:00:01\r",
       "     |█████████████████████▊          | 4.6 MB 35.6 MB/s eta 0:00:01\r",
       "     |█████████████████████▊          | 4.6 MB 35.6 MB/s eta 0:00:01\r",
       "     |█████████████████████▉          | 4.6 MB 35.6 MB/s eta 0:00:01\r",
       "     |█████████████████████▉          | 4.7 MB 35.6 MB/s eta 0:00:01\r",
       "     |██████████████████████          | 4.7 MB 35.6 MB/s eta 0:00:01\r",
       "     |██████████████████████          | 4.7 MB 35.6 MB/s eta 0:00:01\r",
       "     |██████████████████████          | 4.7 MB 35.6 MB/s eta 0:00:01\r",
       "     |██████████████████████          | 4.7 MB 35.6 MB/s eta 0:00:01\r",
       "     |██████████████████████          | 4.7 MB 35.6 MB/s eta 0:00:01\r",
       "     |██████████████████████▏         | 4.7 MB 35.6 MB/s eta 0:00:01\r",
       "     |██████████████████████▏         | 4.7 MB 35.6 MB/s eta 0:00:01\r",
       "     |██████████████████████▎         | 4.7 MB 35.6 MB/s eta 0:00:01\r",
       "     |██████████████████████▎         | 4.8 MB 35.6 MB/s eta 0:00:01\r",
       "     |██████████████████████▎         | 4.8 MB 35.6 MB/s eta 0:00:01\r",
       "     |██████████████████████▍         | 4.8 MB 35.6 MB/s eta 0:00:01\r",
       "     |██████████████████████▍         | 4.8 MB 35.6 MB/s eta 0:00:01\r",
       "     |██████████████████████▌         | 4.8 MB 35.6 MB/s eta 0:00:01\r",
       "     |██████████████████████▌         | 4.8 MB 35.6 MB/s eta 0:00:01\r",
       "     |██████████████████████▋         | 4.8 MB 35.6 MB/s eta 0:00:01\r",
       "     |██████████████████████▋         | 4.8 MB 35.6 MB/s eta 0:00:01\r",
       "     |██████████████████████▋         | 4.8 MB 35.6 MB/s eta 0:00:01\r",
       "     |██████████████████████▊         | 4.8 MB 35.6 MB/s eta 0:00:01\r",
       "     |██████████████████████▊         | 4.9 MB 35.6 MB/s eta 0:00:01\r",
       "     |██████████████████████▉         | 4.9 MB 35.6 MB/s eta 0:00:01\r",
       "     |██████████████████████▉         | 4.9 MB 35.6 MB/s eta 0:00:01\r",
       "     |███████████████████████         | 4.9 MB 35.6 MB/s eta 0:00:01\r",
       "     |███████████████████████         | 4.9 MB 35.6 MB/s eta 0:00:01\r",
       "     |███████████████████████         | 4.9 MB 35.6 MB/s eta 0:00:01\r",
       "     |███████████████████████         | 4.9 MB 35.6 MB/s eta 0:00:01\r",
       "     |███████████████████████         | 4.9 MB 35.6 MB/s eta 0:00:01\r",
       "     |███████████████████████▏        | 4.9 MB 35.6 MB/s eta 0:00:01\r",
       "     |███████████████████████▏        | 4.9 MB 35.6 MB/s eta 0:00:01\r",
       "     |███████████████████████▎        | 5.0 MB 35.6 MB/s eta 0:00:01\r",
       "     |███████████████████████▎        | 5.0 MB 35.6 MB/s eta 0:00:01\r",
       "     |███████████████████████▎        | 5.0 MB 35.6 MB/s eta 0:00:01\r",
       "     |███████████████████████▍        | 5.0 MB 35.6 MB/s eta 0:00:01\r",
       "     |███████████████████████▍        | 5.0 MB 35.6 MB/s eta 0:00:01\r",
       "     |███████████████████████▌        | 5.0 MB 35.6 MB/s eta 0:00:01\r",
       "     |███████████████████████▌        | 5.0 MB 35.6 MB/s eta 0:00:01\r",
       "     |███████████████████████▋        | 5.0 MB 35.6 MB/s eta 0:00:01\r",
       "     |███████████████████████▋        | 5.0 MB 35.6 MB/s eta 0:00:01\r",
       "     |███████████████████████▊        | 5.0 MB 35.6 MB/s eta 0:00:01\r",
       "     |███████████████████████▊        | 5.1 MB 35.6 MB/s eta 0:00:01\r",
       "     |███████████████████████▊        | 5.1 MB 35.6 MB/s eta 0:00:01\r",
       "     |███████████████████████▉        | 5.1 MB 35.6 MB/s eta 0:00:01\r",
       "     |███████████████████████▉        | 5.1 MB 35.6 MB/s eta 0:00:01\r",
       "     |████████████████████████        | 5.1 MB 35.6 MB/s eta 0:00:01\r",
       "     |████████████████████████        | 5.1 MB 35.6 MB/s eta 0:00:01\r",
       "     |████████████████████████        | 5.1 MB 35.6 MB/s eta 0:00:01\r",
       "     |████████████████████████        | 5.1 MB 35.6 MB/s eta 0:00:01\r",
       "     |████████████████████████        | 5.1 MB 35.6 MB/s eta 0:00:01\r",
       "     |████████████████████████▏       | 5.2 MB 35.6 MB/s eta 0:00:01\r",
       "     |████████████████████████▏       | 5.2 MB 35.6 MB/s eta 0:00:01\r",
       "     |████████████████████████▎       | 5.2 MB 35.6 MB/s eta 0:00:01\r",
       "     |████████████████████████▎       | 5.2 MB 35.6 MB/s eta 0:00:01\r",
       "     |████████████████████████▍       | 5.2 MB 35.6 MB/s eta 0:00:01\r",
       "     |████████████████████████▍       | 5.2 MB 35.6 MB/s eta 0:00:01\r",
       "     |████████████████████████▍       | 5.2 MB 35.6 MB/s eta 0:00:01\r",
       "     |████████████████████████▌       | 5.2 MB 35.6 MB/s eta 0:00:01\r",
       "     |████████████████████████▌       | 5.2 MB 35.6 MB/s eta 0:00:01\r",
       "     |████████████████████████▋       | 5.2 MB 35.6 MB/s eta 0:00:01\r",
       "     |████████████████████████▋       | 5.3 MB 35.6 MB/s eta 0:00:01\r",
       "     |████████████████████████▊       | 5.3 MB 35.6 MB/s eta 0:00:01\r",
       "     |████████████████████████▊       | 5.3 MB 35.6 MB/s eta 0:00:01\r",
       "     |████████████████████████▊       | 5.3 MB 35.6 MB/s eta 0:00:01\r",
       "     |████████████████████████▉       | 5.3 MB 35.6 MB/s eta 0:00:01\r",
       "     |████████████████████████▉       | 5.3 MB 35.6 MB/s eta 0:00:01\r",
       "     |█████████████████████████       | 5.3 MB 35.6 MB/s eta 0:00:01\r",
       "     |█████████████████████████       | 5.3 MB 35.6 MB/s eta 0:00:01\r",
       "     |█████████████████████████       | 5.3 MB 35.6 MB/s eta 0:00:01\r",
       "     |█████████████████████████       | 5.3 MB 35.6 MB/s eta 0:00:01\r",
       "     |█████████████████████████       | 5.4 MB 35.6 MB/s eta 0:00:01\r",
       "     |█████████████████████████▏      | 5.4 MB 35.6 MB/s eta 0:00:01\r",
       "     |█████████████████████████▏      | 5.4 MB 35.6 MB/s eta 0:00:01\r",
       "     |█████████████████████████▎      | 5.4 MB 35.6 MB/s eta 0:00:01\r",
       "     |█████████████████████████▎      | 5.4 MB 35.6 MB/s eta 0:00:01\r",
       "     |█████████████████████████▍      | 5.4 MB 35.6 MB/s eta 0:00:01\r",
       "     |█████████████████████████▍      | 5.4 MB 35.6 MB/s eta 0:00:01\r",
       "     |█████████████████████████▌      | 5.4 MB 35.6 MB/s eta 0:00:01\r",
       "     |█████████████████████████▌      | 5.4 MB 35.6 MB/s eta 0:00:01\r",
       "     |█████████████████████████▌      | 5.4 MB 35.6 MB/s eta 0:00:01\r",
       "     |█████████████████████████▋      | 5.5 MB 35.6 MB/s eta 0:00:01\r",
       "     |█████████████████████████▋      | 5.5 MB 35.6 MB/s eta 0:00:01\r",
       "     |█████████████████████████▊      | 5.5 MB 35.6 MB/s eta 0:00:01\r",
       "     |█████████████████████████▊      | 5.5 MB 35.6 MB/s eta 0:00:01\r",
       "     |█████████████████████████▉      | 5.5 MB 35.6 MB/s eta 0:00:01\r",
       "     |█████████████████████████▉      | 5.5 MB 35.6 MB/s eta 0:00:01\r",
       "     |█████████████████████████▉      | 5.5 MB 35.6 MB/s eta 0:00:01\r",
       "     |██████████████████████████      | 5.5 MB 35.6 MB/s eta 0:00:01\r",
       "     |██████████████████████████      | 5.5 MB 35.6 MB/s eta 0:00:01\r",
       "     |██████████████████████████      | 5.6 MB 35.6 MB/s eta 0:00:01\r",
       "     |██████████████████████████      | 5.6 MB 35.6 MB/s eta 0:00:01\r",
       "     |██████████████████████████▏     | 5.6 MB 35.6 MB/s eta 0:00:01\r",
       "     |██████████████████████████▏     | 5.6 MB 35.6 MB/s eta 0:00:01\r",
       "     |██████████████████████████▏     | 5.6 MB 35.6 MB/s eta 0:00:01\r",
       "     |██████████████████████████▎     | 5.6 MB 35.6 MB/s eta 0:00:01\r",
       "     |██████████████████████████▎     | 5.6 MB 35.6 MB/s eta 0:00:01\r",
       "     |██████████████████████████▍     | 5.6 MB 35.6 MB/s eta 0:00:01\r",
       "     |██████████████████████████▍     | 5.6 MB 35.6 MB/s eta 0:00:01\r",
       "     |██████████████████████████▌     | 5.6 MB 35.6 MB/s eta 0:00:01\r",
       "     |██████████████████████████▌     | 5.7 MB 35.6 MB/s eta 0:00:01\r",
       "     |██████████████████████████▌     | 5.7 MB 35.6 MB/s eta 0:00:01\r",
       "     |██████████████████████████▋     | 5.7 MB 35.6 MB/s eta 0:00:01\r",
       "     |██████████████████████████▋     | 5.7 MB 35.6 MB/s eta 0:00:01\r",
       "     |██████████████████████████▊     | 5.7 MB 35.6 MB/s eta 0:00:01\r",
       "     |██████████████████████████▊     | 5.7 MB 35.6 MB/s eta 0:00:01\r",
       "     |██████████████████████████▉     | 5.7 MB 35.6 MB/s eta 0:00:01\r",
       "     |██████████████████████████▉     | 5.7 MB 35.6 MB/s eta 0:00:01\r",
       "     |██████████████████████████▉     | 5.7 MB 35.6 MB/s eta 0:00:01\r",
       "     |███████████████████████████     | 5.7 MB 35.6 MB/s eta 0:00:01\r",
       "     |███████████████████████████     | 5.8 MB 35.6 MB/s eta 0:00:01\r",
       "     |███████████████████████████     | 5.8 MB 35.6 MB/s eta 0:00:01\r",
       "     |███████████████████████████     | 5.8 MB 35.6 MB/s eta 0:00:01\r",
       "     |███████████████████████████▏    | 5.8 MB 35.6 MB/s eta 0:00:01\r",
       "     |███████████████████████████▏    | 5.8 MB 35.6 MB/s eta 0:00:01\r",
       "     |███████████████████████████▏    | 5.8 MB 35.6 MB/s eta 0:00:01\r",
       "     |███████████████████████████▎    | 5.8 MB 35.6 MB/s eta 0:00:01\r",
       "     |███████████████████████████▎    | 5.8 MB 35.6 MB/s eta 0:00:01\r",
       "     |███████████████████████████▍    | 5.8 MB 35.6 MB/s eta 0:00:01\r",
       "     |███████████████████████████▍    | 5.8 MB 35.6 MB/s eta 0:00:01\r",
       "     |███████████████████████████▌    | 5.9 MB 35.6 MB/s eta 0:00:01\r",
       "     |███████████████████████████▌    | 5.9 MB 35.6 MB/s eta 0:00:01\r",
       "     |███████████████████████████▋    | 5.9 MB 35.6 MB/s eta 0:00:01\r",
       "     |███████████████████████████▋    | 5.9 MB 35.6 MB/s eta 0:00:01\r",
       "     |███████████████████████████▋    | 5.9 MB 35.6 MB/s eta 0:00:01\r",
       "     |███████████████████████████▊    | 5.9 MB 35.6 MB/s eta 0:00:01\r",
       "     |███████████████████████████▊    | 5.9 MB 35.6 MB/s eta 0:00:01\r",
       "     |███████████████████████████▉    | 5.9 MB 35.6 MB/s eta 0:00:01\r",
       "     |███████████████████████████▉    | 5.9 MB 35.6 MB/s eta 0:00:01\r",
       "     |████████████████████████████    | 5.9 MB 35.6 MB/s eta 0:00:01\r",
       "     |████████████████████████████    | 6.0 MB 35.6 MB/s eta 0:00:01\r",
       "     |████████████████████████████    | 6.0 MB 35.6 MB/s eta 0:00:01\r",
       "     |████████████████████████████    | 6.0 MB 35.6 MB/s eta 0:00:01\r",
       "     |████████████████████████████    | 6.0 MB 35.6 MB/s eta 0:00:01\r",
       "     |████████████████████████████▏   | 6.0 MB 35.6 MB/s eta 0:00:01\r",
       "     |████████████████████████████▏   | 6.0 MB 35.6 MB/s eta 0:00:01\r",
       "     |████████████████████████████▎   | 6.0 MB 35.6 MB/s eta 0:00:01\r",
       "     |████████████████████████████▎   | 6.0 MB 35.6 MB/s eta 0:00:01\r",
       "     |████████████████████████████▎   | 6.0 MB 35.6 MB/s eta 0:00:01\r",
       "     |████████████████████████████▍   | 6.1 MB 35.6 MB/s eta 0:00:01\r",
       "     |████████████████████████████▍   | 6.1 MB 35.6 MB/s eta 0:00:01\r",
       "     |████████████████████████████▌   | 6.1 MB 35.6 MB/s eta 0:00:01\r",
       "     |████████████████████████████▌   | 6.1 MB 35.6 MB/s eta 0:00:01\r",
       "     |████████████████████████████▋   | 6.1 MB 35.6 MB/s eta 0:00:01\r",
       "     |████████████████████████████▋   | 6.1 MB 35.6 MB/s eta 0:00:01\r",
       "     |████████████████████████████▋   | 6.1 MB 35.6 MB/s eta 0:00:01\r",
       "     |████████████████████████████▊   | 6.1 MB 35.6 MB/s eta 0:00:01\r",
       "     |████████████████████████████▊   | 6.1 MB 35.6 MB/s eta 0:00:01\r",
       "     |████████████████████████████▉   | 6.1 MB 35.6 MB/s eta 0:00:01\r",
       "     |████████████████████████████▉   | 6.2 MB 35.6 MB/s eta 0:00:01\r",
       "     |█████████████████████████████   | 6.2 MB 35.6 MB/s eta 0:00:01\r",
       "     |█████████████████████████████   | 6.2 MB 35.6 MB/s eta 0:00:01\r",
       "     |█████████████████████████████   | 6.2 MB 35.6 MB/s eta 0:00:01\r",
       "     |█████████████████████████████   | 6.2 MB 35.6 MB/s eta 0:00:01\r",
       "     |█████████████████████████████   | 6.2 MB 35.6 MB/s eta 0:00:01\r",
       "     |█████████████████████████████▏  | 6.2 MB 35.6 MB/s eta 0:00:01\r",
       "     |█████████████████████████████▏  | 6.2 MB 35.6 MB/s eta 0:00:01\r",
       "     |█████████████████████████████▎  | 6.2 MB 35.6 MB/s eta 0:00:01\r",
       "     |█████████████████████████████▎  | 6.2 MB 35.6 MB/s eta 0:00:01\r",
       "     |█████████████████████████████▍  | 6.3 MB 35.6 MB/s eta 0:00:01\r",
       "     |█████████████████████████████▍  | 6.3 MB 35.6 MB/s eta 0:00:01\r",
       "     |█████████████████████████████▍  | 6.3 MB 35.6 MB/s eta 0:00:01\r",
       "     |█████████████████████████████▌  | 6.3 MB 35.6 MB/s eta 0:00:01\r",
       "     |█████████████████████████████▌  | 6.3 MB 35.6 MB/s eta 0:00:01\r",
       "     |█████████████████████████████▋  | 6.3 MB 35.6 MB/s eta 0:00:01\r",
       "     |█████████████████████████████▋  | 6.3 MB 35.6 MB/s eta 0:00:01\r",
       "     |█████████████████████████████▊  | 6.3 MB 35.6 MB/s eta 0:00:01\r",
       "     |█████████████████████████████▊  | 6.3 MB 35.6 MB/s eta 0:00:01\r",
       "     |█████████████████████████████▊  | 6.3 MB 35.6 MB/s eta 0:00:01\r",
       "     |█████████████████████████████▉  | 6.4 MB 35.6 MB/s eta 0:00:01\r",
       "     |█████████████████████████████▉  | 6.4 MB 35.6 MB/s eta 0:00:01\r",
       "     |██████████████████████████████  | 6.4 MB 35.6 MB/s eta 0:00:01\r",
       "     |██████████████████████████████  | 6.4 MB 35.6 MB/s eta 0:00:01\r",
       "     |██████████████████████████████  | 6.4 MB 35.6 MB/s eta 0:00:01\r",
       "     |██████████████████████████████  | 6.4 MB 35.6 MB/s eta 0:00:01\r",
       "     |██████████████████████████████  | 6.4 MB 35.6 MB/s eta 0:00:01\r",
       "     |██████████████████████████████▏ | 6.4 MB 35.6 MB/s eta 0:00:01\r",
       "     |██████████████████████████████▏ | 6.4 MB 35.6 MB/s eta 0:00:01\r",
       "     |██████████████████████████████▎ | 6.5 MB 35.6 MB/s eta 0:00:01\r",
       "     |██████████████████████████████▎ | 6.5 MB 35.6 MB/s eta 0:00:01\r",
       "     |██████████████████████████████▍ | 6.5 MB 35.6 MB/s eta 0:00:01\r",
       "     |██████████████████████████████▍ | 6.5 MB 35.6 MB/s eta 0:00:01\r",
       "     |██████████████████████████████▍ | 6.5 MB 35.6 MB/s eta 0:00:01\r",
       "     |██████████████████████████████▌ | 6.5 MB 35.6 MB/s eta 0:00:01\r",
       "     |██████████████████████████████▌ | 6.5 MB 35.6 MB/s eta 0:00:01\r",
       "     |██████████████████████████████▋ | 6.5 MB 35.6 MB/s eta 0:00:01\r",
       "     |██████████████████████████████▋ | 6.5 MB 35.6 MB/s eta 0:00:01\r",
       "     |██████████████████████████████▊ | 6.5 MB 35.6 MB/s eta 0:00:01\r",
       "     |██████████████████████████████▊ | 6.6 MB 35.6 MB/s eta 0:00:01\r",
       "     |██████████████████████████████▊ | 6.6 MB 35.6 MB/s eta 0:00:01\r",
       "     |██████████████████████████████▉ | 6.6 MB 35.6 MB/s eta 0:00:01\r",
       "     |██████████████████████████████▉ | 6.6 MB 35.6 MB/s eta 0:00:01\r",
       "     |███████████████████████████████ | 6.6 MB 35.6 MB/s eta 0:00:01\r",
       "     |███████████████████████████████ | 6.6 MB 35.6 MB/s eta 0:00:01\r",
       "     |███████████████████████████████ | 6.6 MB 35.6 MB/s eta 0:00:01\r",
       "     |███████████████████████████████ | 6.6 MB 35.6 MB/s eta 0:00:01\r",
       "     |███████████████████████████████ | 6.6 MB 35.6 MB/s eta 0:00:01\r",
       "     |███████████████████████████████▏| 6.6 MB 35.6 MB/s eta 0:00:01\r",
       "     |███████████████████████████████▏| 6.7 MB 35.6 MB/s eta 0:00:01\r",
       "     |███████████████████████████████▎| 6.7 MB 35.6 MB/s eta 0:00:01\r",
       "     |███████████████████████████████▎| 6.7 MB 35.6 MB/s eta 0:00:01\r",
       "     |███████████████████████████████▍| 6.7 MB 35.6 MB/s eta 0:00:01\r",
       "     |███████████████████████████████▍| 6.7 MB 35.6 MB/s eta 0:00:01\r",
       "     |███████████████████████████████▌| 6.7 MB 35.6 MB/s eta 0:00:01\r",
       "     |███████████████████████████████▌| 6.7 MB 35.6 MB/s eta 0:00:01\r",
       "     |███████████████████████████████▌| 6.7 MB 35.6 MB/s eta 0:00:01\r",
       "     |███████████████████████████████▋| 6.7 MB 35.6 MB/s eta 0:00:01\r",
       "     |███████████████████████████████▋| 6.7 MB 35.6 MB/s eta 0:00:01\r",
       "     |███████████████████████████████▊| 6.8 MB 35.6 MB/s eta 0:00:01\r",
       "     |███████████████████████████████▊| 6.8 MB 35.6 MB/s eta 0:00:01\r",
       "     |███████████████████████████████▉| 6.8 MB 35.6 MB/s eta 0:00:01\r",
       "     |███████████████████████████████▉| 6.8 MB 35.6 MB/s eta 0:00:01\r",
       "     |███████████████████████████████▉| 6.8 MB 35.6 MB/s eta 0:00:01\r",
       "     |████████████████████████████████| 6.8 MB 35.6 MB/s eta 0:00:01\r",
       "     |████████████████████████████████| 6.8 MB 35.6 MB/s eta 0:00:01\r",
       "     |████████████████████████████████| 6.8 MB 35.6 MB/s \r\n",
       "Requirement already satisfied, skipping upgrade: numpy&gt;=1.13.3 in /databricks/conda/envs/databricks-ml/lib/python3.7/site-packages (from imbalanced-learn) (1.18.1)\r\n",
       "Requirement already satisfied, skipping upgrade: joblib&gt;=0.11 in /databricks/conda/envs/databricks-ml/lib/python3.7/site-packages (from imbalanced-learn) (0.14.1)\r\n",
       "Collecting threadpoolctl&gt;=2.0.0\r\n",
       "  Downloading threadpoolctl-2.1.0-py3-none-any.whl (12 kB)\r\n",
       "Installing collected packages: threadpoolctl, scikit-learn, imbalanced-learn\r\n",
       "  Attempting uninstall: scikit-learn\r\n",
       "    Found existing installation: scikit-learn 0.22.1\r\n",
       "    Uninstalling scikit-learn-0.22.1:\r\n",
       "      Successfully uninstalled scikit-learn-0.22.1\r\n",
       "Successfully installed imbalanced-learn-0.7.0 scikit-learn-0.23.2 threadpoolctl-2.1.0\r\n",
       "</div>"
      ]
     },
     "metadata": {
      "application/vnd.databricks.v1+output": {
       "addedWidgets": {},
       "arguments": {},
       "data": "<div class=\"ansiout\">Collecting imbalanced-learn\r\n  Downloading imbalanced_learn-0.7.0-py3-none-any.whl (167 kB)\r\n\r     |██                              | 10 kB 38.3 MB/s eta 0:00:01\r     |████                            | 20 kB 42.7 MB/s eta 0:00:01\r     |█████▉                          | 30 kB 49.5 MB/s eta 0:00:01\r     |███████▉                        | 40 kB 53.2 MB/s eta 0:00:01\r     |█████████▉                      | 51 kB 44.2 MB/s eta 0:00:01\r     |███████████▊                    | 61 kB 46.7 MB/s eta 0:00:01\r     |█████████████▊                  | 71 kB 33.0 MB/s eta 0:00:01\r     |███████████████▊                | 81 kB 34.5 MB/s eta 0:00:01\r     |█████████████████▋              | 92 kB 33.4 MB/s eta 0:00:01\r     |███████████████████▋            | 102 kB 33.9 MB/s eta 0:00:01\r     |█████████████████████▋          | 112 kB 33.9 MB/s eta 0:00:01\r     |███████████████████████▌        | 122 kB 33.9 MB/s eta 0:00:01\r     |█████████████████████████▌      | 133 kB 33.9 MB/s eta 0:00:01\r     |███████████████████████████▌    | 143 kB 33.9 MB/s eta 0:00:01\r     |█████████████████████████████▍  | 153 kB 33.9 MB/s eta 0:00:01\r     |███████████████████████████████▍| 163 kB 33.9 MB/s eta 0:00:01\r     |████████████████████████████████| 167 kB 33.9 MB/s \r\nRequirement already satisfied, skipping upgrade: scipy&gt;=0.19.1 in /databricks/conda/envs/databricks-ml/lib/python3.7/site-packages (from imbalanced-learn) (1.4.1)\r\nCollecting scikit-learn&gt;=0.23\r\n  Downloading scikit_learn-0.23.2-cp37-cp37m-manylinux1_x86_64.whl (6.8 MB)\r\n\r     |                                | 10 kB 7.8 MB/s eta 0:00:01\r     |                                | 20 kB 13.9 MB/s eta 0:00:01\r     |▏                               | 30 kB 17.3 MB/s eta 0:00:01\r     |▏                               | 40 kB 21.6 MB/s eta 0:00:01\r     |▎                               | 51 kB 25.3 MB/s eta 0:00:01\r     |▎                               | 61 kB 28.7 MB/s eta 0:00:01\r     |▍                               | 71 kB 28.8 MB/s eta 0:00:01\r     |▍                               | 81 kB 31.3 MB/s eta 0:00:01\r     |▍                               | 92 kB 33.4 MB/s eta 0:00:01\r     |▌                               | 102 kB 35.6 MB/s eta 0:00:01\r     |▌                               | 112 kB 35.6 MB/s eta 0:00:01\r     |▋                               | 122 kB 35.6 MB/s eta 0:00:01\r     |▋                               | 133 kB 35.6 MB/s eta 0:00:01\r     |▊                               | 143 kB 35.6 MB/s eta 0:00:01\r     |▊                               | 153 kB 35.6 MB/s eta 0:00:01\r     |▊                               | 163 kB 35.6 MB/s eta 0:00:01\r     |▉                               | 174 kB 35.6 MB/s eta 0:00:01\r     |▉                               | 184 kB 35.6 MB/s eta 0:00:01\r     |█                               | 194 kB 35.6 MB/s eta 0:00:01\r     |█                               | 204 kB 35.6 MB/s eta 0:00:01\r     |█                               | 215 kB 35.6 MB/s eta 0:00:01\r     |█                               | 225 kB 35.6 MB/s eta 0:00:01\r     |█                               | 235 kB 35.6 MB/s eta 0:00:01\r     |█▏                              | 245 kB 35.6 MB/s eta 0:00:01\r     |█▏                              | 256 kB 35.6 MB/s eta 0:00:01\r     |█▎                              | 266 kB 35.6 MB/s eta 0:00:01\r     |█▎                              | 276 kB 35.6 MB/s eta 0:00:01\r     |█▍                              | 286 kB 35.6 MB/s eta 0:00:01\r     |█▍                              | 296 kB 35.6 MB/s eta 0:00:01\r     |█▍                              | 307 kB 35.6 MB/s eta 0:00:01\r     |█▌                              | 317 kB 35.6 MB/s eta 0:00:01\r     |█▌                              | 327 kB 35.6 MB/s eta 0:00:01\r     |█▋                              | 337 kB 35.6 MB/s eta 0:00:01\r     |█▋                              | 348 kB 35.6 MB/s eta 0:00:01\r     |█▊                              | 358 kB 35.6 MB/s eta 0:00:01\r     |█▊                              | 368 kB 35.6 MB/s eta 0:00:01\r     |█▊                              | 378 kB 35.6 MB/s eta 0:00:01\r     |█▉                              | 389 kB 35.6 MB/s eta 0:00:01\r     |█▉                              | 399 kB 35.6 MB/s eta 0:00:01\r     |██                              | 409 kB 35.6 MB/s eta 0:00:01\r     |██                              | 419 kB 35.6 MB/s eta 0:00:01\r     |██                              | 430 kB 35.6 MB/s eta 0:00:01\r     |██                              | 440 kB 35.6 MB/s eta 0:00:01\r     |██▏                             | 450 kB 35.6 MB/s eta 0:00:01\r     |██▏                             | 460 kB 35.6 MB/s eta 0:00:01\r     |██▏                             | 471 kB 35.6 MB/s eta 0:00:01\r     |██▎                             | 481 kB 35.6 MB/s eta 0:00:01\r     |██▎                             | 491 kB 35.6 MB/s eta 0:00:01\r     |██▍                             | 501 kB 35.6 MB/s eta 0:00:01\r     |██▍                             | 512 kB 35.6 MB/s eta 0:00:01\r     |██▌                             | 522 kB 35.6 MB/s eta 0:00:01\r     |██▌                             | 532 kB 35.6 MB/s eta 0:00:01\r     |██▌                             | 542 kB 35.6 MB/s eta 0:00:01\r     |██▋                             | 552 kB 35.6 MB/s eta 0:00:01\r     |██▋                             | 563 kB 35.6 MB/s eta 0:00:01\r     |██▊                             | 573 kB 35.6 MB/s eta 0:00:01\r     |██▊                             | 583 kB 35.6 MB/s eta 0:00:01\r     |██▉                             | 593 kB 35.6 MB/s eta 0:00:01\r     |██▉                             | 604 kB 35.6 MB/s eta 0:00:01\r     |██▉                             | 614 kB 35.6 MB/s eta 0:00:01\r     |███                             | 624 kB 35.6 MB/s eta 0:00:01\r     |███                             | 634 kB 35.6 MB/s eta 0:00:01\r     |███                             | 645 kB 35.6 MB/s eta 0:00:01\r     |███                             | 655 kB 35.6 MB/s eta 0:00:01\r     |███▏                            | 665 kB 35.6 MB/s eta 0:00:01\r     |███▏                            | 675 kB 35.6 MB/s eta 0:00:01\r     |███▏                            | 686 kB 35.6 MB/s eta 0:00:01\r     |███▎                            | 696 kB 35.6 MB/s eta 0:00:01\r     |███▎                            | 706 kB 35.6 MB/s eta 0:00:01\r     |███▍                            | 716 kB 35.6 MB/s eta 0:00:01\r     |███▍                            | 727 kB 35.6 MB/s eta 0:00:01\r     |███▌                            | 737 kB 35.6 MB/s eta 0:00:01\r     |███▌                            | 747 kB 35.6 MB/s eta 0:00:01\r     |███▌                            | 757 kB 35.6 MB/s eta 0:00:01\r     |███▋                            | 768 kB 35.6 MB/s eta 0:00:01\r     |███▋                            | 778 kB 35.6 MB/s eta 0:00:01\r     |███▊                            | 788 kB 35.6 MB/s eta 0:00:01\r     |███▊                            | 798 kB 35.6 MB/s eta 0:00:01\r     |███▉                            | 808 kB 35.6 MB/s eta 0:00:01\r     |███▉                            | 819 kB 35.6 MB/s eta 0:00:01\r     |███▉                            | 829 kB 35.6 MB/s eta 0:00:01\r     |████                            | 839 kB 35.6 MB/s eta 0:00:01\r     |████                            | 849 kB 35.6 MB/s eta 0:00:01\r     |████                            | 860 kB 35.6 MB/s eta 0:00:01\r     |████                            | 870 kB 35.6 MB/s eta 0:00:01\r     |████▏                           | 880 kB 35.6 MB/s eta 0:00:01\r     |████▏                           | 890 kB 35.6 MB/s eta 0:00:01\r     |████▎                           | 901 kB 35.6 MB/s eta 0:00:01\r     |████▎                           | 911 kB 35.6 MB/s eta 0:00:01\r     |████▎                           | 921 kB 35.6 MB/s eta 0:00:01\r     |████▍                           | 931 kB 35.6 MB/s eta 0:00:01\r     |████▍                           | 942 kB 35.6 MB/s eta 0:00:01\r     |████▌                           | 952 kB 35.6 MB/s eta 0:00:01\r     |████▌                           | 962 kB 35.6 MB/s eta 0:00:01\r     |████▋                           | 972 kB 35.6 MB/s eta 0:00:01\r     |████▋                           | 983 kB 35.6 MB/s eta 0:00:01\r     |████▋                           | 993 kB 35.6 MB/s eta 0:00:01\r     |████▊                           | 1.0 MB 35.6 MB/s eta 0:00:01\r     |████▊                           | 1.0 MB 35.6 MB/s eta 0:00:01\r     |████▉                           | 1.0 MB 35.6 MB/s eta 0:00:01\r     |████▉                           | 1.0 MB 35.6 MB/s eta 0:00:01\r     |█████                           | 1.0 MB 35.6 MB/s eta 0:00:01\r     |█████                           | 1.1 MB 35.6 MB/s eta 0:00:01\r     |█████                           | 1.1 MB 35.6 MB/s eta 0:00:01\r     |█████                           | 1.1 MB 35.6 MB/s eta 0:00:01\r     |█████                           | 1.1 MB 35.6 MB/s eta 0:00:01\r     |█████▏                          | 1.1 MB 35.6 MB/s eta 0:00:01\r     |█████▏                          | 1.1 MB 35.6 MB/s eta 0:00:01\r     |█████▎                          | 1.1 MB 35.6 MB/s eta 0:00:01\r     |█████▎                          | 1.1 MB 35.6 MB/s eta 0:00:01\r     |█████▎                          | 1.1 MB 35.6 MB/s eta 0:00:01\r     |█████▍                          | 1.1 MB 35.6 MB/s eta 0:00:01\r     |█████▍                          | 1.2 MB 35.6 MB/s eta 0:00:01\r     |█████▌                          | 1.2 MB 35.6 MB/s eta 0:00:01\r     |█████▌                          | 1.2 MB 35.6 MB/s eta 0:00:01\r     |█████▋                          | 1.2 MB 35.6 MB/s eta 0:00:01\r     |█████▋                          | 1.2 MB 35.6 MB/s eta 0:00:01\r     |█████▋                          | 1.2 MB 35.6 MB/s eta 0:00:01\r     |█████▊                          | 1.2 MB 35.6 MB/s eta 0:00:01\r     |█████▊                          | 1.2 MB 35.6 MB/s eta 0:00:01\r     |█████▉                          | 1.2 MB 35.6 MB/s eta 0:00:01\r     |█████▉                          | 1.2 MB 35.6 MB/s eta 0:00:01\r     |██████                          | 1.3 MB 35.6 MB/s eta 0:00:01\r     |██████                          | 1.3 MB 35.6 MB/s eta 0:00:01\r     |██████                          | 1.3 MB 35.6 MB/s eta 0:00:01\r     |██████                          | 1.3 MB 35.6 MB/s eta 0:00:01\r     |██████                          | 1.3 MB 35.6 MB/s eta 0:00:01\r     |██████▏                         | 1.3 MB 35.6 MB/s eta 0:00:01\r     |██████▏                         | 1.3 MB 35.6 MB/s eta 0:00:01\r     |██████▎                         | 1.3 MB 35.6 MB/s eta 0:00:01\r     |██████▎                         | 1.3 MB 35.6 MB/s eta 0:00:01\r     |██████▍                         | 1.4 MB 35.6 MB/s eta 0:00:01\r     |██████▍                         | 1.4 MB 35.6 MB/s eta 0:00:01\r     |██████▍                         | 1.4 MB 35.6 MB/s eta 0:00:01\r     |██████▌                         | 1.4 MB 35.6 MB/s eta 0:00:01\r     |██████▌                         | 1.4 MB 35.6 MB/s eta 0:00:01\r     |██████▋                         | 1.4 MB 35.6 MB/s eta 0:00:01\r     |██████▋                         | 1.4 MB 35.6 MB/s eta 0:00:01\r     |██████▊                         | 1.4 MB 35.6 MB/s eta 0:00:01\r     |██████▊                         | 1.4 MB 35.6 MB/s eta 0:00:01\r     |██████▊                         | 1.4 MB 35.6 MB/s eta 0:00:01\r     |██████▉                         | 1.5 MB 35.6 MB/s eta 0:00:01\r     |██████▉                         | 1.5 MB 35.6 MB/s eta 0:00:01\r     |███████                         | 1.5 MB 35.6 MB/s eta 0:00:01\r     |███████                         | 1.5 MB 35.6 MB/s eta 0:00:01\r     |███████                         | 1.5 MB 35.6 MB/s eta 0:00:01\r     |███████                         | 1.5 MB 35.6 MB/s eta 0:00:01\r     |███████                         | 1.5 MB 35.6 MB/s eta 0:00:01\r     |███████▏                        | 1.5 MB 35.6 MB/s eta 0:00:01\r     |███████▏                        | 1.5 MB 35.6 MB/s eta 0:00:01\r     |███████▎                        | 1.5 MB 35.6 MB/s eta 0:00:01\r     |███████▎                        | 1.6 MB 35.6 MB/s eta 0:00:01\r     |███████▍                        | 1.6 MB 35.6 MB/s eta 0:00:01\r     |███████▍                        | 1.6 MB 35.6 MB/s eta 0:00:01\r     |███████▍                        | 1.6 MB 35.6 MB/s eta 0:00:01\r     |███████▌                        | 1.6 MB 35.6 MB/s eta 0:00:01\r     |███████▌                        | 1.6 MB 35.6 MB/s eta 0:00:01\r     |███████▋                        | 1.6 MB 35.6 MB/s eta 0:00:01\r     |███████▋                        | 1.6 MB 35.6 MB/s eta 0:00:01\r     |███████▊                        | 1.6 MB 35.6 MB/s eta 0:00:01\r     |███████▊                        | 1.6 MB 35.6 MB/s eta 0:00:01\r     |███████▊                        | 1.7 MB 35.6 MB/s eta 0:00:01\r     |███████▉                        | 1.7 MB 35.6 MB/s eta 0:00:01\r     |███████▉                        | 1.7 MB 35.6 MB/s eta 0:00:01\r     |████████                        | 1.7 MB 35.6 MB/s eta 0:00:01\r     |████████                        | 1.7 MB 35.6 MB/s eta 0:00:01\r     |████████                        | 1.7 MB 35.6 MB/s eta 0:00:01\r     |████████                        | 1.7 MB 35.6 MB/s eta 0:00:01\r     |████████▏                       | 1.7 MB 35.6 MB/s eta 0:00:01\r     |████████▏                       | 1.7 MB 35.6 MB/s eta 0:00:01\r     |████████▏                       | 1.8 MB 35.6 MB/s eta 0:00:01\r     |████████▎                       | 1.8 MB 35.6 MB/s eta 0:00:01\r     |████████▎                       | 1.8 MB 35.6 MB/s eta 0:00:01\r     |████████▍                       | 1.8 MB 35.6 MB/s eta 0:00:01\r     |████████▍                       | 1.8 MB 35.6 MB/s eta 0:00:01\r     |████████▌                       | 1.8 MB 35.6 MB/s eta 0:00:01\r     |████████▌                       | 1.8 MB 35.6 MB/s eta 0:00:01\r     |████████▌                       | 1.8 MB 35.6 MB/s eta 0:00:01\r     |████████▋                       | 1.8 MB 35.6 MB/s eta 0:00:01\r     |████████▋                       | 1.8 MB 35.6 MB/s eta 0:00:01\r     |████████▊                       | 1.9 MB 35.6 MB/s eta 0:00:01\r     |████████▊                       | 1.9 MB 35.6 MB/s eta 0:00:01\r     |████████▉                       | 1.9 MB 35.6 MB/s eta 0:00:01\r     |████████▉                       | 1.9 MB 35.6 MB/s eta 0:00:01\r     |████████▉                       | 1.9 MB 35.6 MB/s eta 0:00:01\r     |█████████                       | 1.9 MB 35.6 MB/s eta 0:00:01\r     |█████████                       | 1.9 MB 35.6 MB/s eta 0:00:01\r     |█████████                       | 1.9 MB 35.6 MB/s eta 0:00:01\r     |█████████                       | 1.9 MB 35.6 MB/s eta 0:00:01\r     |█████████▏                      | 1.9 MB 35.6 MB/s eta 0:00:01\r     |█████████▏                      | 2.0 MB 35.6 MB/s eta 0:00:01\r     |█████████▏                      | 2.0 MB 35.6 MB/s eta 0:00:01\r     |█████████▎                      | 2.0 MB 35.6 MB/s eta 0:00:01\r     |█████████▎                      | 2.0 MB 35.6 MB/s eta 0:00:01\r     |█████████▍                      | 2.0 MB 35.6 MB/s eta 0:00:01\r     |█████████▍                      | 2.0 MB 35.6 MB/s eta 0:00:01\r     |█████████▌                      | 2.0 MB 35.6 MB/s eta 0:00:01\r     |█████████▌                      | 2.0 MB 35.6 MB/s eta 0:00:01\r     |█████████▌                      | 2.0 MB 35.6 MB/s eta 0:00:01\r     |█████████▋                      | 2.0 MB 35.6 MB/s eta 0:00:01\r     |█████████▋                      | 2.1 MB 35.6 MB/s eta 0:00:01\r     |█████████▊                      | 2.1 MB 35.6 MB/s eta 0:00:01\r     |█████████▊                      | 2.1 MB 35.6 MB/s eta 0:00:01\r     |█████████▉                      | 2.1 MB 35.6 MB/s eta 0:00:01\r     |█████████▉                      | 2.1 MB 35.6 MB/s eta 0:00:01\r     |██████████                      | 2.1 MB 35.6 MB/s eta 0:00:01\r     |██████████                      | 2.1 MB 35.6 MB/s eta 0:00:01\r     |██████████                      | 2.1 MB 35.6 MB/s eta 0:00:01\r     |██████████                      | 2.1 MB 35.6 MB/s eta 0:00:01\r     |██████████                      | 2.2 MB 35.6 MB/s eta 0:00:01\r     |██████████▏                     | 2.2 MB 35.6 MB/s eta 0:00:01\r     |██████████▏                     | 2.2 MB 35.6 MB/s eta 0:00:01\r     |██████████▎                     | 2.2 MB 35.6 MB/s eta 0:00:01\r     |██████████▎                     | 2.2 MB 35.6 MB/s eta 0:00:01\r     |██████████▎                     | 2.2 MB 35.6 MB/s eta 0:00:01\r     |██████████▍                     | 2.2 MB 35.6 MB/s eta 0:00:01\r     |██████████▍                     | 2.2 MB 35.6 MB/s eta 0:00:01\r     |██████████▌                     | 2.2 MB 35.6 MB/s eta 0:00:01\r     |██████████▌                     | 2.2 MB 35.6 MB/s eta 0:00:01\r     |██████████▋                     | 2.3 MB 35.6 MB/s eta 0:00:01\r     |██████████▋                     | 2.3 MB 35.6 MB/s eta 0:00:01\r     |██████████▋                     | 2.3 MB 35.6 MB/s eta 0:00:01\r     |██████████▊                     | 2.3 MB 35.6 MB/s eta 0:00:01\r     |██████████▊                     | 2.3 MB 35.6 MB/s eta 0:00:01\r     |██████████▉                     | 2.3 MB 35.6 MB/s eta 0:00:01\r     |██████████▉                     | 2.3 MB 35.6 MB/s eta 0:00:01\r     |███████████                     | 2.3 MB 35.6 MB/s eta 0:00:01\r     |███████████                     | 2.3 MB 35.6 MB/s eta 0:00:01\r     |███████████                     | 2.3 MB 35.6 MB/s eta 0:00:01\r     |███████████                     | 2.4 MB 35.6 MB/s eta 0:00:01\r     |███████████                     | 2.4 MB 35.6 MB/s eta 0:00:01\r     |███████████▏                    | 2.4 MB 35.6 MB/s eta 0:00:01\r     |███████████▏                    | 2.4 MB 35.6 MB/s eta 0:00:01\r     |███████████▎                    | 2.4 MB 35.6 MB/s eta 0:00:01\r     |███████████▎                    | 2.4 MB 35.6 MB/s eta 0:00:01\r     |███████████▎                    | 2.4 MB 35.6 MB/s eta 0:00:01\r     |███████████▍                    | 2.4 MB 35.6 MB/s eta 0:00:01\r     |███████████▍                    | 2.4 MB 35.6 MB/s eta 0:00:01\r     |███████████▌                    | 2.4 MB 35.6 MB/s eta 0:00:01\r     |███████████▌                    | 2.5 MB 35.6 MB/s eta 0:00:01\r     |███████████▋                    | 2.5 MB 35.6 MB/s eta 0:00:01\r     |███████████▋                    | 2.5 MB 35.6 MB/s eta 0:00:01\r     |███████████▋                    | 2.5 MB 35.6 MB/s eta 0:00:01\r     |███████████▊                    | 2.5 MB 35.6 MB/s eta 0:00:01\r     |███████████▊                    | 2.5 MB 35.6 MB/s eta 0:00:01\r     |███████████▉                    | 2.5 MB 35.6 MB/s eta 0:00:01\r     |███████████▉                    | 2.5 MB 35.6 MB/s eta 0:00:01\r     |████████████                    | 2.5 MB 35.6 MB/s eta 0:00:01\r     |████████████                    | 2.5 MB 35.6 MB/s eta 0:00:01\r     |████████████                    | 2.6 MB 35.6 MB/s eta 0:00:01\r     |████████████                    | 2.6 MB 35.6 MB/s eta 0:00:01\r     |████████████                    | 2.6 MB 35.6 MB/s eta 0:00:01\r     |████████████▏                   | 2.6 MB 35.6 MB/s eta 0:00:01\r     |████████████▏                   | 2.6 MB 35.6 MB/s eta 0:00:01\r     |████████████▎                   | 2.6 MB 35.6 MB/s eta 0:00:01\r     |████████████▎                   | 2.6 MB 35.6 MB/s eta 0:00:01\r     |████████████▍                   | 2.6 MB 35.6 MB/s eta 0:00:01\r     |████████████▍                   | 2.6 MB 35.6 MB/s eta 0:00:01\r     |████████████▍                   | 2.7 MB 35.6 MB/s eta 0:00:01\r     |████████████▌                   | 2.7 MB 35.6 MB/s eta 0:00:01\r     |████████████▌                   | 2.7 MB 35.6 MB/s eta 0:00:01\r     |████████████▋                   | 2.7 MB 35.6 MB/s eta 0:00:01\r     |████████████▋                   | 2.7 MB 35.6 MB/s eta 0:00:01\r     |████████████▊                   | 2.7 MB 35.6 MB/s eta 0:00:01\r     |████████████▊                   | 2.7 MB 35.6 MB/s eta 0:00:01\r     |████████████▊                   | 2.7 MB 35.6 MB/s eta 0:00:01\r     |████████████▉                   | 2.7 MB 35.6 MB/s eta 0:00:01\r     |████████████▉                   | 2.7 MB 35.6 MB/s eta 0:00:01\r     |█████████████                   | 2.8 MB 35.6 MB/s eta 0:00:01\r     |█████████████                   | 2.8 MB 35.6 MB/s eta 0:00:01\r     |█████████████                   | 2.8 MB 35.6 MB/s eta 0:00:01\r     |█████████████                   | 2.8 MB 35.6 MB/s eta 0:00:01\r     |█████████████                   | 2.8 MB 35.6 MB/s eta 0:00:01\r     |█████████████▏                  | 2.8 MB 35.6 MB/s eta 0:00:01\r     |█████████████▏                  | 2.8 MB 35.6 MB/s eta 0:00:01\r     |█████████████▎                  | 2.8 MB 35.6 MB/s eta 0:00:01\r     |█████████████▎                  | 2.8 MB 35.6 MB/s eta 0:00:01\r     |█████████████▍                  | 2.8 MB 35.6 MB/s eta 0:00:01\r     |█████████████▍                  | 2.9 MB 35.6 MB/s eta 0:00:01\r     |█████████████▍                  | 2.9 MB 35.6 MB/s eta 0:00:01\r     |█████████████▌                  | 2.9 MB 35.6 MB/s eta 0:00:01\r     |█████████████▌                  | 2.9 MB 35.6 MB/s eta 0:00:01\r     |█████████████▋                  | 2.9 MB 35.6 MB/s eta 0:00:01\r     |█████████████▋                  | 2.9 MB 35.6 MB/s eta 0:00:01\r     |█████████████▊                  | 2.9 MB 35.6 MB/s eta 0:00:01\r     |█████████████▊                  | 2.9 MB 35.6 MB/s eta 0:00:01\r     |█████████████▉                  | 2.9 MB 35.6 MB/s eta 0:00:01\r     |█████████████▉                  | 2.9 MB 35.6 MB/s eta 0:00:01\r     |█████████████▉                  | 3.0 MB 35.6 MB/s eta 0:00:01\r     |██████████████                  | 3.0 MB 35.6 MB/s eta 0:00:01\r     |██████████████                  | 3.0 MB 35.6 MB/s eta 0:00:01\r     |██████████████                  | 3.0 MB 35.6 MB/s eta 0:00:01\r     |██████████████                  | 3.0 MB 35.6 MB/s eta 0:00:01\r     |██████████████▏                 | 3.0 MB 35.6 MB/s eta 0:00:01\r     |██████████████▏                 | 3.0 MB 35.6 MB/s eta 0:00:01\r     |██████████████▏                 | 3.0 MB 35.6 MB/s eta 0:00:01\r     |██████████████▎                 | 3.0 MB 35.6 MB/s eta 0:00:01\r     |██████████████▎                 | 3.1 MB 35.6 MB/s eta 0:00:01\r     |██████████████▍                 | 3.1 MB 35.6 MB/s eta 0:00:01\r     |██████████████▍                 | 3.1 MB 35.6 MB/s eta 0:00:01\r     |██████████████▌                 | 3.1 MB 35.6 MB/s eta 0:00:01\r     |██████████████▌                 | 3.1 MB 35.6 MB/s eta 0:00:01\r     |██████████████▌                 | 3.1 MB 35.6 MB/s eta 0:00:01\r     |██████████████▋                 | 3.1 MB 35.6 MB/s eta 0:00:01\r     |██████████████▋                 | 3.1 MB 35.6 MB/s eta 0:00:01\r     |██████████████▊                 | 3.1 MB 35.6 MB/s eta 0:00:01\r     |██████████████▊                 | 3.1 MB 35.6 MB/s eta 0:00:01\r     |██████████████▉                 | 3.2 MB 35.6 MB/s eta 0:00:01\r     |██████████████▉                 | 3.2 MB 35.6 MB/s eta 0:00:01\r     |██████████████▉                 | 3.2 MB 35.6 MB/s eta 0:00:01\r     |███████████████                 | 3.2 MB 35.6 MB/s eta 0:00:01\r     |███████████████                 | 3.2 MB 35.6 MB/s eta 0:00:01\r     |███████████████                 | 3.2 MB 35.6 MB/s eta 0:00:01\r     |███████████████                 | 3.2 MB 35.6 MB/s eta 0:00:01\r     |███████████████▏                | 3.2 MB 35.6 MB/s eta 0:00:01\r     |███████████████▏                | 3.2 MB 35.6 MB/s eta 0:00:01\r     |███████████████▏                | 3.2 MB 35.6 MB/s eta 0:00:01\r     |███████████████▎                | 3.3 MB 35.6 MB/s eta 0:00:01\r     |███████████████▎                | 3.3 MB 35.6 MB/s eta 0:00:01\r     |███████████████▍                | 3.3 MB 35.6 MB/s eta 0:00:01\r     |███████████████▍                | 3.3 MB 35.6 MB/s eta 0:00:01\r     |███████████████▌                | 3.3 MB 35.6 MB/s eta 0:00:01\r     |███████████████▌                | 3.3 MB 35.6 MB/s eta 0:00:01\r     |███████████████▌                | 3.3 MB 35.6 MB/s eta 0:00:01\r     |███████████████▋                | 3.3 MB 35.6 MB/s eta 0:00:01\r     |███████████████▋                | 3.3 MB 35.6 MB/s eta 0:00:01\r     |███████████████▊                | 3.3 MB 35.6 MB/s eta 0:00:01\r     |███████████████▊                | 3.4 MB 35.6 MB/s eta 0:00:01\r     |███████████████▉                | 3.4 MB 35.6 MB/s eta 0:00:01\r     |███████████████▉                | 3.4 MB 35.6 MB/s eta 0:00:01\r     |████████████████                | 3.4 MB 35.6 MB/s eta 0:00:01\r     |████████████████                | 3.4 MB 35.6 MB/s eta 0:00:01\r     |████████████████                | 3.4 MB 35.6 MB/s eta 0:00:01\r     |████████████████                | 3.4 MB 35.6 MB/s eta 0:00:01\r     |████████████████                | 3.4 MB 35.6 MB/s eta 0:00:01\r     |████████████████▏               | 3.4 MB 35.6 MB/s eta 0:00:01\r     |████████████████▏               | 3.5 MB 35.6 MB/s eta 0:00:01\r     |████████████████▎               | 3.5 MB 35.6 MB/s eta 0:00:01\r     |████████████████▎               | 3.5 MB 35.6 MB/s eta 0:00:01\r     |████████████████▎               | 3.5 MB 35.6 MB/s eta 0:00:01\r     |████████████████▍               | 3.5 MB 35.6 MB/s eta 0:00:01\r     |████████████████▍               | 3.5 MB 35.6 MB/s eta 0:00:01\r     |████████████████▌               | 3.5 MB 35.6 MB/s eta 0:00:01\r     |████████████████▌               | 3.5 MB 35.6 MB/s eta 0:00:01\r     |████████████████▋               | 3.5 MB 35.6 MB/s eta 0:00:01\r     |████████████████▋               | 3.5 MB 35.6 MB/s eta 0:00:01\r     |████████████████▋               | 3.6 MB 35.6 MB/s eta 0:00:01\r     |████████████████▊               | 3.6 MB 35.6 MB/s eta 0:00:01\r     |████████████████▊               | 3.6 MB 35.6 MB/s eta 0:00:01\r     |████████████████▉               | 3.6 MB 35.6 MB/s eta 0:00:01\r     |████████████████▉               | 3.6 MB 35.6 MB/s eta 0:00:01\r     |█████████████████               | 3.6 MB 35.6 MB/s eta 0:00:01\r     |█████████████████               | 3.6 MB 35.6 MB/s eta 0:00:01\r     |█████████████████               | 3.6 MB 35.6 MB/s eta 0:00:01\r     |█████████████████               | 3.6 MB 35.6 MB/s eta 0:00:01\r     |█████████████████               | 3.6 MB 35.6 MB/s eta 0:00:01\r     |█████████████████▏              | 3.7 MB 35.6 MB/s eta 0:00:01\r     |█████████████████▏              | 3.7 MB 35.6 MB/s eta 0:00:01\r     |█████████████████▎              | 3.7 MB 35.6 MB/s eta 0:00:01\r     |█████████████████▎              | 3.7 MB 35.6 MB/s eta 0:00:01\r     |█████████████████▎              | 3.7 MB 35.6 MB/s eta 0:00:01\r     |█████████████████▍              | 3.7 MB 35.6 MB/s eta 0:00:01\r     |█████████████████▍              | 3.7 MB 35.6 MB/s eta 0:00:01\r     |█████████████████▌              | 3.7 MB 35.6 MB/s eta 0:00:01\r     |█████████████████▌              | 3.7 MB 35.6 MB/s eta 0:00:01\r     |█████████████████▋              | 3.7 MB 35.6 MB/s eta 0:00:01\r     |█████████████████▋              | 3.8 MB 35.6 MB/s eta 0:00:01\r     |█████████████████▊              | 3.8 MB 35.6 MB/s eta 0:00:01\r     |█████████████████▊              | 3.8 MB 35.6 MB/s eta 0:00:01\r     |█████████████████▊              | 3.8 MB 35.6 MB/s eta 0:00:01\r     |█████████████████▉              | 3.8 MB 35.6 MB/s eta 0:00:01\r     |█████████████████▉              | 3.8 MB 35.6 MB/s eta 0:00:01\r     |██████████████████              | 3.8 MB 35.6 MB/s eta 0:00:01\r     |██████████████████              | 3.8 MB 35.6 MB/s eta 0:00:01\r     |██████████████████              | 3.8 MB 35.6 MB/s eta 0:00:01\r     |██████████████████              | 3.9 MB 35.6 MB/s eta 0:00:01\r     |██████████████████              | 3.9 MB 35.6 MB/s eta 0:00:01\r     |██████████████████▏             | 3.9 MB 35.6 MB/s eta 0:00:01\r     |██████████████████▏             | 3.9 MB 35.6 MB/s eta 0:00:01\r     |██████████████████▎             | 3.9 MB 35.6 MB/s eta 0:00:01\r     |██████████████████▎             | 3.9 MB 35.6 MB/s eta 0:00:01\r     |██████████████████▍             | 3.9 MB 35.6 MB/s eta 0:00:01\r     |██████████████████▍             | 3.9 MB 35.6 MB/s eta 0:00:01\r     |██████████████████▍             | 3.9 MB 35.6 MB/s eta 0:00:01\r     |██████████████████▌             | 3.9 MB 35.6 MB/s eta 0:00:01\r     |██████████████████▌             | 4.0 MB 35.6 MB/s eta 0:00:01\r     |██████████████████▋             | 4.0 MB 35.6 MB/s eta 0:00:01\r     |██████████████████▋             | 4.0 MB 35.6 MB/s eta 0:00:01\r     |██████████████████▊             | 4.0 MB 35.6 MB/s eta 0:00:01\r     |██████████████████▊             | 4.0 MB 35.6 MB/s eta 0:00:01\r     |██████████████████▊             | 4.0 MB 35.6 MB/s eta 0:00:01\r     |██████████████████▉             | 4.0 MB 35.6 MB/s eta 0:00:01\r     |██████████████████▉             | 4.0 MB 35.6 MB/s eta 0:00:01\r     |███████████████████             | 4.0 MB 35.6 MB/s eta 0:00:01\r     |███████████████████             | 4.0 MB 35.6 MB/s eta 0:00:01\r     |███████████████████             | 4.1 MB 35.6 MB/s eta 0:00:01\r     |███████████████████             | 4.1 MB 35.6 MB/s eta 0:00:01\r     |███████████████████             | 4.1 MB 35.6 MB/s eta 0:00:01\r     |███████████████████▏            | 4.1 MB 35.6 MB/s eta 0:00:01\r     |███████████████████▏            | 4.1 MB 35.6 MB/s eta 0:00:01\r     |███████████████████▎            | 4.1 MB 35.6 MB/s eta 0:00:01\r     |███████████████████▎            | 4.1 MB 35.6 MB/s eta 0:00:01\r     |███████████████████▍            | 4.1 MB 35.6 MB/s eta 0:00:01\r     |███████████████████▍            | 4.1 MB 35.6 MB/s eta 0:00:01\r     |███████████████████▍            | 4.1 MB 35.6 MB/s eta 0:00:01\r     |███████████████████▌            | 4.2 MB 35.6 MB/s eta 0:00:01\r     |███████████████████▌            | 4.2 MB 35.6 MB/s eta 0:00:01\r     |███████████████████▋            | 4.2 MB 35.6 MB/s eta 0:00:01\r     |███████████████████▋            | 4.2 MB 35.6 MB/s eta 0:00:01\r     |███████████████████▊            | 4.2 MB 35.6 MB/s eta 0:00:01\r     |███████████████████▊            | 4.2 MB 35.6 MB/s eta 0:00:01\r     |███████████████████▉            | 4.2 MB 35.6 MB/s eta 0:00:01\r     |███████████████████▉            | 4.2 MB 35.6 MB/s eta 0:00:01\r     |███████████████████▉            | 4.2 MB 35.6 MB/s eta 0:00:01\r     |████████████████████            | 4.2 MB 35.6 MB/s eta 0:00:01\r     |████████████████████            | 4.3 MB 35.6 MB/s eta 0:00:01\r     |████████████████████            | 4.3 MB 35.6 MB/s eta 0:00:01\r     |████████████████████            | 4.3 MB 35.6 MB/s eta 0:00:01\r     |████████████████████▏           | 4.3 MB 35.6 MB/s eta 0:00:01\r     |████████████████████▏           | 4.3 MB 35.6 MB/s eta 0:00:01\r     |████████████████████▏           | 4.3 MB 35.6 MB/s eta 0:00:01\r     |████████████████████▎           | 4.3 MB 35.6 MB/s eta 0:00:01\r     |████████████████████▎           | 4.3 MB 35.6 MB/s eta 0:00:01\r     |████████████████████▍           | 4.3 MB 35.6 MB/s eta 0:00:01\r     |████████████████████▍           | 4.4 MB 35.6 MB/s eta 0:00:01\r     |████████████████████▌           | 4.4 MB 35.6 MB/s eta 0:00:01\r     |████████████████████▌           | 4.4 MB 35.6 MB/s eta 0:00:01\r     |████████████████████▌           | 4.4 MB 35.6 MB/s eta 0:00:01\r     |████████████████████▋           | 4.4 MB 35.6 MB/s eta 0:00:01\r     |████████████████████▋           | 4.4 MB 35.6 MB/s eta 0:00:01\r     |████████████████████▊           | 4.4 MB 35.6 MB/s eta 0:00:01\r     |████████████████████▊           | 4.4 MB 35.6 MB/s eta 0:00:01\r     |████████████████████▉           | 4.4 MB 35.6 MB/s eta 0:00:01\r     |████████████████████▉           | 4.4 MB 35.6 MB/s eta 0:00:01\r     |████████████████████▉           | 4.5 MB 35.6 MB/s eta 0:00:01\r     |█████████████████████           | 4.5 MB 35.6 MB/s eta 0:00:01\r     |█████████████████████           | 4.5 MB 35.6 MB/s eta 0:00:01\r     |█████████████████████           | 4.5 MB 35.6 MB/s eta 0:00:01\r     |█████████████████████           | 4.5 MB 35.6 MB/s eta 0:00:01\r     |█████████████████████▏          | 4.5 MB 35.6 MB/s eta 0:00:01\r     |█████████████████████▏          | 4.5 MB 35.6 MB/s eta 0:00:01\r     |█████████████████████▏          | 4.5 MB 35.6 MB/s eta 0:00:01\r     |█████████████████████▎          | 4.5 MB 35.6 MB/s eta 0:00:01\r     |█████████████████████▎          | 4.5 MB 35.6 MB/s eta 0:00:01\r     |█████████████████████▍          | 4.6 MB 35.6 MB/s eta 0:00:01\r     |█████████████████████▍          | 4.6 MB 35.6 MB/s eta 0:00:01\r     |█████████████████████▌          | 4.6 MB 35.6 MB/s eta 0:00:01\r     |█████████████████████▌          | 4.6 MB 35.6 MB/s eta 0:00:01\r     |█████████████████████▋          | 4.6 MB 35.6 MB/s eta 0:00:01\r     |█████████████████████▋          | 4.6 MB 35.6 MB/s eta 0:00:01\r     |█████████████████████▋          | 4.6 MB 35.6 MB/s eta 0:00:01\r     |█████████████████████▊          | 4.6 MB 35.6 MB/s eta 0:00:01\r     |█████████████████████▊          | 4.6 MB 35.6 MB/s eta 0:00:01\r     |█████████████████████▉          | 4.6 MB 35.6 MB/s eta 0:00:01\r     |█████████████████████▉          | 4.7 MB 35.6 MB/s eta 0:00:01\r     |██████████████████████          | 4.7 MB 35.6 MB/s eta 0:00:01\r     |██████████████████████          | 4.7 MB 35.6 MB/s eta 0:00:01\r     |██████████████████████          | 4.7 MB 35.6 MB/s eta 0:00:01\r     |██████████████████████          | 4.7 MB 35.6 MB/s eta 0:00:01\r     |██████████████████████          | 4.7 MB 35.6 MB/s eta 0:00:01\r     |██████████████████████▏         | 4.7 MB 35.6 MB/s eta 0:00:01\r     |██████████████████████▏         | 4.7 MB 35.6 MB/s eta 0:00:01\r     |██████████████████████▎         | 4.7 MB 35.6 MB/s eta 0:00:01\r     |██████████████████████▎         | 4.8 MB 35.6 MB/s eta 0:00:01\r     |██████████████████████▎         | 4.8 MB 35.6 MB/s eta 0:00:01\r     |██████████████████████▍         | 4.8 MB 35.6 MB/s eta 0:00:01\r     |██████████████████████▍         | 4.8 MB 35.6 MB/s eta 0:00:01\r     |██████████████████████▌         | 4.8 MB 35.6 MB/s eta 0:00:01\r     |██████████████████████▌         | 4.8 MB 35.6 MB/s eta 0:00:01\r     |██████████████████████▋         | 4.8 MB 35.6 MB/s eta 0:00:01\r     |██████████████████████▋         | 4.8 MB 35.6 MB/s eta 0:00:01\r     |██████████████████████▋         | 4.8 MB 35.6 MB/s eta 0:00:01\r     |██████████████████████▊         | 4.8 MB 35.6 MB/s eta 0:00:01\r     |██████████████████████▊         | 4.9 MB 35.6 MB/s eta 0:00:01\r     |██████████████████████▉         | 4.9 MB 35.6 MB/s eta 0:00:01\r     |██████████████████████▉         | 4.9 MB 35.6 MB/s eta 0:00:01\r     |███████████████████████         | 4.9 MB 35.6 MB/s eta 0:00:01\r     |███████████████████████         | 4.9 MB 35.6 MB/s eta 0:00:01\r     |███████████████████████         | 4.9 MB 35.6 MB/s eta 0:00:01\r     |███████████████████████         | 4.9 MB 35.6 MB/s eta 0:00:01\r     |███████████████████████         | 4.9 MB 35.6 MB/s eta 0:00:01\r     |███████████████████████▏        | 4.9 MB 35.6 MB/s eta 0:00:01\r     |███████████████████████▏        | 4.9 MB 35.6 MB/s eta 0:00:01\r     |███████████████████████▎        | 5.0 MB 35.6 MB/s eta 0:00:01\r     |███████████████████████▎        | 5.0 MB 35.6 MB/s eta 0:00:01\r     |███████████████████████▎        | 5.0 MB 35.6 MB/s eta 0:00:01\r     |███████████████████████▍        | 5.0 MB 35.6 MB/s eta 0:00:01\r     |███████████████████████▍        | 5.0 MB 35.6 MB/s eta 0:00:01\r     |███████████████████████▌        | 5.0 MB 35.6 MB/s eta 0:00:01\r     |███████████████████████▌        | 5.0 MB 35.6 MB/s eta 0:00:01\r     |███████████████████████▋        | 5.0 MB 35.6 MB/s eta 0:00:01\r     |███████████████████████▋        | 5.0 MB 35.6 MB/s eta 0:00:01\r     |███████████████████████▊        | 5.0 MB 35.6 MB/s eta 0:00:01\r     |███████████████████████▊        | 5.1 MB 35.6 MB/s eta 0:00:01\r     |███████████████████████▊        | 5.1 MB 35.6 MB/s eta 0:00:01\r     |███████████████████████▉        | 5.1 MB 35.6 MB/s eta 0:00:01\r     |███████████████████████▉        | 5.1 MB 35.6 MB/s eta 0:00:01\r     |████████████████████████        | 5.1 MB 35.6 MB/s eta 0:00:01\r     |████████████████████████        | 5.1 MB 35.6 MB/s eta 0:00:01\r     |████████████████████████        | 5.1 MB 35.6 MB/s eta 0:00:01\r     |████████████████████████        | 5.1 MB 35.6 MB/s eta 0:00:01\r     |████████████████████████        | 5.1 MB 35.6 MB/s eta 0:00:01\r     |████████████████████████▏       | 5.2 MB 35.6 MB/s eta 0:00:01\r     |████████████████████████▏       | 5.2 MB 35.6 MB/s eta 0:00:01\r     |████████████████████████▎       | 5.2 MB 35.6 MB/s eta 0:00:01\r     |████████████████████████▎       | 5.2 MB 35.6 MB/s eta 0:00:01\r     |████████████████████████▍       | 5.2 MB 35.6 MB/s eta 0:00:01\r     |████████████████████████▍       | 5.2 MB 35.6 MB/s eta 0:00:01\r     |████████████████████████▍       | 5.2 MB 35.6 MB/s eta 0:00:01\r     |████████████████████████▌       | 5.2 MB 35.6 MB/s eta 0:00:01\r     |████████████████████████▌       | 5.2 MB 35.6 MB/s eta 0:00:01\r     |████████████████████████▋       | 5.2 MB 35.6 MB/s eta 0:00:01\r     |████████████████████████▋       | 5.3 MB 35.6 MB/s eta 0:00:01\r     |████████████████████████▊       | 5.3 MB 35.6 MB/s eta 0:00:01\r     |████████████████████████▊       | 5.3 MB 35.6 MB/s eta 0:00:01\r     |████████████████████████▊       | 5.3 MB 35.6 MB/s eta 0:00:01\r     |████████████████████████▉       | 5.3 MB 35.6 MB/s eta 0:00:01\r     |████████████████████████▉       | 5.3 MB 35.6 MB/s eta 0:00:01\r     |█████████████████████████       | 5.3 MB 35.6 MB/s eta 0:00:01\r     |█████████████████████████       | 5.3 MB 35.6 MB/s eta 0:00:01\r     |█████████████████████████       | 5.3 MB 35.6 MB/s eta 0:00:01\r     |█████████████████████████       | 5.3 MB 35.6 MB/s eta 0:00:01\r     |█████████████████████████       | 5.4 MB 35.6 MB/s eta 0:00:01\r     |█████████████████████████▏      | 5.4 MB 35.6 MB/s eta 0:00:01\r     |█████████████████████████▏      | 5.4 MB 35.6 MB/s eta 0:00:01\r     |█████████████████████████▎      | 5.4 MB 35.6 MB/s eta 0:00:01\r     |█████████████████████████▎      | 5.4 MB 35.6 MB/s eta 0:00:01\r     |█████████████████████████▍      | 5.4 MB 35.6 MB/s eta 0:00:01\r     |█████████████████████████▍      | 5.4 MB 35.6 MB/s eta 0:00:01\r     |█████████████████████████▌      | 5.4 MB 35.6 MB/s eta 0:00:01\r     |█████████████████████████▌      | 5.4 MB 35.6 MB/s eta 0:00:01\r     |█████████████████████████▌      | 5.4 MB 35.6 MB/s eta 0:00:01\r     |█████████████████████████▋      | 5.5 MB 35.6 MB/s eta 0:00:01\r     |█████████████████████████▋      | 5.5 MB 35.6 MB/s eta 0:00:01\r     |█████████████████████████▊      | 5.5 MB 35.6 MB/s eta 0:00:01\r     |█████████████████████████▊      | 5.5 MB 35.6 MB/s eta 0:00:01\r     |█████████████████████████▉      | 5.5 MB 35.6 MB/s eta 0:00:01\r     |█████████████████████████▉      | 5.5 MB 35.6 MB/s eta 0:00:01\r     |█████████████████████████▉      | 5.5 MB 35.6 MB/s eta 0:00:01\r     |██████████████████████████      | 5.5 MB 35.6 MB/s eta 0:00:01\r     |██████████████████████████      | 5.5 MB 35.6 MB/s eta 0:00:01\r     |██████████████████████████      | 5.6 MB 35.6 MB/s eta 0:00:01\r     |██████████████████████████      | 5.6 MB 35.6 MB/s eta 0:00:01\r     |██████████████████████████▏     | 5.6 MB 35.6 MB/s eta 0:00:01\r     |██████████████████████████▏     | 5.6 MB 35.6 MB/s eta 0:00:01\r     |██████████████████████████▏     | 5.6 MB 35.6 MB/s eta 0:00:01\r     |██████████████████████████▎     | 5.6 MB 35.6 MB/s eta 0:00:01\r     |██████████████████████████▎     | 5.6 MB 35.6 MB/s eta 0:00:01\r     |██████████████████████████▍     | 5.6 MB 35.6 MB/s eta 0:00:01\r     |██████████████████████████▍     | 5.6 MB 35.6 MB/s eta 0:00:01\r     |██████████████████████████▌     | 5.6 MB 35.6 MB/s eta 0:00:01\r     |██████████████████████████▌     | 5.7 MB 35.6 MB/s eta 0:00:01\r     |██████████████████████████▌     | 5.7 MB 35.6 MB/s eta 0:00:01\r     |██████████████████████████▋     | 5.7 MB 35.6 MB/s eta 0:00:01\r     |██████████████████████████▋     | 5.7 MB 35.6 MB/s eta 0:00:01\r     |██████████████████████████▊     | 5.7 MB 35.6 MB/s eta 0:00:01\r     |██████████████████████████▊     | 5.7 MB 35.6 MB/s eta 0:00:01\r     |██████████████████████████▉     | 5.7 MB 35.6 MB/s eta 0:00:01\r     |██████████████████████████▉     | 5.7 MB 35.6 MB/s eta 0:00:01\r     |██████████████████████████▉     | 5.7 MB 35.6 MB/s eta 0:00:01\r     |███████████████████████████     | 5.7 MB 35.6 MB/s eta 0:00:01\r     |███████████████████████████     | 5.8 MB 35.6 MB/s eta 0:00:01\r     |███████████████████████████     | 5.8 MB 35.6 MB/s eta 0:00:01\r     |███████████████████████████     | 5.8 MB 35.6 MB/s eta 0:00:01\r     |███████████████████████████▏    | 5.8 MB 35.6 MB/s eta 0:00:01\r     |███████████████████████████▏    | 5.8 MB 35.6 MB/s eta 0:00:01\r     |███████████████████████████▏    | 5.8 MB 35.6 MB/s eta 0:00:01\r     |███████████████████████████▎    | 5.8 MB 35.6 MB/s eta 0:00:01\r     |███████████████████████████▎    | 5.8 MB 35.6 MB/s eta 0:00:01\r     |███████████████████████████▍    | 5.8 MB 35.6 MB/s eta 0:00:01\r     |███████████████████████████▍    | 5.8 MB 35.6 MB/s eta 0:00:01\r     |███████████████████████████▌    | 5.9 MB 35.6 MB/s eta 0:00:01\r     |███████████████████████████▌    | 5.9 MB 35.6 MB/s eta 0:00:01\r     |███████████████████████████▋    | 5.9 MB 35.6 MB/s eta 0:00:01\r     |███████████████████████████▋    | 5.9 MB 35.6 MB/s eta 0:00:01\r     |███████████████████████████▋    | 5.9 MB 35.6 MB/s eta 0:00:01\r     |███████████████████████████▊    | 5.9 MB 35.6 MB/s eta 0:00:01\r     |███████████████████████████▊    | 5.9 MB 35.6 MB/s eta 0:00:01\r     |███████████████████████████▉    | 5.9 MB 35.6 MB/s eta 0:00:01\r     |███████████████████████████▉    | 5.9 MB 35.6 MB/s eta 0:00:01\r     |████████████████████████████    | 5.9 MB 35.6 MB/s eta 0:00:01\r     |████████████████████████████    | 6.0 MB 35.6 MB/s eta 0:00:01\r     |████████████████████████████    | 6.0 MB 35.6 MB/s eta 0:00:01\r     |████████████████████████████    | 6.0 MB 35.6 MB/s eta 0:00:01\r     |████████████████████████████    | 6.0 MB 35.6 MB/s eta 0:00:01\r     |████████████████████████████▏   | 6.0 MB 35.6 MB/s eta 0:00:01\r     |████████████████████████████▏   | 6.0 MB 35.6 MB/s eta 0:00:01\r     |████████████████████████████▎   | 6.0 MB 35.6 MB/s eta 0:00:01\r     |████████████████████████████▎   | 6.0 MB 35.6 MB/s eta 0:00:01\r     |████████████████████████████▎   | 6.0 MB 35.6 MB/s eta 0:00:01\r     |████████████████████████████▍   | 6.1 MB 35.6 MB/s eta 0:00:01\r     |████████████████████████████▍   | 6.1 MB 35.6 MB/s eta 0:00:01\r     |████████████████████████████▌   | 6.1 MB 35.6 MB/s eta 0:00:01\r     |████████████████████████████▌   | 6.1 MB 35.6 MB/s eta 0:00:01\r     |████████████████████████████▋   | 6.1 MB 35.6 MB/s eta 0:00:01\r     |████████████████████████████▋   | 6.1 MB 35.6 MB/s eta 0:00:01\r     |████████████████████████████▋   | 6.1 MB 35.6 MB/s eta 0:00:01\r     |████████████████████████████▊   | 6.1 MB 35.6 MB/s eta 0:00:01\r     |████████████████████████████▊   | 6.1 MB 35.6 MB/s eta 0:00:01\r     |████████████████████████████▉   | 6.1 MB 35.6 MB/s eta 0:00:01\r     |████████████████████████████▉   | 6.2 MB 35.6 MB/s eta 0:00:01\r     |█████████████████████████████   | 6.2 MB 35.6 MB/s eta 0:00:01\r     |█████████████████████████████   | 6.2 MB 35.6 MB/s eta 0:00:01\r     |█████████████████████████████   | 6.2 MB 35.6 MB/s eta 0:00:01\r     |█████████████████████████████   | 6.2 MB 35.6 MB/s eta 0:00:01\r     |█████████████████████████████   | 6.2 MB 35.6 MB/s eta 0:00:01\r     |█████████████████████████████▏  | 6.2 MB 35.6 MB/s eta 0:00:01\r     |█████████████████████████████▏  | 6.2 MB 35.6 MB/s eta 0:00:01\r     |█████████████████████████████▎  | 6.2 MB 35.6 MB/s eta 0:00:01\r     |█████████████████████████████▎  | 6.2 MB 35.6 MB/s eta 0:00:01\r     |█████████████████████████████▍  | 6.3 MB 35.6 MB/s eta 0:00:01\r     |█████████████████████████████▍  | 6.3 MB 35.6 MB/s eta 0:00:01\r     |█████████████████████████████▍  | 6.3 MB 35.6 MB/s eta 0:00:01\r     |█████████████████████████████▌  | 6.3 MB 35.6 MB/s eta 0:00:01\r     |█████████████████████████████▌  | 6.3 MB 35.6 MB/s eta 0:00:01\r     |█████████████████████████████▋  | 6.3 MB 35.6 MB/s eta 0:00:01\r     |█████████████████████████████▋  | 6.3 MB 35.6 MB/s eta 0:00:01\r     |█████████████████████████████▊  | 6.3 MB 35.6 MB/s eta 0:00:01\r     |█████████████████████████████▊  | 6.3 MB 35.6 MB/s eta 0:00:01\r     |█████████████████████████████▊  | 6.3 MB 35.6 MB/s eta 0:00:01\r     |█████████████████████████████▉  | 6.4 MB 35.6 MB/s eta 0:00:01\r     |█████████████████████████████▉  | 6.4 MB 35.6 MB/s eta 0:00:01\r     |██████████████████████████████  | 6.4 MB 35.6 MB/s eta 0:00:01\r     |██████████████████████████████  | 6.4 MB 35.6 MB/s eta 0:00:01\r     |██████████████████████████████  | 6.4 MB 35.6 MB/s eta 0:00:01\r     |██████████████████████████████  | 6.4 MB 35.6 MB/s eta 0:00:01\r     |██████████████████████████████  | 6.4 MB 35.6 MB/s eta 0:00:01\r     |██████████████████████████████▏ | 6.4 MB 35.6 MB/s eta 0:00:01\r     |██████████████████████████████▏ | 6.4 MB 35.6 MB/s eta 0:00:01\r     |██████████████████████████████▎ | 6.5 MB 35.6 MB/s eta 0:00:01\r     |██████████████████████████████▎ | 6.5 MB 35.6 MB/s eta 0:00:01\r     |██████████████████████████████▍ | 6.5 MB 35.6 MB/s eta 0:00:01\r     |██████████████████████████████▍ | 6.5 MB 35.6 MB/s eta 0:00:01\r     |██████████████████████████████▍ | 6.5 MB 35.6 MB/s eta 0:00:01\r     |██████████████████████████████▌ | 6.5 MB 35.6 MB/s eta 0:00:01\r     |██████████████████████████████▌ | 6.5 MB 35.6 MB/s eta 0:00:01\r     |██████████████████████████████▋ | 6.5 MB 35.6 MB/s eta 0:00:01\r     |██████████████████████████████▋ | 6.5 MB 35.6 MB/s eta 0:00:01\r     |██████████████████████████████▊ | 6.5 MB 35.6 MB/s eta 0:00:01\r     |██████████████████████████████▊ | 6.6 MB 35.6 MB/s eta 0:00:01\r     |██████████████████████████████▊ | 6.6 MB 35.6 MB/s eta 0:00:01\r     |██████████████████████████████▉ | 6.6 MB 35.6 MB/s eta 0:00:01\r     |██████████████████████████████▉ | 6.6 MB 35.6 MB/s eta 0:00:01\r     |███████████████████████████████ | 6.6 MB 35.6 MB/s eta 0:00:01\r     |███████████████████████████████ | 6.6 MB 35.6 MB/s eta 0:00:01\r     |███████████████████████████████ | 6.6 MB 35.6 MB/s eta 0:00:01\r     |███████████████████████████████ | 6.6 MB 35.6 MB/s eta 0:00:01\r     |███████████████████████████████ | 6.6 MB 35.6 MB/s eta 0:00:01\r     |███████████████████████████████▏| 6.6 MB 35.6 MB/s eta 0:00:01\r     |███████████████████████████████▏| 6.7 MB 35.6 MB/s eta 0:00:01\r     |███████████████████████████████▎| 6.7 MB 35.6 MB/s eta 0:00:01\r     |███████████████████████████████▎| 6.7 MB 35.6 MB/s eta 0:00:01\r     |███████████████████████████████▍| 6.7 MB 35.6 MB/s eta 0:00:01\r     |███████████████████████████████▍| 6.7 MB 35.6 MB/s eta 0:00:01\r     |███████████████████████████████▌| 6.7 MB 35.6 MB/s eta 0:00:01\r     |███████████████████████████████▌| 6.7 MB 35.6 MB/s eta 0:00:01\r     |███████████████████████████████▌| 6.7 MB 35.6 MB/s eta 0:00:01\r     |███████████████████████████████▋| 6.7 MB 35.6 MB/s eta 0:00:01\r     |███████████████████████████████▋| 6.7 MB 35.6 MB/s eta 0:00:01\r     |███████████████████████████████▊| 6.8 MB 35.6 MB/s eta 0:00:01\r     |███████████████████████████████▊| 6.8 MB 35.6 MB/s eta 0:00:01\r     |███████████████████████████████▉| 6.8 MB 35.6 MB/s eta 0:00:01\r     |███████████████████████████████▉| 6.8 MB 35.6 MB/s eta 0:00:01\r     |███████████████████████████████▉| 6.8 MB 35.6 MB/s eta 0:00:01\r     |████████████████████████████████| 6.8 MB 35.6 MB/s eta 0:00:01\r     |████████████████████████████████| 6.8 MB 35.6 MB/s eta 0:00:01\r     |████████████████████████████████| 6.8 MB 35.6 MB/s \r\nRequirement already satisfied, skipping upgrade: numpy&gt;=1.13.3 in /databricks/conda/envs/databricks-ml/lib/python3.7/site-packages (from imbalanced-learn) (1.18.1)\r\nRequirement already satisfied, skipping upgrade: joblib&gt;=0.11 in /databricks/conda/envs/databricks-ml/lib/python3.7/site-packages (from imbalanced-learn) (0.14.1)\r\nCollecting threadpoolctl&gt;=2.0.0\r\n  Downloading threadpoolctl-2.1.0-py3-none-any.whl (12 kB)\r\nInstalling collected packages: threadpoolctl, scikit-learn, imbalanced-learn\r\n  Attempting uninstall: scikit-learn\r\n    Found existing installation: scikit-learn 0.22.1\r\n    Uninstalling scikit-learn-0.22.1:\r\n      Successfully uninstalled scikit-learn-0.22.1\r\nSuccessfully installed imbalanced-learn-0.7.0 scikit-learn-0.23.2 threadpoolctl-2.1.0\r\n</div>",
       "datasetInfos": [],
       "removedWidgets": [],
       "type": "html"
      }
     },
     "output_type": "display_data"
    }
   ],
   "source": [
    "!pip install -U imbalanced-learn"
   ]
  },
  {
   "cell_type": "code",
   "execution_count": 0,
   "metadata": {
    "application/vnd.databricks.v1+cell": {
     "inputWidgets": {},
     "nuid": "b04f8a78-6dc2-4aa4-819e-778baa54388b",
     "showTitle": false,
     "title": ""
    }
   },
   "outputs": [
    {
     "data": {
      "text/html": [
       "<style scoped>\n",
       "  .ansiout {\n",
       "    display: block;\n",
       "    unicode-bidi: embed;\n",
       "    white-space: pre-wrap;\n",
       "    word-wrap: break-word;\n",
       "    word-break: break-all;\n",
       "    font-family: \"Source Code Pro\", \"Menlo\", monospace;;\n",
       "    font-size: 13px;\n",
       "    color: #555;\n",
       "    margin-left: 4px;\n",
       "    line-height: 19px;\n",
       "  }\n",
       "</style>\n",
       "<div class=\"ansiout\">[&#39;DEP_DELAY_NEW_p&#39;, &#39;NAS_DELAY_p&#39;, &#39;CARRIER_DELAY_p&#39;, &#39;LATE_AIRCRAFT_DELAY_p&#39;, &#39;HOUR&#39;, &#39;propDelayed&#39;, &#39;meanDelayAcrossFlights&#39;, &#39;ORIGIN_index&#39;, &#39;WEATHER_DELAY_p&#39;, &#39;avgWND_speed&#39;, &#39;ORIGIN_p_index&#39;, &#39;avgCIG_height&#39;, &#39;DAY_OF_YEAR&#39;, &#39;avgVIS_distance&#39;]\n",
       "Out[10]: &#39;ORIGIN_p_index&#39;</div>"
      ]
     },
     "metadata": {
      "application/vnd.databricks.v1+output": {
       "addedWidgets": {},
       "arguments": {},
       "data": "<div class=\"ansiout\">[&#39;DEP_DELAY_NEW_p&#39;, &#39;NAS_DELAY_p&#39;, &#39;CARRIER_DELAY_p&#39;, &#39;LATE_AIRCRAFT_DELAY_p&#39;, &#39;HOUR&#39;, &#39;propDelayed&#39;, &#39;meanDelayAcrossFlights&#39;, &#39;ORIGIN_index&#39;, &#39;WEATHER_DELAY_p&#39;, &#39;avgWND_speed&#39;, &#39;ORIGIN_p_index&#39;, &#39;avgCIG_height&#39;, &#39;DAY_OF_YEAR&#39;, &#39;avgVIS_distance&#39;]\nOut[10]: &#39;ORIGIN_p_index&#39;</div>",
       "datasetInfos": [],
       "removedWidgets": [],
       "type": "html"
      }
     },
     "output_type": "display_data"
    }
   ],
   "source": [
    "print(feat_red)\n",
    "\n",
    "# index variables are 7 and 10"
   ]
  },
  {
   "cell_type": "code",
   "execution_count": 0,
   "metadata": {
    "application/vnd.databricks.v1+cell": {
     "inputWidgets": {},
     "nuid": "ca83e2e8-7f72-4af7-b0d6-42a6d234d59f",
     "showTitle": false,
     "title": ""
    }
   },
   "outputs": [
    {
     "data": {
      "text/html": [
       "<style scoped>\n",
       "  .ansiout {\n",
       "    display: block;\n",
       "    unicode-bidi: embed;\n",
       "    white-space: pre-wrap;\n",
       "    word-wrap: break-word;\n",
       "    word-break: break-all;\n",
       "    font-family: \"Source Code Pro\", \"Menlo\", monospace;;\n",
       "    font-size: 13px;\n",
       "    color: #555;\n",
       "    margin-left: 4px;\n",
       "    line-height: 19px;\n",
       "  }\n",
       "</style>\n",
       "<div class=\"ansiout\"></div>"
      ]
     },
     "metadata": {
      "application/vnd.databricks.v1+output": {
       "addedWidgets": {},
       "arguments": {},
       "data": "<div class=\"ansiout\"></div>",
       "datasetInfos": [],
       "removedWidgets": [],
       "type": "html"
      }
     },
     "output_type": "display_data"
    }
   ],
   "source": [
    "X = np.array(train_18.select(feat_red).collect())\n",
    "Y = np.array(train_18.select(\"DEP_DEL15\").collect())"
   ]
  },
  {
   "cell_type": "code",
   "execution_count": 0,
   "metadata": {
    "application/vnd.databricks.v1+cell": {
     "inputWidgets": {},
     "nuid": "74423489-e241-4d1c-a23c-825266f1d9ba",
     "showTitle": false,
     "title": ""
    }
   },
   "outputs": [
    {
     "data": {
      "text/html": [
       "<style scoped>\n",
       "  .ansiout {\n",
       "    display: block;\n",
       "    unicode-bidi: embed;\n",
       "    white-space: pre-wrap;\n",
       "    word-wrap: break-word;\n",
       "    word-break: break-all;\n",
       "    font-family: \"Source Code Pro\", \"Menlo\", monospace;;\n",
       "    font-size: 13px;\n",
       "    color: #555;\n",
       "    margin-left: 4px;\n",
       "    line-height: 19px;\n",
       "  }\n",
       "</style>\n",
       "<div class=\"ansiout\"></div>"
      ]
     },
     "metadata": {
      "application/vnd.databricks.v1+output": {
       "addedWidgets": {},
       "arguments": {},
       "data": "<div class=\"ansiout\"></div>",
       "datasetInfos": [],
       "removedWidgets": [],
       "type": "html"
      }
     },
     "output_type": "display_data"
    }
   ],
   "source": [
    "from imblearn.over_sampling import SMOTENC\n",
    "sm = SMOTENC(random_state=24601, categorical_features=[7, 10], sampling_strategy='minority', n_jobs=3)"
   ]
  },
  {
   "cell_type": "code",
   "execution_count": 0,
   "metadata": {
    "application/vnd.databricks.v1+cell": {
     "inputWidgets": {},
     "nuid": "0ca8742d-b10d-4127-b360-e65d8d6fd39a",
     "showTitle": false,
     "title": ""
    }
   },
   "outputs": [
    {
     "data": {
      "text/html": [
       "<style scoped>\n",
       "  .ansiout {\n",
       "    display: block;\n",
       "    unicode-bidi: embed;\n",
       "    white-space: pre-wrap;\n",
       "    word-wrap: break-word;\n",
       "    word-break: break-all;\n",
       "    font-family: \"Source Code Pro\", \"Menlo\", monospace;;\n",
       "    font-size: 13px;\n",
       "    color: #555;\n",
       "    margin-left: 4px;\n",
       "    line-height: 19px;\n",
       "  }\n",
       "</style>\n",
       "java.lang.RuntimeException: abort: DriverClient destroyed\n",
       "\tat com.databricks.backend.daemon.driver.DriverClient.$anonfun$poll$3(DriverClient.scala:381)\n",
       "\tat scala.concurrent.Future.$anonfun$flatMap$1(Future.scala:307)\n",
       "\tat scala.concurrent.impl.Promise.$anonfun$transformWith$1(Promise.scala:41)\n",
       "\tat scala.concurrent.impl.CallbackRunnable.run(Promise.scala:64)\n",
       "\tat com.databricks.threading.NamedExecutor$$anon$2.$anonfun$run$1(NamedExecutor.scala:345)\n",
       "\tat scala.runtime.java8.JFunction0$mcV$sp.apply(JFunction0$mcV$sp.java:23)\n",
       "\tat com.databricks.logging.UsageLogging.$anonfun$withAttributionContext$1(UsageLogging.scala:240)\n",
       "\tat scala.util.DynamicVariable.withValue(DynamicVariable.scala:62)\n",
       "\tat com.databricks.logging.UsageLogging.withAttributionContext(UsageLogging.scala:235)\n",
       "\tat com.databricks.logging.UsageLogging.withAttributionContext$(UsageLogging.scala:232)\n",
       "\tat com.databricks.threading.NamedExecutor.withAttributionContext(NamedExecutor.scala:275)\n",
       "\tat com.databricks.threading.NamedExecutor$$anon$2.run(NamedExecutor.scala:345)\n",
       "\tat java.base/java.util.concurrent.ThreadPoolExecutor.runWorker(ThreadPoolExecutor.java:1128)\n",
       "\tat java.base/java.util.concurrent.ThreadPoolExecutor$Worker.run(ThreadPoolExecutor.java:628)\n",
       "\tat java.base/java.lang.Thread.run(Thread.java:834)"
      ]
     },
     "metadata": {
      "application/vnd.databricks.v1+output": {
       "arguments": {},
       "data": "java.lang.RuntimeException: abort: DriverClient destroyed\n\tat com.databricks.backend.daemon.driver.DriverClient.$anonfun$poll$3(DriverClient.scala:381)\n\tat scala.concurrent.Future.$anonfun$flatMap$1(Future.scala:307)\n\tat scala.concurrent.impl.Promise.$anonfun$transformWith$1(Promise.scala:41)\n\tat scala.concurrent.impl.CallbackRunnable.run(Promise.scala:64)\n\tat com.databricks.threading.NamedExecutor$$anon$2.$anonfun$run$1(NamedExecutor.scala:345)\n\tat scala.runtime.java8.JFunction0$mcV$sp.apply(JFunction0$mcV$sp.java:23)\n\tat com.databricks.logging.UsageLogging.$anonfun$withAttributionContext$1(UsageLogging.scala:240)\n\tat scala.util.DynamicVariable.withValue(DynamicVariable.scala:62)\n\tat com.databricks.logging.UsageLogging.withAttributionContext(UsageLogging.scala:235)\n\tat com.databricks.logging.UsageLogging.withAttributionContext$(UsageLogging.scala:232)\n\tat com.databricks.threading.NamedExecutor.withAttributionContext(NamedExecutor.scala:275)\n\tat com.databricks.threading.NamedExecutor$$anon$2.run(NamedExecutor.scala:345)\n\tat java.base/java.util.concurrent.ThreadPoolExecutor.runWorker(ThreadPoolExecutor.java:1128)\n\tat java.base/java.util.concurrent.ThreadPoolExecutor$Worker.run(ThreadPoolExecutor.java:628)\n\tat java.base/java.lang.Thread.run(Thread.java:834)\n",
       "errorSummary": "Internal error, sorry. Attach your notebook to a different cluster or restart the current cluster.",
       "type": "ipynbError"
      }
     },
     "output_type": "display_data"
    }
   ],
   "source": [
    "X_res, Y_res = sm.fit_resample(X, Y)"
   ]
  },
  {
   "cell_type": "code",
   "execution_count": 0,
   "metadata": {
    "application/vnd.databricks.v1+cell": {
     "inputWidgets": {},
     "nuid": "56fc7c97-c9ce-42ed-a027-628689a11680",
     "showTitle": false,
     "title": ""
    }
   },
   "outputs": [
    {
     "data": {
      "text/html": [
       "<style scoped>\n",
       "  .ansiout {\n",
       "    display: block;\n",
       "    unicode-bidi: embed;\n",
       "    white-space: pre-wrap;\n",
       "    word-wrap: break-word;\n",
       "    word-break: break-all;\n",
       "    font-family: \"Source Code Pro\", \"Menlo\", monospace;;\n",
       "    font-size: 13px;\n",
       "    color: #555;\n",
       "    margin-left: 4px;\n",
       "    line-height: 19px;\n",
       "  }\n",
       "</style>\n",
       "<div class=\"ansiout\">Out[34]: (35502, 14)</div>"
      ]
     },
     "metadata": {
      "application/vnd.databricks.v1+output": {
       "addedWidgets": {},
       "arguments": {},
       "data": "<div class=\"ansiout\">Out[34]: (35502, 14)</div>",
       "datasetInfos": [],
       "removedWidgets": [],
       "type": "html"
      }
     },
     "output_type": "display_data"
    }
   ],
   "source": [
    "X_res.shape"
   ]
  },
  {
   "cell_type": "code",
   "execution_count": 0,
   "metadata": {
    "application/vnd.databricks.v1+cell": {
     "inputWidgets": {},
     "nuid": "884bd6a4-d3c0-4771-babe-fd5ad5dbbdc6",
     "showTitle": false,
     "title": ""
    }
   },
   "outputs": [
    {
     "data": {
      "text/html": [
       "<style scoped>\n",
       "  .ansiout {\n",
       "    display: block;\n",
       "    unicode-bidi: embed;\n",
       "    white-space: pre-wrap;\n",
       "    word-wrap: break-word;\n",
       "    word-break: break-all;\n",
       "    font-family: \"Source Code Pro\", \"Menlo\", monospace;;\n",
       "    font-size: 13px;\n",
       "    color: #555;\n",
       "    margin-left: 4px;\n",
       "    line-height: 19px;\n",
       "  }\n",
       "</style>\n",
       "<div class=\"ansiout\"></div>"
      ]
     },
     "metadata": {
      "application/vnd.databricks.v1+output": {
       "addedWidgets": {},
       "arguments": {},
       "data": "<div class=\"ansiout\"></div>",
       "datasetInfos": [],
       "removedWidgets": [],
       "type": "html"
      }
     },
     "output_type": "display_data"
    }
   ],
   "source": [
    "array_res = np.hstack((X_res, Y_res.reshape(35502, 1)))"
   ]
  },
  {
   "cell_type": "code",
   "execution_count": 0,
   "metadata": {
    "application/vnd.databricks.v1+cell": {
     "inputWidgets": {},
     "nuid": "7a4e722d-4e53-4754-969a-c1a2eb846c7e",
     "showTitle": false,
     "title": ""
    }
   },
   "outputs": [
    {
     "data": {
      "text/html": [
       "<style scoped>\n",
       "  .ansiout {\n",
       "    display: block;\n",
       "    unicode-bidi: embed;\n",
       "    white-space: pre-wrap;\n",
       "    word-wrap: break-word;\n",
       "    word-break: break-all;\n",
       "    font-family: \"Source Code Pro\", \"Menlo\", monospace;;\n",
       "    font-size: 13px;\n",
       "    color: #555;\n",
       "    margin-left: 4px;\n",
       "    line-height: 19px;\n",
       "  }\n",
       "</style>\n",
       "<div class=\"ansiout\">root\n",
       "-- DEP_DELAY_NEW_p: float (nullable = true)\n",
       "-- NAS_DELAY_p: float (nullable = true)\n",
       "-- CARRIER_DELAY_p: float (nullable = true)\n",
       "-- LATE_AIRCRAFT_DELAY_p: float (nullable = true)\n",
       "-- HOUR: integer (nullable = true)\n",
       "-- propDelayed: double (nullable = true)\n",
       "-- meanDelayAcrossFlights: double (nullable = true)\n",
       "-- ORIGIN_index: double (nullable = true)\n",
       "-- WEATHER_DELAY_p: float (nullable = true)\n",
       "-- avgWND_speed: double (nullable = true)\n",
       "-- ORIGIN_p_index: double (nullable = true)\n",
       "-- avgCIG_height: double (nullable = true)\n",
       "-- DAY_OF_YEAR: integer (nullable = true)\n",
       "-- avgVIS_distance: double (nullable = true)\n",
       "-- DEP_DEL15: float (nullable = true)\n",
       "\n",
       "</div>"
      ]
     },
     "metadata": {
      "application/vnd.databricks.v1+output": {
       "addedWidgets": {},
       "arguments": {},
       "data": "<div class=\"ansiout\">root\n |-- DEP_DELAY_NEW_p: float (nullable = true)\n |-- NAS_DELAY_p: float (nullable = true)\n |-- CARRIER_DELAY_p: float (nullable = true)\n |-- LATE_AIRCRAFT_DELAY_p: float (nullable = true)\n |-- HOUR: integer (nullable = true)\n |-- propDelayed: double (nullable = true)\n |-- meanDelayAcrossFlights: double (nullable = true)\n |-- ORIGIN_index: double (nullable = true)\n |-- WEATHER_DELAY_p: float (nullable = true)\n |-- avgWND_speed: double (nullable = true)\n |-- ORIGIN_p_index: double (nullable = true)\n |-- avgCIG_height: double (nullable = true)\n |-- DAY_OF_YEAR: integer (nullable = true)\n |-- avgVIS_distance: double (nullable = true)\n |-- DEP_DEL15: float (nullable = true)\n\n</div>",
       "datasetInfos": [],
       "removedWidgets": [],
       "type": "html"
      }
     },
     "output_type": "display_data"
    }
   ],
   "source": [
    "train_mini.select(feat_red + [\"DEP_DEL15\"]).printSchema()"
   ]
  },
  {
   "cell_type": "code",
   "execution_count": 0,
   "metadata": {
    "application/vnd.databricks.v1+cell": {
     "inputWidgets": {},
     "nuid": "599fafce-cbbe-4f78-bd71-b4d82dfa4026",
     "showTitle": false,
     "title": ""
    }
   },
   "outputs": [
    {
     "data": {
      "text/html": [
       "<style scoped>\n",
       "  .ansiout {\n",
       "    display: block;\n",
       "    unicode-bidi: embed;\n",
       "    white-space: pre-wrap;\n",
       "    word-wrap: break-word;\n",
       "    word-break: break-all;\n",
       "    font-family: \"Source Code Pro\", \"Menlo\", monospace;;\n",
       "    font-size: 13px;\n",
       "    color: #555;\n",
       "    margin-left: 4px;\n",
       "    line-height: 19px;\n",
       "  }\n",
       "</style>\n",
       "<div class=\"ansiout\"></div>"
      ]
     },
     "metadata": {
      "application/vnd.databricks.v1+output": {
       "addedWidgets": {},
       "arguments": {},
       "data": "<div class=\"ansiout\"></div>",
       "datasetInfos": [],
       "removedWidgets": [],
       "type": "html"
      }
     },
     "output_type": "display_data"
    }
   ],
   "source": [
    "def recast(x):\n",
    "  x[4] = int(x[4])\n",
    "  x[12] = int(x[12])\n",
    "  return x"
   ]
  },
  {
   "cell_type": "code",
   "execution_count": 0,
   "metadata": {
    "application/vnd.databricks.v1+cell": {
     "inputWidgets": {},
     "nuid": "4dd034eb-1e68-4ed5-8d6e-3bc98eb1556d",
     "showTitle": false,
     "title": ""
    }
   },
   "outputs": [
    {
     "data": {
      "text/html": [
       "<style scoped>\n",
       "  .ansiout {\n",
       "    display: block;\n",
       "    unicode-bidi: embed;\n",
       "    white-space: pre-wrap;\n",
       "    word-wrap: break-word;\n",
       "    word-break: break-all;\n",
       "    font-family: \"Source Code Pro\", \"Menlo\", monospace;;\n",
       "    font-size: 13px;\n",
       "    color: #555;\n",
       "    margin-left: 4px;\n",
       "    line-height: 19px;\n",
       "  }\n",
       "</style>\n",
       "<div class=\"ansiout\">+---------------+-----------+---------------+---------------------+----+-----------+----------------------+------------+---------------+------------+--------------+-------------+-----------+---------------+---------+\n",
       "DEP_DELAY_NEW_p|NAS_DELAY_p|CARRIER_DELAY_p|LATE_AIRCRAFT_DELAY_p|HOUR|propDelayed|meanDelayAcrossFlights|ORIGIN_index|WEATHER_DELAY_p|avgWND_speed|ORIGIN_p_index|avgCIG_height|DAY_OF_YEAR|avgVIS_distance|DEP_DEL15|\n",
       "+---------------+-----------+---------------+---------------------+----+-----------+----------------------+------------+---------------+------------+--------------+-------------+-----------+---------------+---------+\n",
       "            0.0|        0.0|            0.0|                  0.0|  12|       0.16|                 15.12|        94.0|            0.0|         0.0|           0.0|      22000.0|          2|        14484.0|      0.0|\n",
       "+---------------+-----------+---------------+---------------------+----+-----------+----------------------+------------+---------------+------------+--------------+-------------+-----------+---------------+---------+\n",
       "only showing top 1 row\n",
       "\n",
       "</div>"
      ]
     },
     "metadata": {
      "application/vnd.databricks.v1+output": {
       "addedWidgets": {},
       "arguments": {},
       "data": "<div class=\"ansiout\">+---------------+-----------+---------------+---------------------+----+-----------+----------------------+------------+---------------+------------+--------------+-------------+-----------+---------------+---------+\n|DEP_DELAY_NEW_p|NAS_DELAY_p|CARRIER_DELAY_p|LATE_AIRCRAFT_DELAY_p|HOUR|propDelayed|meanDelayAcrossFlights|ORIGIN_index|WEATHER_DELAY_p|avgWND_speed|ORIGIN_p_index|avgCIG_height|DAY_OF_YEAR|avgVIS_distance|DEP_DEL15|\n+---------------+-----------+---------------+---------------------+----+-----------+----------------------+------------+---------------+------------+--------------+-------------+-----------+---------------+---------+\n|            0.0|        0.0|            0.0|                  0.0|  12|       0.16|                 15.12|        94.0|            0.0|         0.0|           0.0|      22000.0|          2|        14484.0|      0.0|\n+---------------+-----------+---------------+---------------------+----+-----------+----------------------+------------+---------------+------------+--------------+-------------+-----------+---------------+---------+\nonly showing top 1 row\n\n</div>",
       "datasetInfos": [],
       "removedWidgets": [],
       "type": "html"
      }
     },
     "output_type": "display_data"
    }
   ],
   "source": [
    "rdd = sc.parallelize(array_res).map(lambda x: x.tolist()) \\\n",
    ".map(lambda x: recast(x))\n",
    "df_res = spark.createDataFrame(rdd, train_schema)\n",
    "df_res.show(1)"
   ]
  },
  {
   "cell_type": "code",
   "execution_count": 0,
   "metadata": {
    "application/vnd.databricks.v1+cell": {
     "inputWidgets": {},
     "nuid": "fd886916-08ae-4813-9253-4e6172c19b24",
     "showTitle": false,
     "title": ""
    }
   },
   "outputs": [
    {
     "data": {
      "text/html": [
       "<style scoped>\n",
       "  .ansiout {\n",
       "    display: block;\n",
       "    unicode-bidi: embed;\n",
       "    white-space: pre-wrap;\n",
       "    word-wrap: break-word;\n",
       "    word-break: break-all;\n",
       "    font-family: \"Source Code Pro\", \"Menlo\", monospace;;\n",
       "    font-size: 13px;\n",
       "    color: #555;\n",
       "    margin-left: 4px;\n",
       "    line-height: 19px;\n",
       "  }\n",
       "</style>\n",
       "<div class=\"ansiout\">35502\n",
       "6465721\n",
       "</div>"
      ]
     },
     "metadata": {
      "application/vnd.databricks.v1+output": {
       "addedWidgets": {},
       "arguments": {},
       "data": "<div class=\"ansiout\">35502\n6465721\n</div>",
       "datasetInfos": [],
       "removedWidgets": [],
       "type": "html"
      }
     },
     "output_type": "display_data"
    }
   ],
   "source": [
    "# assemble vector\n",
    "assembler2 = VectorAssembler(inputCols=feat_red, outputCol=\"feat_red\")\n",
    "train_mini_res = assembler2.transform(df_res).cache()\n",
    "test_fin2 = assembler2.transform(test_fin).cache()\n",
    "print(train_mini_res.count())\n",
    "print(test_fin2.count())"
   ]
  },
  {
   "cell_type": "code",
   "execution_count": 0,
   "metadata": {
    "application/vnd.databricks.v1+cell": {
     "inputWidgets": {},
     "nuid": "087cc87e-7652-4df8-8cf0-12abcfbfa734",
     "showTitle": false,
     "title": ""
    }
   },
   "outputs": [
    {
     "data": {
      "text/html": [
       "<style scoped>\n",
       "  .ansiout {\n",
       "    display: block;\n",
       "    unicode-bidi: embed;\n",
       "    white-space: pre-wrap;\n",
       "    word-wrap: break-word;\n",
       "    word-break: break-all;\n",
       "    font-family: \"Source Code Pro\", \"Menlo\", monospace;;\n",
       "    font-size: 13px;\n",
       "    color: #555;\n",
       "    margin-left: 4px;\n",
       "    line-height: 19px;\n",
       "  }\n",
       "</style>\n",
       "<div class=\"ansiout\">params [&#39;feat_red&#39;, 20, 5, 32.245293855667114, 0.13186097145080566]\n",
       "metrics [array([[4612187,  702056],\n",
       "       [ 501492,  649986]]), 0.8138571088978321, 0.4807439413864362, 0.5644797382147119, 0.5192576851792676, array([[15551,  2200],\n",
       "       [ 5727, 12024]]), 0.7520875684128224]\n",
       "</div>"
      ]
     },
     "metadata": {
      "application/vnd.databricks.v1+output": {
       "addedWidgets": {},
       "arguments": {},
       "data": "<div class=\"ansiout\">params [&#39;feat_red&#39;, 20, 5, 32.245293855667114, 0.13186097145080566]\nmetrics [array([[4612187,  702056],\n       [ 501492,  649986]]), 0.8138571088978321, 0.4807439413864362, 0.5644797382147119, 0.5192576851792676, array([[15551,  2200],\n       [ 5727, 12024]]), 0.7520875684128224]\n</div>",
       "datasetInfos": [],
       "removedWidgets": [],
       "type": "html"
      }
     },
     "output_type": "display_data"
    }
   ],
   "source": [
    "params6, metrics6, test_pred6, rf_importance6 = train_eval(traindata=train_mini_res, testdata = test_fin2, features=\"feat_red\", trees=20, depth=5, weights=False)"
   ]
  },
  {
   "cell_type": "code",
   "execution_count": 0,
   "metadata": {
    "application/vnd.databricks.v1+cell": {
     "inputWidgets": {},
     "nuid": "f005a830-d172-4046-bb4b-aea9078489c0",
     "showTitle": false,
     "title": ""
    }
   },
   "outputs": [
    {
     "data": {
      "text/html": [
       "<style scoped>\n",
       "  .ansiout {\n",
       "    display: block;\n",
       "    unicode-bidi: embed;\n",
       "    white-space: pre-wrap;\n",
       "    word-wrap: break-word;\n",
       "    word-break: break-all;\n",
       "    font-family: \"Source Code Pro\", \"Menlo\", monospace;;\n",
       "    font-size: 13px;\n",
       "    color: #555;\n",
       "    margin-left: 4px;\n",
       "    line-height: 19px;\n",
       "  }\n",
       "</style>\n",
       "<div class=\"ansiout\"></div>"
      ]
     },
     "metadata": {
      "application/vnd.databricks.v1+output": {
       "addedWidgets": {},
       "arguments": {},
       "data": "<div class=\"ansiout\"></div>",
       "datasetInfos": [],
       "removedWidgets": [],
       "type": "html"
      }
     },
     "output_type": "display_data"
    },
    {
     "data": {
      "text/html": [
       "<style scoped>\n",
       "  .ansiout {\n",
       "    display: block;\n",
       "    unicode-bidi: embed;\n",
       "    white-space: pre-wrap;\n",
       "    word-wrap: break-word;\n",
       "    word-break: break-all;\n",
       "    font-family: \"Source Code Pro\", \"Menlo\", monospace;;\n",
       "    font-size: 13px;\n",
       "    color: #555;\n",
       "    margin-left: 4px;\n",
       "    line-height: 19px;\n",
       "  }\n",
       "</style>\n",
       "<div class=\"ansiout\"><span class=\"ansi-red-fg\">---------------------------------------------------------------------------</span>\n",
       "<span class=\"ansi-red-fg\">NameError</span>                                 Traceback (most recent call last)\n",
       "<span class=\"ansi-green-fg\">&lt;command-2834511320028953&gt;</span> in <span class=\"ansi-cyan-fg\">&lt;module&gt;</span>\n",
       "<span class=\"ansi-green-fg\">----&gt; 1</span><span class=\"ansi-red-fg\"> </span>metrics6\n",
       "\n",
       "<span class=\"ansi-red-fg\">NameError</span>: name &#39;metrics6&#39; is not defined</div>"
      ]
     },
     "metadata": {
      "application/vnd.databricks.v1+output": {
       "arguments": {},
       "data": "<div class=\"ansiout\"><span class=\"ansi-red-fg\">---------------------------------------------------------------------------</span>\n<span class=\"ansi-red-fg\">NameError</span>                                 Traceback (most recent call last)\n<span class=\"ansi-green-fg\">&lt;command-2834511320028953&gt;</span> in <span class=\"ansi-cyan-fg\">&lt;module&gt;</span>\n<span class=\"ansi-green-fg\">----&gt; 1</span><span class=\"ansi-red-fg\"> </span>metrics6\n\n<span class=\"ansi-red-fg\">NameError</span>: name &#39;metrics6&#39; is not defined</div>",
       "errorSummary": "<span class=\"ansi-red-fg\">NameError</span>: name &#39;metrics6&#39; is not defined",
       "type": "ipynbError"
      }
     },
     "output_type": "display_data"
    }
   ],
   "source": [
    "  metrics = [cm, acc, prec, recall, f1, cm2, trainf1]"
   ]
  },
  {
   "cell_type": "code",
   "execution_count": 0,
   "metadata": {
    "application/vnd.databricks.v1+cell": {
     "inputWidgets": {},
     "nuid": "b2a1520e-349c-48db-a3a5-0baa51a52b21",
     "showTitle": false,
     "title": ""
    }
   },
   "outputs": [],
   "source": []
  }
 ],
 "metadata": {
  "application/vnd.databricks.v1+notebook": {
   "dashboards": [],
   "language": "python",
   "notebookName": "Feature transformation & modeling CLEAN",
   "notebookOrigID": 4061768275119023,
   "widgets": {}
  },
  "kernelspec": {
   "display_name": "Python 3",
   "language": "python",
   "name": "python3"
  },
  "language_info": {
   "codemirror_mode": {
    "name": "ipython",
    "version": 3
   },
   "file_extension": ".py",
   "mimetype": "text/x-python",
   "name": "python",
   "nbconvert_exporter": "python",
   "pygments_lexer": "ipython3",
   "version": "3.7.6"
  }
 },
 "nbformat": 4,
 "nbformat_minor": 1
}
